{
 "cells": [
  {
   "cell_type": "markdown",
   "metadata": {},
   "source": [
    "# Inference"
   ]
  },
  {
   "cell_type": "markdown",
   "metadata": {},
   "source": [
    "## Estimators"
   ]
  },
  {
   "cell_type": "code",
   "execution_count": null,
   "metadata": {},
   "outputs": [],
   "source": [
    "# assume population is Normal(180,5)\n",
    "# E[X]=180\n",
    "\n",
    "ran1 <- rnorm(20, 180, 5)\n",
    "ran1"
   ]
  },
  {
   "cell_type": "code",
   "execution_count": null,
   "metadata": {},
   "outputs": [],
   "source": [
    "est1 <- mean(ran1)\n",
    "\n",
    "est2 <- min(ran1)+diff(range(ran1))/2"
   ]
  },
  {
   "cell_type": "code",
   "execution_count": null,
   "metadata": {},
   "outputs": [],
   "source": [
    "est1\n",
    "est2"
   ]
  },
  {
   "cell_type": "code",
   "execution_count": null,
   "metadata": {},
   "outputs": [],
   "source": [
    "180 - est1\n",
    "180 - est2"
   ]
  },
  {
   "cell_type": "code",
   "execution_count": null,
   "metadata": {},
   "outputs": [],
   "source": [
    "est1 <- est2 <- c()\n",
    "\n",
    "for (i in 1:100) {\n",
    "\n",
    "    ran1 <- rnorm(20, 180, 5)\n",
    "\n",
    "    est1[i] <- mean(ran1)\n",
    "\n",
    "    est2[i]<-min(ran1)+diff(range(ran1))/2\n",
    "\n",
    "}"
   ]
  },
  {
   "cell_type": "code",
   "execution_count": null,
   "metadata": {},
   "outputs": [],
   "source": [
    "plot(x=1:100,y=est1,type=\"p\",col=\"red\")\n",
    "points(x=1:100,y=est2,col=\"blue\")\n",
    "abline(h=180,lty=2)"
   ]
  },
  {
   "cell_type": "code",
   "execution_count": null,
   "metadata": {},
   "outputs": [],
   "source": [
    "# bias\n",
    "mean(est1) - 180\n",
    "\n",
    "mean(est2) - 180"
   ]
  },
  {
   "cell_type": "code",
   "execution_count": null,
   "metadata": {},
   "outputs": [],
   "source": [
    "(mean(est1)-180)^2\n",
    "\n",
    "(mean(est2)-180)^2"
   ]
  },
  {
   "cell_type": "markdown",
   "metadata": {},
   "source": [
    "## Likelihood"
   ]
  },
  {
   "cell_type": "code",
   "execution_count": null,
   "metadata": {},
   "outputs": [],
   "source": [
    "# a random sample of X from a population\n",
    "X <- as.numeric(readLines(\"sample20.txt\"))\n",
    "X"
   ]
  },
  {
   "cell_type": "code",
   "execution_count": null,
   "metadata": {},
   "outputs": [],
   "source": [
    "# descriptive statistics\n",
    "# location\n",
    "mean(X)\n",
    "median(X)\n",
    "range(X)"
   ]
  },
  {
   "cell_type": "code",
   "execution_count": null,
   "metadata": {},
   "outputs": [],
   "source": [
    "# scale\n",
    "var(X)\n",
    "quantile(X)"
   ]
  },
  {
   "cell_type": "code",
   "execution_count": null,
   "metadata": {},
   "outputs": [],
   "source": [
    "## graphic summary\n",
    "hist(X)"
   ]
  },
  {
   "cell_type": "code",
   "execution_count": null,
   "metadata": {},
   "outputs": [],
   "source": [
    "## frequentist estimate of the expected value\n",
    "mean(X)"
   ]
  },
  {
   "cell_type": "markdown",
   "metadata": {},
   "source": [
    "### Likelihood\n",
    "\n",
    "1) choose a statistical model: e.g. Normal distribution with unknown $\\mu$ and known $\\sigma$: $N(\\mu, \\sigma$)"
   ]
  },
  {
   "cell_type": "code",
   "execution_count": null,
   "metadata": {},
   "outputs": [],
   "source": [
    " # dnorm(..., mean=mu, sd=sigma)"
   ]
  },
  {
   "cell_type": "markdown",
   "metadata": {},
   "source": [
    "2) define sample space of X and its pdf and cdf"
   ]
  },
  {
   "cell_type": "code",
   "execution_count": null,
   "metadata": {},
   "outputs": [],
   "source": [
    "x <- seq(160,190,0.01)"
   ]
  },
  {
   "cell_type": "code",
   "execution_count": null,
   "metadata": {},
   "outputs": [],
   "source": [
    "# pdf e.g. assuming mu=170\n",
    "plot(x,y=dnorm(x, mean=170, sd=5), type=\"l\")"
   ]
  },
  {
   "cell_type": "code",
   "execution_count": null,
   "metadata": {},
   "outputs": [],
   "source": [
    "# cdf e.g. assuming mu=170\n",
    "plot(x,y=pnorm(x, mean=170, sd=5), type=\"l\")"
   ]
  },
  {
   "cell_type": "markdown",
   "metadata": {},
   "source": [
    "3) $P(D|\\mu=170, \\sigma=5)$"
   ]
  },
  {
   "cell_type": "code",
   "execution_count": null,
   "metadata": {},
   "outputs": [],
   "source": [
    "# cdf\n",
    "pnorm(160,mean=170,sd=5)\n",
    "pnorm(170,mean=170,sd=5)\n",
    "pnorm(180,mean=170,sd=5)"
   ]
  },
  {
   "cell_type": "code",
   "execution_count": null,
   "metadata": {},
   "outputs": [],
   "source": [
    "# pdf\n",
    "dnorm(160,mean=170,sd=5)\n",
    "dnorm(170,mean=170,sd=5)\n",
    "dnorm(180,mean=170,sd=5)"
   ]
  },
  {
   "cell_type": "code",
   "execution_count": null,
   "metadata": {},
   "outputs": [],
   "source": [
    "# but we are interested in the inverse problem!\n",
    "# e.g. if D=175.1\n",
    "dnorm(175.1, mean=170, sd=5)"
   ]
  },
  {
   "cell_type": "code",
   "execution_count": null,
   "metadata": {},
   "outputs": [],
   "source": [
    "dnorm(175.1, mean=160, sd=5)\n",
    "dnorm(175.1, mean=180, sd=5)"
   ]
  },
  {
   "cell_type": "code",
   "execution_count": null,
   "metadata": {},
   "outputs": [],
   "source": [
    "# for any observed data, we consider P(D|theta) as a function of theta\n",
    "thetas <- seq(160, 190, 0.01)"
   ]
  },
  {
   "cell_type": "code",
   "execution_count": null,
   "metadata": {},
   "outputs": [],
   "source": [
    "# e.g. the Likelihood of observing the first value in X given that theta=160 is\n",
    "dnorm(x=thetas[1] , mean=X[1], sd=5)"
   ]
  },
  {
   "cell_type": "code",
   "execution_count": null,
   "metadata": {},
   "outputs": [],
   "source": [
    "# if we have more data, then the likelihood is the product across all data points, \n",
    "# given a certain value of theta\n",
    "dnorm(x=thetas[1], mean=X[1:10], sd=5)"
   ]
  },
  {
   "cell_type": "code",
   "execution_count": null,
   "metadata": {},
   "outputs": [],
   "source": [
    "prod(dnorm(x=thetas[1], mean=X, sd=5))"
   ]
  },
  {
   "cell_type": "code",
   "execution_count": null,
   "metadata": {},
   "outputs": [],
   "source": [
    "# calculate the Likelihood for each possible value of theta\n",
    "L <- c()\n",
    "for (theta in thetas) L <- c(L, prod(dnorm(X,theta,5)))"
   ]
  },
  {
   "cell_type": "code",
   "execution_count": null,
   "metadata": {},
   "outputs": [],
   "source": [
    "plot(x=thetas, y=L, xlab=\"theta\", ylab=\"likelihood\", type=\"l\")"
   ]
  },
  {
   "cell_type": "markdown",
   "metadata": {},
   "source": [
    "4) calculate MLE"
   ]
  },
  {
   "cell_type": "code",
   "execution_count": null,
   "metadata": {},
   "outputs": [],
   "source": [
    "# numerical solution\n",
    "\n",
    "# 1 - grid search\n",
    "thetas[which.max(L)]\n",
    "\n",
    "# 2 - random search\n",
    "# ...\n",
    "\n",
    "# 3 - algorithm\n",
    "# ..."
   ]
  },
  {
   "cell_type": "code",
   "execution_count": null,
   "metadata": {},
   "outputs": [],
   "source": [
    "# analytical solution\n",
    "mean(X)"
   ]
  },
  {
   "cell_type": "code",
   "execution_count": null,
   "metadata": {},
   "outputs": [],
   "source": [
    "hist(X)"
   ]
  },
  {
   "cell_type": "code",
   "execution_count": null,
   "metadata": {},
   "outputs": [],
   "source": [
    "# if you have more data points\n",
    "X <- as.numeric(readLines(\"sample1000.txt\"))\n",
    "mean(X)\n",
    "thetas <- seq(160, 190, 0.01)\n",
    "\n",
    "L <- c()\n",
    "for (theta in thetas) L <- c(L, prod(dnorm(X,theta,5)))\n",
    "\n",
    "thetas[which.max(L)]"
   ]
  },
  {
   "cell_type": "code",
   "execution_count": null,
   "metadata": {},
   "outputs": [],
   "source": [
    "logL <- c()\n",
    "for (theta in thetas) logL <- c(logL, sum(dnorm(X,theta,5,log=TRUE)))\n",
    "\n",
    "thetas[which.max(logL)]"
   ]
  },
  {
   "cell_type": "code",
   "execution_count": null,
   "metadata": {},
   "outputs": [],
   "source": [
    "plot(x=thetas, y=logL, xlab=\"theta\", ylab=\"log-likelihood\", type=\"l\")"
   ]
  },
  {
   "cell_type": "markdown",
   "metadata": {},
   "source": [
    "5) likelihood ratio test"
   ]
  },
  {
   "cell_type": "code",
   "execution_count": null,
   "metadata": {},
   "outputs": [],
   "source": [
    "X <- as.numeric(readLines(\"sample20.txt\"))\n",
    "\n",
    "thetas <- seq(160, 190, 0.01)\n",
    "\n",
    "logL <- c()\n",
    "for (theta in thetas) logL <- c(logL, sum(dnorm(X,theta,5,log=TRUE)))\n",
    "\n",
    "plot(x=thetas, y=logL, xlab=\"theta\", ylab=\"log-likelihood\", type=\"l\")\n",
    "\n",
    "thetas[which.max(logL)]"
   ]
  },
  {
   "cell_type": "code",
   "execution_count": null,
   "metadata": {},
   "outputs": [],
   "source": [
    "# is MLE different than 170?\n",
    "max(logL)\n",
    "logL[which(thetas==170)]"
   ]
  },
  {
   "cell_type": "code",
   "execution_count": null,
   "metadata": {},
   "outputs": [],
   "source": [
    "# chi^2\n",
    "2*(max(logL)-logL[which(thetas==170)])"
   ]
  },
  {
   "cell_type": "code",
   "execution_count": null,
   "metadata": {},
   "outputs": [],
   "source": [
    "# p-value\n",
    "1-pchisq(2*(max(logL)-logL[which(thetas==170)]),df=1)"
   ]
  },
  {
   "cell_type": "code",
   "execution_count": null,
   "metadata": {},
   "outputs": [],
   "source": [
    "# different than 174?\n",
    "1-pchisq(2*(max(logL)-logL[which(thetas==174)]),df=1)\n",
    "\n",
    "# different than 175?\n",
    "1-pchisq(2*(max(logL)-logL[which(thetas==175)]),df=1)"
   ]
  },
  {
   "cell_type": "code",
   "execution_count": null,
   "metadata": {},
   "outputs": [],
   "source": [
    "# with more data\n",
    "X <- as.numeric(readLines(\"sample1000.txt\"))\n",
    "\n",
    "thetas <- seq(160, 190, 0.01)\n",
    "\n",
    "logL <- c()\n",
    "for (theta in thetas) logL <- c(logL, sum(dnorm(X,theta,5,log=TRUE)))\n",
    "\n",
    "thetas[which.max(logL)]\n",
    "\n",
    "1-pchisq(2*(max(logL)-logL[which(thetas==170)]),df=1)\n",
    "\n",
    "1-pchisq(2*(max(logL)-logL[which(thetas==174)]),df=1)\n",
    "\n",
    "1-pchisq(2*(max(logL)-logL[which(thetas==175)]),df=1)"
   ]
  },
  {
   "cell_type": "markdown",
   "metadata": {},
   "source": [
    "6) bootstrapping"
   ]
  },
  {
   "cell_type": "code",
   "execution_count": null,
   "metadata": {},
   "outputs": [],
   "source": [
    "# bootstrapping\n",
    "\n",
    "X <- as.numeric(readLines(\"sample1000.txt\"))\n",
    "\n",
    "thetas <- seq(160, 190, 0.01)\n",
    "\n",
    "logL <- c()\n",
    "for (theta in thetas) logL <- c(logL, sum(dnorm(X,theta,5,log=TRUE)))\n",
    "\n",
    "theta_mle <- thetas[which.max(logL)]\n",
    "\n",
    "theta_boot <-c()\n",
    "\n",
    "for (i in 1:100) {\n",
    "\n",
    "        Xs <- sample(X, replace=T)\n",
    "\n",
    "        logL <- c()\n",
    "        for (theta in thetas) logL <- c(logL, sum(dnorm(Xs,theta,5,log=TRUE)))\n",
    "\n",
    "        theta_boot[i] <- thetas[which.max(logL)]\n",
    "\n",
    "        cat(\"\\n replicate:\", i, \" has estimate \", theta_boot[i])\n",
    "\n",
    "}"
   ]
  },
  {
   "cell_type": "code",
   "execution_count": null,
   "metadata": {},
   "outputs": [],
   "source": [
    "hist(theta_boot)\n",
    "abline(v=theta_mle, lty=2)\n",
    "\n",
    "quantile(theta_boot, c(0.025,0.975))"
   ]
  },
  {
   "cell_type": "markdown",
   "metadata": {},
   "source": [
    "## Goodness of fit"
   ]
  },
  {
   "cell_type": "code",
   "execution_count": null,
   "metadata": {},
   "outputs": [],
   "source": [
    "n <- 20\n",
    "O <- c(2, 4, 14)\n",
    "O"
   ]
  },
  {
   "cell_type": "code",
   "execution_count": null,
   "metadata": {},
   "outputs": [],
   "source": [
    "f <- 8/40\n",
    "E <- c(f^2, 2*f*(1-f), (1-f)^2)*n\n",
    "E"
   ]
  },
  {
   "cell_type": "code",
   "execution_count": null,
   "metadata": {},
   "outputs": [],
   "source": [
    "chi <- sum((E-O)^2/E)\n",
    "chi"
   ]
  },
  {
   "cell_type": "code",
   "execution_count": null,
   "metadata": {},
   "outputs": [],
   "source": [
    "x = seq(0.1,40, 0.1)\n",
    "plot(x, dchisq(x, df=1), type=\"l\")\n",
    "abline(v=chi, lty=2)"
   ]
  },
  {
   "cell_type": "code",
   "execution_count": null,
   "metadata": {},
   "outputs": [],
   "source": [
    "1- pchisq(chi, df=1)"
   ]
  },
  {
   "cell_type": "markdown",
   "metadata": {},
   "source": [
    "## Hypothesis testing using a t-test\n",
    "\n",
    "__TASK__ Look at these examples where we test for difference in population means between two samples. Try to understand what the output of `t.test` is and why it changes for the different scenarios provided."
   ]
  },
  {
   "cell_type": "code",
   "execution_count": null,
   "metadata": {},
   "outputs": [],
   "source": [
    "pop1 <- rnorm(n=100, mean=5, sd=1)\n",
    "pop2 <- rnorm(n=100, mean=6, sd=1)\n",
    "t.test(x=pop1, y=pop2, alternative=\"two.sided\")"
   ]
  },
  {
   "cell_type": "code",
   "execution_count": null,
   "metadata": {},
   "outputs": [],
   "source": [
    "pop1 <- rnorm(n=100, mean=5, sd=1)\n",
    "pop2 <- rnorm(n=100, mean=5.5, sd=1)\n",
    "t.test(x=pop1, y=pop2, alternative=\"two.sided\")"
   ]
  },
  {
   "cell_type": "code",
   "execution_count": null,
   "metadata": {},
   "outputs": [],
   "source": [
    "pop1 <- rnorm(n=100, mean=5, sd=1)\n",
    "pop2 <- rnorm(n=100, mean=5.5, sd=1)\n",
    "t.test(x=pop1, y=pop2, alternative=\"less\")"
   ]
  },
  {
   "cell_type": "code",
   "execution_count": null,
   "metadata": {},
   "outputs": [],
   "source": [
    "pop1 <- rnorm(n=100, mean=5, sd=1)\n",
    "pop2 <- rnorm(n=100, mean=5.5, sd=1)\n",
    "t.test(x=pop1, y=pop2, alternative=\"greater\")"
   ]
  },
  {
   "cell_type": "code",
   "execution_count": null,
   "metadata": {},
   "outputs": [],
   "source": [
    "pop1 <- rnorm(n=10, mean=5, sd=1)\n",
    "pop2 <- rnorm(n=10, mean=5.5, sd=1)\n",
    "t.test(x=pop1, y=pop2, alternative=\"two.sided\")"
   ]
  },
  {
   "cell_type": "code",
   "execution_count": null,
   "metadata": {},
   "outputs": [],
   "source": [
    "pop1 <- rnorm(n=100, mean=5, sd=1)\n",
    "pop2 <- rpois(n=100, lambda=5)\n",
    "t.test(x=pop1, y=pop2, alternative=\"two.sided\")\n",
    "# what is the expected value of a Poisson distribution? \n",
    "# why is the test non significant? \n",
    "# what test would you use here instead?"
   ]
  }
 ],
 "metadata": {
  "kernelspec": {
   "display_name": "R",
   "language": "R",
   "name": "ir"
  },
  "language_info": {
   "codemirror_mode": "r",
   "file_extension": ".r",
   "mimetype": "text/x-r-source",
   "name": "R",
   "pygments_lexer": "r",
   "version": "3.6.1"
  }
 },
 "nbformat": 4,
 "nbformat_minor": 2
}
