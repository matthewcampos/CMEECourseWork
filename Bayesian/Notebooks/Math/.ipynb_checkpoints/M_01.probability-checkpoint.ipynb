{
 "cells": [
  {
   "cell_type": "markdown",
   "metadata": {
    "slideshow": {
     "slide_type": "slide"
    }
   },
   "source": [
    "![ICL](Images/imperiallogo.jpeg)\n",
    "\n",
    "# Mathematics and Statistics\n",
    "\n",
    "https://bitbucket.org/mfumagal/statistical_inference\n",
    "\n",
    "## Probability theory"
   ]
  },
  {
   "cell_type": "markdown",
   "metadata": {
    "slideshow": {
     "slide_type": "notes"
    }
   },
   "source": [
    "Probability theory is the foundation for all statistical inferences. Through the use of models of experiments, we are able to make inferences about populations based on examining only a part of the whole.\n",
    "\n",
    "Here we are going to outline the basic ideas of probability theory that are of direct importance for statistical inferences. As statistics builds upon probability theory, the latter builds upon the set theory."
   ]
  },
  {
   "cell_type": "markdown",
   "metadata": {
    "slideshow": {
     "slide_type": "slide"
    }
   },
   "source": [
    "### Intended Learning Outcomes \n",
    "\n",
    "By the end of this session, you will be able to:\n",
    "* Describe the principles of set theory and set operations\n",
    "* Illustrate the axiomatic foundations of probability theory and appropriate counting methods\n",
    "* Identify dependence and indepedence of events\n",
    "* Show the utility of distribution functions for random variables\n",
    "* Demonstrate how to implement basic probability calculus in _*R*_"
   ]
  },
  {
   "cell_type": "markdown",
   "metadata": {
    "slideshow": {
     "slide_type": "slide"
    }
   },
   "source": [
    "## Set theory\n",
    "\n",
    "If one of our main objectives in statistics is to draw conclusions about a population of objects after an experiment, then it is essential to identify the possible outcomes of it.\n",
    "\n",
    "> The set $S$ of all possible outcomes of a particular experiment is called the _sample space_ for the experiment."
   ]
  },
  {
   "cell_type": "markdown",
   "metadata": {
    "slideshow": {
     "slide_type": "subslide"
    }
   },
   "source": [
    "If the experiment consists of tossing a con, then the sample space contains only two outcomes, heads and tails, and therefore: $S=\\{H,T\\}$.\n",
    "\n",
    "If, on the other hand, the experiment consists of observing the new GCSE scores of randomly selected pupils, the sample space would be the set of integers between 0 and 9, that is $S=\\{0,1,2,...,8,9\\}$.\n",
    "\n",
    "Finally, consider an experiment where the observation is the reaction time to a simulus. In this case, the sample space consist of all positive numbers, that is $S=(0,\\infty)$.\n"
   ]
  },
  {
   "cell_type": "markdown",
   "metadata": {
    "slideshow": {
     "slide_type": "slide"
    }
   },
   "source": [
    "Imagine that our experiment consists on observing the nucleotidic sequence of a particular gene of interest. \n",
    "\n",
    "What is the sample space? "
   ]
  },
  {
   "cell_type": "markdown",
   "metadata": {
    "slideshow": {
     "slide_type": "subslide"
    }
   },
   "source": [
    "$S_G=\\{A,C,G,T\\}$"
   ]
  },
  {
   "cell_type": "code",
   "execution_count": null,
   "metadata": {
    "slideshow": {
     "slide_type": "fragment"
    }
   },
   "outputs": [],
   "source": [
    "S = c(\"A\", \"C\", \"G\", \"T\")\n",
    "S"
   ]
  },
  {
   "cell_type": "code",
   "execution_count": null,
   "metadata": {
    "slideshow": {
     "slide_type": "fragment"
    }
   },
   "outputs": [],
   "source": [
    "sample(x=S, size=1)"
   ]
  },
  {
   "cell_type": "markdown",
   "metadata": {
    "slideshow": {
     "slide_type": "subslide"
    }
   },
   "source": [
    "Now suppose that we are interested in making inference on the amino acidic sequence of a protein. \n",
    "\n",
    "What is the sample space?\n",
    "\n",
    "$S_P=?$"
   ]
  },
  {
   "cell_type": "markdown",
   "metadata": {
    "slideshow": {
     "slide_type": "subslide"
    }
   },
   "source": [
    "Finally, let's suppose that our observations consist in divergence between orthologous genes of arbitrary length. \n",
    "In other words, for a large set of genes we calculate the relative difference in nucleotidic content between genes in different species. \n",
    "\n",
    "What is the sample space for such divergence?\n",
    "\n",
    "$S_D=?$"
   ]
  },
  {
   "cell_type": "code",
   "execution_count": null,
   "metadata": {
    "slideshow": {
     "slide_type": "fragment"
    }
   },
   "outputs": [],
   "source": [
    "S=seq(0,1,0.001)"
   ]
  },
  {
   "cell_type": "code",
   "execution_count": null,
   "metadata": {
    "slideshow": {
     "slide_type": "subslide"
    }
   },
   "outputs": [],
   "source": [
    "hist(S)"
   ]
  },
  {
   "cell_type": "markdown",
   "metadata": {
    "slideshow": {
     "slide_type": "notes"
    }
   },
   "source": [
    "From these examples, we evince that we can classify sample spaces into two types according to the number of elements they can contain.\n",
    "Sample spaces can be either _countable_ or _uncountable_.\n",
    "If the sample space is finite or each element can be put into a 1-1 correspondence with a subset of integeres, the sample space is countable.\n",
    "Therefore, the toss coin and GCSE scores are countable whereas the reaction time consists of an uncountable sample space.\n",
    "\n",
    "The distinction between countable and uncountable sample spaces, despite sometimes trivial, is of great importance as it dictates the way with probabilities can be assigned.\n",
    "In practice, probabilistic methods associated to uncountable sample sizes are less cumbersome and can provide an approximation to the true countable situation."
   ]
  },
  {
   "cell_type": "markdown",
   "metadata": {
    "slideshow": {
     "slide_type": "slide"
    }
   },
   "source": [
    "Once the sample space has been defined (e.g. countable?), we can consider collections of possible outcomes of an experiment.\n",
    "> An _event_ is any collection of possible outcomes of an experiment, that is, any subset of $S$, including $S$ itself."
   ]
  },
  {
   "cell_type": "code",
   "execution_count": null,
   "metadata": {
    "slideshow": {
     "slide_type": "subslide"
    }
   },
   "outputs": [],
   "source": [
    "# an event A of set S\n",
    "S = c(\"A\", \"C\", \"G\", \"T\")\n",
    "S\n",
    "A = S[1:2] \n",
    "A\n",
    "A %in% S"
   ]
  },
  {
   "cell_type": "code",
   "execution_count": null,
   "metadata": {
    "slideshow": {
     "slide_type": "fragment"
    }
   },
   "outputs": [],
   "source": [
    "# an event A of set S\n",
    "S = seq(0,1,0.001)\n",
    "A = S[S<0.05]\n",
    "prod(A %in% S)"
   ]
  },
  {
   "cell_type": "markdown",
   "metadata": {
    "slideshow": {
     "slide_type": "subslide"
    }
   },
   "source": [
    "Let $A$ ben an event, a subset of $S$. We say that the event $A$ occurs if the outcome of the experiment is in the set $A$.\n",
    "\n",
    "\\begin{equation}\n",
    "A \\subset B \\iff x \\in A \\implies x \\in B\n",
    "\\end{equation}\n",
    "\\begin{equation}\n",
    "A = B \\iff A \\subset B \\text{ and } B \\subset A\n",
    "\\end{equation}"
   ]
  },
  {
   "cell_type": "markdown",
   "metadata": {
    "slideshow": {
     "slide_type": "slide"
    }
   },
   "source": [
    "### Set operations\n",
    "\n",
    "Consider an experiment of drawing a nucleotide at random. The sample space is $S=\\{A,C,G,T\\}$ and some possible events are $A=\\{G,C,A\\}$ and $B=\\{T,G\\}$. What is the union of $A$ and $B$? "
   ]
  },
  {
   "cell_type": "markdown",
   "metadata": {
    "slideshow": {
     "slide_type": "subslide"
    }
   },
   "source": [
    "Given any two events $A$ and $B$, set operations include:\n",
    "* Union: the union of $A$ and $B$ is the set of elements that belong to either $A$ or $B$ or both:\n",
    "\\begin{equation}\n",
    "A \\cup B = \\{x: x \\in A \\text{ or } x \\in B\\}\n",
    "\\end{equation}"
   ]
  },
  {
   "cell_type": "code",
   "execution_count": null,
   "metadata": {
    "slideshow": {
     "slide_type": "fragment"
    }
   },
   "outputs": [],
   "source": [
    "# define the sample space\n",
    "S <- c(\"A\",\"C\",\"G\",\"T\")\n",
    "# define A and B\n",
    "A <- c(\"G\",\"C\",\"A\")\n",
    "B <- c(\"T\",\"G\")\n",
    "\n",
    "# union\n",
    "union(A,B)"
   ]
  },
  {
   "cell_type": "markdown",
   "metadata": {
    "slideshow": {
     "slide_type": "subslide"
    }
   },
   "source": [
    "What is the intersect between $A$ and $B$?\n",
    "\n",
    "* Intersection: the intersection of $A$ and $B$ is the set of elements that belong to both $A$ and $B$:\n",
    "\\begin{equation}\n",
    "A \\cap B = \\{x: x \\in A \\text{ and } x \\in B\\}\n",
    "\\end{equation}"
   ]
  },
  {
   "cell_type": "code",
   "execution_count": null,
   "metadata": {
    "slideshow": {
     "slide_type": "fragment"
    }
   },
   "outputs": [],
   "source": [
    "# define the sample space\n",
    "S <- c(\"A\",\"C\",\"G\",\"T\")\n",
    "# define A and B\n",
    "A <- c(\"G\",\"C\",\"A\")\n",
    "B <- c(\"T\",\"G\")\n",
    "\n",
    "# intersect\n",
    "intersect(A,B)"
   ]
  },
  {
   "cell_type": "markdown",
   "metadata": {
    "slideshow": {
     "slide_type": "subslide"
    }
   },
   "source": [
    "What is the complement of $A$? \n",
    "\n",
    "* Complementation: the complement of $A$ is the set of all elements that are not in $A$:\n",
    "\\begin{equation}\n",
    "A^c = \\{x:x \\notin A\\}\n",
    "\\end{equation}"
   ]
  },
  {
   "cell_type": "code",
   "execution_count": null,
   "metadata": {
    "slideshow": {
     "slide_type": "fragment"
    }
   },
   "outputs": [],
   "source": [
    "# define the sample space\n",
    "S <- c(\"A\",\"C\",\"G\",\"T\")\n",
    "# define A and B\n",
    "A <- c(\"G\",\"C\",\"A\")\n",
    "B <- c(\"T\",\"G\")\n",
    "\n",
    "# complement of A\n",
    "setdiff(S,A)"
   ]
  },
  {
   "cell_type": "markdown",
   "metadata": {
    "slideshow": {
     "slide_type": "subslide"
    }
   },
   "source": [
    " What is the complement of the union of $A$ and $B$?"
   ]
  },
  {
   "cell_type": "markdown",
   "metadata": {
    "slideshow": {
     "slide_type": "skip"
    }
   },
   "source": [
    "Using Venn diagrams is another useful way to visualise (but not prove) set operations.\n",
    "For very large sets it is convenient to write programs that will do the calculations. As an illustration, let's solve the task above using R. There are several functions in R suitable for set operations, as outlined [here](https://stat.ethz.ch/R-manual/R-devel/library/base/html/sets.html). "
   ]
  },
  {
   "cell_type": "code",
   "execution_count": null,
   "metadata": {
    "slideshow": {
     "slide_type": "fragment"
    }
   },
   "outputs": [],
   "source": [
    "# define the sample space\n",
    "S <- c(\"A\",\"C\",\"G\",\"T\")\n",
    "# define A and B\n",
    "A <- c(\"G\",\"C\",\"A\")\n",
    "B <- c(\"T\",\"G\")\n",
    "\n",
    "# complement of A U B\n",
    "print(setdiff(S,union(A,B)))"
   ]
  },
  {
   "cell_type": "markdown",
   "metadata": {
    "slideshow": {
     "slide_type": "fragment"
    }
   },
   "source": [
    "From this example, we also found a special set, the empty set $\\emptyset$."
   ]
  },
  {
   "cell_type": "markdown",
   "metadata": {
    "slideshow": {
     "slide_type": "notes"
    }
   },
   "source": [
    "It is also worth noting that the elementary set operations can be combined. We can now state several useful properties of set operations."
   ]
  },
  {
   "cell_type": "markdown",
   "metadata": {
    "slideshow": {
     "slide_type": "slide"
    }
   },
   "source": [
    "### Properties of set operations\n",
    "\n",
    "* Commutativity\n",
    "\\begin{equation}\n",
    "A \\cup B = B \\cup A \\\\\n",
    "A \\cap B = B \\cap A\n",
    "\\end{equation}\n",
    "\n",
    "* Associativity\n",
    "\\begin{equation}\n",
    "A \\cup (B \\cup C) = (A \\cup B) \\cup C \\\\\n",
    "A \\cap (B \\cap C) = (A \\cap B) \\cap C\n",
    "\\end{equation}"
   ]
  },
  {
   "cell_type": "markdown",
   "metadata": {
    "slideshow": {
     "slide_type": "subslide"
    }
   },
   "source": [
    "* Distributive laws\n",
    "\\begin{equation}\n",
    "A \\cap (B \\cup C) = (A \\cap B) \\cup (A \\cap C) \\\\\n",
    "A \\cup (B \\cap C) = (A \\cup B) \\cap (A \\cup C)\n",
    "\\end{equation}\n",
    "\n",
    "* DeMorgan's laws\n",
    "\\begin{equation}\n",
    "(A \\cup B)^c = A^c \\cap B^c \\\\\n",
    "(A \\cap B)^c = A^c \\cup B^c\n",
    "\\end{equation}"
   ]
  },
  {
   "cell_type": "markdown",
   "metadata": {
    "slideshow": {
     "slide_type": "slide"
    }
   },
   "source": [
    "Assuming that we have a third set $C=\\{C,T\\}$ of nucleotides. _R_ to show that the above properties hold."
   ]
  },
  {
   "cell_type": "code",
   "execution_count": null,
   "metadata": {
    "slideshow": {
     "slide_type": "fragment"
    }
   },
   "outputs": [],
   "source": [
    "C = c(\"C\",\"T\")\n",
    "\n",
    "# commutativity\n",
    "setequal(union(A,B), union(B,A))\n",
    "\n",
    "#...\n"
   ]
  },
  {
   "cell_type": "markdown",
   "metadata": {
    "slideshow": {
     "slide_type": "notes"
    }
   },
   "source": [
    "The operations of union and intersection can be extended to infinite collections of sets.\n",
    "As an example, let $S=(0,1]$ and define $A_i = [(1/i),1]$.\n",
    "Then $\\bigcup_{i=1}^\\infty A_i = ?$ and $\\bigcap_{i=1}^\\infty A_i = ?$."
   ]
  },
  {
   "cell_type": "markdown",
   "metadata": {
    "slideshow": {
     "slide_type": "slide"
    }
   },
   "source": [
    "### Partition\n",
    "\n",
    "> Two events $A$ and $B$ are _disjoint_ (or _mutually exclusive_) if $A \\cap B = \\emptyset$. The events $A_1,A_2,...$ are _pairwise disjoint_ if $A_i \\cap A_j = \\emptyset$ for all $i \\neq j$."
   ]
  },
  {
   "cell_type": "markdown",
   "metadata": {
    "slideshow": {
     "slide_type": "notes"
    }
   },
   "source": [
    "Disjoint sets are sets with no points in common. For instance the collection $A_i = [i, i+1)$ with $i=0,1,2,...$ consists of pairwise disjoint sets."
   ]
  },
  {
   "cell_type": "markdown",
   "metadata": {
    "slideshow": {
     "slide_type": "fragment"
    }
   },
   "source": [
    "> If $A_1, A_2, ...$ are pairwise disjoint and $\\bigcup_{i=0}^\\infty A_i = S$, then the collection $A_1, A_2, ...$ forms a _partition_ of S."
   ]
  },
  {
   "cell_type": "code",
   "execution_count": null,
   "metadata": {
    "slideshow": {
     "slide_type": "subslide"
    }
   },
   "outputs": [],
   "source": [
    "# define the sample space\n",
    "S <- c(\"A\",\"C\",\"G\",\"T\")\n",
    "# define A and B\n",
    "A <- c(\"C\",\"A\")\n",
    "B <- c(\"T\",\"G\")\n",
    "\n",
    "# A and B form a partition of S since:\n",
    "print(intersect(A,B))\n",
    "\n",
    "sort(union(A,B)) == S\n",
    "prod(sort(union(A,B)) == S)"
   ]
  },
  {
   "cell_type": "markdown",
   "metadata": {
    "slideshow": {
     "slide_type": "notes"
    }
   },
   "source": [
    "The realisation of an experiment is an outcome in the sample space. If the experiment is performed many times, different outcomes may occur each time or some outcomes may repeat (if the sample space is countable).\n",
    "It is immediate to think of such frequency of occurence as a probability.\n",
    "However, here we will think of probabilities using a mathematical axiomatic approach, in the sense that probabilities are defined by a function satisfying such axioms."
   ]
  },
  {
   "cell_type": "markdown",
   "metadata": {
    "slideshow": {
     "slide_type": "slide"
    }
   },
   "source": [
    "### Axiomatic foundations\n",
    "\n",
    "For each event $A$ in the sample space $S$ we associate a number between 0 and 1 that we call the probability of A, denoted as $P(A)$. Intuitively, for each $A \\subset S$ we define $P(A)$ as the probability that $A$ occurs. "
   ]
  },
  {
   "cell_type": "markdown",
   "metadata": {
    "slideshow": {
     "slide_type": "subslide"
    }
   },
   "source": [
    "> A collection of subsets of $S$ is called a _sigma algebra_ (or Borel field), denoted by $\\mathcal{B}$, if it satisfies the following properties:\n",
    "1. $\\emptyset \\in \\mathcal{B}$\n",
    "2. if $A \\in \\mathcal{B}$, then $A^c \\in \\mathcal{B}$ \n",
    "3. if $A_1, A_2, ... \\in \\mathcal{B}$, then $\\bigcup_{i=1}^\\infty A_i \\in \\mathcal{B}$"
   ]
  },
  {
   "cell_type": "markdown",
   "metadata": {
    "slideshow": {
     "slide_type": "notes"
    }
   },
   "source": [
    "We can have many different sigma algebras associated with sample space $S$."
   ]
  },
  {
   "cell_type": "markdown",
   "metadata": {
    "slideshow": {
     "slide_type": "slide"
    }
   },
   "source": [
    "Is the collection of sets $\\{\\emptyset, S\\}$ a sigma algebra with $S$? If so, Why?"
   ]
  },
  {
   "cell_type": "markdown",
   "metadata": {
    "slideshow": {
     "slide_type": "fragment"
    }
   },
   "source": [
    "If $S$ is finite or countable, then $\\mathcal{B}$ contains all subsets of $S$ including $S$ itself."
   ]
  },
  {
   "cell_type": "markdown",
   "metadata": {
    "slideshow": {
     "slide_type": "subslide"
    }
   },
   "source": [
    "If $S$ has $n$ elements, there are $2^n$ sets in $\\mathcal{B}$. \n",
    "\n",
    "What is $\\mathcal{B}$ if $S=\\{1,2,3\\}$?"
   ]
  },
  {
   "cell_type": "markdown",
   "metadata": {
    "slideshow": {
     "slide_type": "slide"
    }
   },
   "source": [
    "### Probability function\n",
    "\n",
    "> Given a sample space $S$ and an associated sigma algebra $\\mathcal{B}$, a _probability function_ is a function $P$ with domain $\\mathcal{B}$ that satisfies:\n",
    "1. $P(A) \\geq 0$ for all $A \\in \\mathcal{B}$\n",
    "2. $P(S)=1$\n",
    "3. If $A_1, A_2, ... \\in \\mathcal{B}$ are pairwise disjoint, then $P(\\bigcup_{i=1}^\\infty)=\\sum_{i=1}^\\infty P(A_i)$\n",
    "\n",
    "Any function $P$ that satisfies these Axioms of Probability is called a probability function."
   ]
  },
  {
   "cell_type": "markdown",
   "metadata": {
    "slideshow": {
     "slide_type": "slide"
    }
   },
   "source": [
    "Consider the experiment of randomly drawing one nucleotide from a genome and record whether it's a purine ($U$) or pyrimidine ($Y$), thus $S=\\{U,Y\\}$. Let's also assume that $P(\\{U\\})=P(\\{Y\\})$. \n",
    "\n",
    "What are possible values for $P(\\{U\\})$ and $P(\\{Y\\})$ in order for them to define a legitimate probability function?"
   ]
  },
  {
   "cell_type": "code",
   "execution_count": null,
   "metadata": {
    "slideshow": {
     "slide_type": "subslide"
    }
   },
   "outputs": [],
   "source": [
    "S <- c(\"U\",\"Y\")\n",
    "#P_U <- ?\n",
    "#P_Y <- ?"
   ]
  },
  {
   "cell_type": "code",
   "execution_count": null,
   "metadata": {
    "slideshow": {
     "slide_type": "fragment"
    }
   },
   "outputs": [],
   "source": [
    "P_U <- 0.5\n",
    "P_Y <- 0.5\n",
    "\n",
    "# 1.\n",
    "P_U>=0 & P_Y>=0\n",
    "\n",
    "# 2. & 3.\n",
    "P_U+P_Y==1\n"
   ]
  },
  {
   "cell_type": "markdown",
   "metadata": {
    "slideshow": {
     "slide_type": "fragment"
    }
   },
   "source": [
    "There is a much more common method for defining a legitimate probability function."
   ]
  },
  {
   "cell_type": "markdown",
   "metadata": {
    "slideshow": {
     "slide_type": "slide"
    }
   },
   "source": [
    "Let $S=\\{s_1, s_2, ..., s_n\\}$ be a finite and/or countable set. Let $\\mathcal{B}$ be any sigma algebra of subsets of $S$. Let $p_1, p_2, ..., p_n$ be nonnegative numbers that sum to 1. \n",
    "\n",
    "For any $A \\in \\mathcal{B}$, define $P(A)$ by\n",
    "\\begin{equation}\n",
    "P(A) = \\sum_{\\{i:s_i \\in A\\}} p_i\n",
    "\\end{equation}\n",
    "Then $P$ is a probability function on $\\mathcal{B}$."
   ]
  },
  {
   "cell_type": "markdown",
   "metadata": {
    "slideshow": {
     "slide_type": "slide"
    }
   },
   "source": [
    "### Calculus\n",
    "\n",
    "From the Axioms of Probabilities we can derive several properties of the probability function.\n",
    "\n",
    "If $P$ is a probability function and $A$ is any set in $\\mathcal{B}$, then\n",
    "1. $P(\\emptyset)=0$\n",
    "2. $P(A) \\leq 1$\n",
    "3. $P(A^c) = 1 - P(A)$"
   ]
  },
  {
   "cell_type": "markdown",
   "metadata": {
    "slideshow": {
     "slide_type": "notes"
    }
   },
   "source": [
    "We can easily prove the last one. $A$ and $A^c$ form a partition of the sample space, that is, $S=A \\cup A^c$. Therefore, $P(A \\cup A^c) = P(S) = 1$. Since $A$ and $A^c$ are disjoint, $P(A \\cup A^c) = P(A) + P(A^c)$. By combining the last two equations we retrieve $P(A^c) = 1 - P(A)$. "
   ]
  },
  {
   "cell_type": "markdown",
   "metadata": {
    "slideshow": {
     "slide_type": "subslide"
    }
   },
   "source": [
    "If $P$ is a probability function and $A$ and $B$ are any sets in $\\mathcal{B}$, then\n",
    "1. $P(B \\cap A^c) = P(B) - P(A \\cap B)$\n",
    "2. $P(A \\cup B) = P(A) + P(B) - P(A \\cap B)$\n",
    "3. if $A \\subset B$, then $P(A) \\leq P(B)$"
   ]
  },
  {
   "cell_type": "markdown",
   "metadata": {
    "slideshow": {
     "slide_type": "skip"
    }
   },
   "source": [
    "These properties can be easily visualised with Venn diagrams. In particular, the second one gives a useful inequality for the probability of an intersection. "
   ]
  },
  {
   "cell_type": "markdown",
   "metadata": {
    "slideshow": {
     "slide_type": "slide"
    }
   },
   "source": [
    "Since $P(A \\cup B) \\leq 1$, then\n",
    "\\begin{equation}\n",
    "P(A \\cap B) \\geq P(A) + P(B) - 1\n",
    "\\end{equation}\n",
    "\n",
    "This is a special case of the _Bonferroni's Inequality_ used to bound of the probability of a simultaneous event from the probabilities of the individual events. "
   ]
  },
  {
   "cell_type": "markdown",
   "metadata": {
    "slideshow": {
     "slide_type": "notes"
    }
   },
   "source": [
    "This is useful when it is difficult to calculate the intersection probability but we want to get some ideas of this probability.\n",
    "\n",
    "This inequality can be derived by observing the following:\n",
    "* $P(A \\cup B) = P(A) + P(B) - P(A \\cap B)$\n",
    "* $A \\cup B = A \\cup {B \\cap A^c}$\n",
    "* $A$ and  ${B \\cap A^c}$ are disjoint\n",
    "* $P(A \\cup B) = P(A) + P(B \\cap A^c) = P(A) + P(B) - P(A \\cap B)$ since $P(B \\cap A^c) = P(B) - P(A \\cap B)$\n",
    "\n",
    "After some rearrangements we have the _Bonferroni's Inequality_."
   ]
  },
  {
   "cell_type": "markdown",
   "metadata": {
    "slideshow": {
     "slide_type": "subslide"
    }
   },
   "source": [
    "If $P$ is a probability function, then\n",
    "1. $P(A) = \\sum_{i=1}^\\infty P(A \\cap C_i)$ for any partition $C_1, C_2, ...$ of $S$\n",
    "2. $P(\\bigcup_{i=1}^\\infty A_i) \\leq \\sum_{i=1}^\\infty P(A_i) $ for any sets $A_1, A_2, ...$ \n",
    "\n",
    "The last property is called _Boole's Inequality_ which is a general version of the Bonferroni's Inequality.\n"
   ]
  },
  {
   "cell_type": "markdown",
   "metadata": {
    "slideshow": {
     "slide_type": "slide"
    }
   },
   "source": [
    "### Counting\n",
    "\n",
    "Methods of counting are used to construct probability assignments on finite sample spaces. Counting is often difficult and the trick is to break it down to simpler tasks that are easy to count. \n"
   ]
  },
  {
   "cell_type": "markdown",
   "metadata": {
    "slideshow": {
     "slide_type": "subslide"
    }
   },
   "source": [
    "\n",
    "The Fundamental Theorem of Counting states that if a job consists of $k$ separate tasks, the $i-th$ of which can be done in $n_i$ ways, $i=1,...,k$, then the entire job can be done in $n_1 \\times n_2 \\times ... \\times n_k$ ways."
   ]
  },
  {
   "cell_type": "markdown",
   "metadata": {
    "slideshow": {
     "slide_type": "slide"
    }
   },
   "source": [
    "Let's assume that one protein domain is comprised of 6 amino acids. To be able to calculate the probability of having exactly one sequence we first must count how many different combinations of 6 amino acids can be observed.\n",
    "\n",
    "Is that enough information to calculate such probabilities? What else is it needed?"
   ]
  },
  {
   "cell_type": "markdown",
   "metadata": {
    "slideshow": {
     "slide_type": "subslide"
    }
   },
   "source": [
    "We need to specify whether the same amino acid can be present more than once. This distinction is between counting _with replacement_ and counting _without replacement_.\n",
    "\n",
    "Furthermore, we may want to interested in the exact order of the amino acids or simply the presence of certain ones. This distinction is between counting _ordered_ objects or counting _unordered_ ones."
   ]
  },
  {
   "cell_type": "markdown",
   "metadata": {
    "slideshow": {
     "slide_type": "fragment"
    }
   },
   "source": [
    "\n",
    "|  \\  |   Without replacement   |   With replacement     |\n",
    "| --- | --- | --- |\n",
    "| Ordered |  ?  |  ?   |\n",
    "| Unordered |  ?   |  ?  |\n",
    "\n"
   ]
  },
  {
   "cell_type": "markdown",
   "metadata": {
    "slideshow": {
     "slide_type": "slide"
    }
   },
   "source": [
    "#### Ordered, without replacement"
   ]
  },
  {
   "cell_type": "markdown",
   "metadata": {
    "slideshow": {
     "slide_type": "fragment"
    }
   },
   "source": [
    "The first amino acid can be selected in 20 ways, the second in 19 ways, etc. \n",
    "\n",
    "So there are $20 \\times 19 \\times 18 \\times 17 \\times 16 \\times 15 = \\frac{20!}{14!}$ ways.\n",
    "\n",
    "> For a positive integer $n$, $n!$ (read $n$ factorial) is the product of all the positive integers less than or equal to $n$, that is, $n! =  n \\times (n-1) \\times (n-2) \\times ... \\times 2 \\times 1$. We define $0!=1$."
   ]
  },
  {
   "cell_type": "code",
   "execution_count": null,
   "metadata": {
    "slideshow": {
     "slide_type": "subslide"
    }
   },
   "outputs": [],
   "source": [
    "factorial(20)/factorial(14)"
   ]
  },
  {
   "cell_type": "markdown",
   "metadata": {
    "slideshow": {
     "slide_type": "slide"
    }
   },
   "source": [
    "#### Ordered, with replacement"
   ]
  },
  {
   "cell_type": "markdown",
   "metadata": {
    "slideshow": {
     "slide_type": "fragment"
    }
   },
   "source": [
    "All amino acids can be selected in 20 ways if they are replaced.\n",
    "\n",
    "Therefore, there are $20\\times20\\times20\\times20\\times20\\times20$ ways."
   ]
  },
  {
   "cell_type": "code",
   "execution_count": null,
   "metadata": {
    "slideshow": {
     "slide_type": "subslide"
    }
   },
   "outputs": [],
   "source": [
    "20^6"
   ]
  },
  {
   "cell_type": "markdown",
   "metadata": {
    "slideshow": {
     "slide_type": "slide"
    }
   },
   "source": [
    "#### Unordered, without replacement\n",
    "\n",
    "Since we know the number of ways when the ordering must be taken into account, $\\frac{20!}{14!}$, we need to divide this number by all the possible ways that 6 amino acid can be ordered.\n",
    "The latter is equal to $6!$. \n",
    "\n",
    "Therefore, the unordered counting of 6 amino acids without replacement is $\\frac{20!}{6!14!}$."
   ]
  },
  {
   "cell_type": "code",
   "execution_count": null,
   "metadata": {
    "slideshow": {
     "slide_type": "subslide"
    }
   },
   "outputs": [],
   "source": [
    "factorial(20)/(factorial(6)*factorial(14))"
   ]
  },
  {
   "cell_type": "markdown",
   "metadata": {
    "slideshow": {
     "slide_type": "subslide"
    }
   },
   "source": [
    "> For nonnegative integers $n$ and $r$, where $n \\geq r$, we define the symbol ${n \\choose r}$, read $n \\text{ choose } r$, as\n",
    "\\begin{equation}\n",
    "{n \\choose r} = \\frac{n!}{r!(n-r)!}\n",
    "\\end{equation}\n",
    "\n",
    "These numbers are also called _binomial coefficients_."
   ]
  },
  {
   "cell_type": "markdown",
   "metadata": {
    "slideshow": {
     "slide_type": "slide"
    }
   },
   "source": [
    "#### Unordered, with replacement\n",
    "\n",
    "Imagine to assign 6 amino acids on the 20 possible values. We can reduce the ways of counting noting that we just need to keep track of the arrangement and that the two boundaries of the 22 interval bounds (since we can 20 bins) are not relevant. Therefore, we have $\\frac{25!}{6!19!}$ ways."
   ]
  },
  {
   "cell_type": "code",
   "execution_count": null,
   "metadata": {
    "slideshow": {
     "slide_type": "subslide"
    }
   },
   "outputs": [],
   "source": [
    "factorial(25)/(factorial(6)*factorial(19))"
   ]
  },
  {
   "cell_type": "markdown",
   "metadata": {
    "slideshow": {
     "slide_type": "slide"
    }
   },
   "source": [
    "We can generalise all these derivations and summarise them in the following table.\n",
    "\n",
    "\n",
    "| \\  | Without replacement | With replacement |\n",
    "|---|---|---|\n",
    "| Ordered |  ? | ?  |\n",
    "| Unordered | ?  | ?  |"
   ]
  },
  {
   "cell_type": "markdown",
   "metadata": {
    "slideshow": {
     "slide_type": "slide"
    }
   },
   "source": [
    "### Enumerating outcomes\n",
    "\n",
    "These counting methods are useful when the sample size $S$ is a finite set and all the outcomes are equally likely. In fact, probabilities of events can be simply calculated by counting the number of outcomes in the event."
   ]
  },
  {
   "cell_type": "markdown",
   "metadata": {
    "slideshow": {
     "slide_type": "subslide"
    }
   },
   "source": [
    "Suppose that $S=\\{s_1,...,s_n\\}$ is a finite sample space. If all the outcomes are equally likely, then $P(\\{s_i\\})=1/N$ for every outcome $s_i$.\n",
    "\\begin{equation}\n",
    "P(A) = \\sum_{s_i \\in A} P(\\{s_i\\}) = \\sum_{s_i \\in A} \\frac{1}{N} = \\frac{\\text{# elements in } A}{\\text{# elements in } S}\n",
    "\\end{equation}"
   ]
  },
  {
   "cell_type": "markdown",
   "metadata": {
    "slideshow": {
     "slide_type": "slide"
    }
   },
   "source": [
    "## Conditional probability\n",
    "\n",
    "So far all probabilities have been unconditional. All probabilities were calculated with respect to that sample space. Often we want to update the sample space based on new information. In these cases, we need to calculate _conditional probabilities_."
   ]
  },
  {
   "cell_type": "markdown",
   "metadata": {
    "slideshow": {
     "slide_type": "subslide"
    }
   },
   "source": [
    "> If $A$ and $B$ are events in $S$, and $P(B)>0$, then the _conditional probability of A given B_, written $P(A|B)$, is\n",
    "\\begin{equation}\n",
    "P(A|B) = \\frac{P(A \\cap B)}{P(B)}\n",
    "\\end{equation}"
   ]
  },
  {
   "cell_type": "markdown",
   "metadata": {
    "slideshow": {
     "slide_type": "fragment"
    }
   },
   "source": [
    "The original sample space $S$ has been updated to $B$, so that $P(B|B)=1$.\n",
    "\n",
    "If $A$ and $B$ are disjoints, then $P(A \\cap B)=0$ and therefore $P(A|B)=P(B|A)=0$."
   ]
  },
  {
   "cell_type": "markdown",
   "metadata": {
    "slideshow": {
     "slide_type": "slide"
    }
   },
   "source": [
    "Two events, $A$ and $B$, are statistically independent if\n",
    "\\begin{equation}\n",
    "P(A \\cap B) = P(A)P(B)\n",
    "\\end{equation}\n",
    "\n",
    "If the occurrence of $B$ has no effect on the probability of $A$, then $P(A|B)=P(A)$."
   ]
  },
  {
   "cell_type": "markdown",
   "metadata": {
    "slideshow": {
     "slide_type": "subslide"
    }
   },
   "source": [
    "If $A$ and $B$ are independent events, then the following pairs are also independent:\n",
    "* $A$ and $B^c$\n",
    "* $A^c$ and $B$\n",
    "* $A^c$ and $B^c$"
   ]
  },
  {
   "cell_type": "markdown",
   "metadata": {
    "slideshow": {
     "slide_type": "slide"
    }
   },
   "source": [
    "> A collection of events $A_1, A_2, ..., A_n$ are _mutually independent_ if for any subcollection $A_{i_1},...,A_{i_k}$, we have\n",
    "\\begin{equation}\n",
    "P(\\bigcap_{j=1}^k A_{i_j} ) = \\prod_{j=1}^k P(A_{i_j})\n",
    "\\end{equation}\n",
    "\n",
    "Simultaneous independence requires a strong definition."
   ]
  },
  {
   "cell_type": "markdown",
   "metadata": {
    "slideshow": {
     "slide_type": "slide"
    }
   },
   "source": [
    "##  Random variables\n",
    "\n",
    "Often it is easier to work with a summary variable than with the full original structure.\n",
    "\n",
    "Assume we are interested in the GC content of a nucleotidic sequence $\\{A,C,G,T\\}$ of 50 base pairs.\n",
    "\n",
    "If we record \"1\" for a GC base and \"0\" otherwise (A or T), the sample space for this experiment has $2^{50}$ elements, each one comprising an ordered string of 1s and 0s of length 50."
   ]
  },
  {
   "cell_type": "markdown",
   "metadata": {
    "slideshow": {
     "slide_type": "subslide"
    }
   },
   "source": [
    "We should reduce this size by agreeing that the quantity of interest is the number of bases that are GC out of 50.\n",
    "\n",
    "If we define $X$ = number of 1s recorded out of 50, we have captured this requirement.\n",
    "\n",
    "Now the sample space for $X$ is the set of integers $\\{0,1,2,...,50\\}$ and it is much easier to deal with than the original sample space."
   ]
  },
  {
   "cell_type": "markdown",
   "metadata": {
    "slideshow": {
     "slide_type": "slide"
    }
   },
   "source": [
    "When we define $X$, we create a mapping (a function) from the original sample space to a new sample space.\n",
    "> A _random variable_ is a function from a sample space $S$ into the real numbers.\n",
    "\n",
    "In defining a random variable, we also defined a new sample space. Can the probability function on the original sample space be used for the random variable?"
   ]
  },
  {
   "cell_type": "markdown",
   "metadata": {
    "slideshow": {
     "slide_type": "subslide"
    }
   },
   "source": [
    "Suppose we have a sample space $S=\\{s_1,...,s_n\\}$ with a probability function $P$ and we define a random variable $X$ with range $\\mathcal{X}=\\{x_1,...,x_m\\}$.\n",
    "\n",
    "We can define a probability function $P_X$ on $\\mathcal{X}$ with the following procedure: we observe $X=x_i$ if and only if the outcome of the experiment is an $s_j \\in S$ such that $X(s_j)=x_i$."
   ]
  },
  {
   "cell_type": "markdown",
   "metadata": {
    "slideshow": {
     "slide_type": "fragment"
    }
   },
   "source": [
    "\\begin{equation*}\n",
    "    P_X(X=x_i) =  P(\\{s_j \\in S : X(s_j)=x_i\\} )\n",
    "\\end{equation*}\n",
    "where $P_X$ is an _induced_ probability function on $\\mathcal{X}$.\n",
    "\n",
    "If $\\mathcal{X}$ is uncountable, then\n",
    "\\begin{equation*}\n",
    "    P_X(X \\in A) =  P(\\{s \\in S : X(s) \\in A\\} )\n",
    "\\end{equation*}"
   ]
  },
  {
   "cell_type": "markdown",
   "metadata": {
    "slideshow": {
     "slide_type": "slide"
    }
   },
   "source": [
    "## Distribution functions\n",
    "\n",
    "With every random variable $X$, we associate a function called the cumulative distribution function of $X$.\n",
    "> The _cumulative distribution function_ or _cdf_ of a random variable $X$, denoted by $F_X(x)$ is defined by\n",
    "\\begin{equation*}\n",
    "F_X(x) = P_X(X \\leq x) \\text{, for all } x\n",
    "\\end{equation*}"
   ]
  },
  {
   "cell_type": "markdown",
   "metadata": {
    "slideshow": {
     "slide_type": "subslide"
    }
   },
   "source": [
    "Consider the experiment of sampling three nucleotidic bases and let $X$ be the number of GC bases observed.\n",
    "What is the cdf of $X$? Can we plot it?"
   ]
  },
  {
   "cell_type": "markdown",
   "metadata": {
    "slideshow": {
     "slide_type": "fragment"
    }
   },
   "source": [
    "\\begin{align*}\n",
    "F_X(x) &= 0 \\text{, if } -\\infty < x < 0 \\\\\n",
    "F_X(x) &= ? \\text{, if } \\\\\n",
    "...\n",
    "\\end{align*}"
   ]
  },
  {
   "cell_type": "code",
   "execution_count": null,
   "metadata": {},
   "outputs": [],
   "source": [
    "X = {0,1,2,3}\n",
    "\n",
    "for x in X: P(X <= x)\n",
    "\n",
    "P(X <= 0) = 1/8\n",
    "P(X <= 1) = 4/8\n",
    "P(X <= 2) = 7/8\n",
    "P(X <= 3) = 8/8\n",
    "\n",
    "# original sample space\n",
    "000 # -> X=0; P(X<=0)=1/8 \n",
    "001 #\n",
    "010 #\n",
    "100 #\n",
    "011 #\n",
    "101 #\n",
    "110 #\n",
    "111 #\n",
    "\n",
    "\n",
    "\n"
   ]
  },
  {
   "cell_type": "code",
   "execution_count": 7,
   "metadata": {},
   "outputs": [
    {
     "data": {
      "image/png": "[encoded data removed]",
      "text/plain": [
       "plot without title"
      ]
     },
     "metadata": {},
     "output_type": "display_data"
    }
   ],
   "source": [
    "cdf <- c(0,1/8,4/8,7/8,8/8,1)\n",
    "plot(x=c(-1,0,1,2,3,4),cdf, ylim=c(0,1), type=\"p\")"
   ]
  },
  {
   "cell_type": "markdown",
   "metadata": {
    "slideshow": {
     "slide_type": "notes"
    }
   },
   "source": [
    "Note tha the step function $F_X(x)$ is defined for all values of $x$, not just those is $\\mathcal{X}$.\n",
    "Also note that $F_X(x)$ has jumps at values of $x_i \\in \\mathcal{X}$ and the size of the jump at $x_i$ is equal to $P(X=x_i)$.\n",
    "\n",
    "$F_X(x)$ can be discontinuous but has the property of right-continuity."
   ]
  },
  {
   "cell_type": "markdown",
   "metadata": {
    "slideshow": {
     "slide_type": "slide"
    }
   },
   "source": [
    "The function $F_X(x)$ is a cdf if and only if the following three conditions hold:\n",
    "1. $\\lim_{x \\rightarrow -\\infty} F_X(x)=0$ and $\\lim_{x \\rightarrow \\infty} F_X(x)=1$.\n",
    "2. $F_X(x)$ is a nondecreasing function of $x$.\n",
    "3. $F_X(x)$ is right-continuous."
   ]
  },
  {
   "cell_type": "markdown",
   "metadata": {
    "slideshow": {
     "slide_type": "slide"
    }
   },
   "source": [
    "Whether a cdf is continuous or not corresponds to the associated random variable being continuous or not.\n",
    "\n",
    "> A random variable $X$ is _continuous_ if $F_X(x)$ is a continuous function of $x$. A random variable $X$ is _discrete_ if $F_X(x)$ is a step function of $x$."
   ]
  },
  {
   "cell_type": "markdown",
   "metadata": {
    "slideshow": {
     "slide_type": "slide"
    }
   },
   "source": [
    "> The random variables $X$ and $Y$ are _identically distributed_ if, for every set $A \\in \\mathcal{B}^1$ (the smallest algebra sigma), $P(X \\in A) = P(Y \\in A)$.\n",
    "\n",
    "If $X$ and $Y$ are identically distributed, $F_X(x)=F_Y(x)$ for every $X$.\n",
    "\n",
    "$F_X(x)$ completely determines the probability distribution of a random variable $X$."
   ]
  },
  {
   "cell_type": "markdown",
   "metadata": {
    "slideshow": {
     "slide_type": "subslide"
    }
   },
   "source": [
    "Consider the experiment of sampling nucleotidic bases and let $X$ be the number of GC bases observed and $Y$ the number of AT bases observed. \n",
    "\n",
    "Are $X$ and $Y$ identically distributed?"
   ]
  },
  {
   "cell_type": "markdown",
   "metadata": {
    "slideshow": {
     "slide_type": "slide"
    }
   },
   "source": [
    "## Density and mass functions"
   ]
  },
  {
   "cell_type": "markdown",
   "metadata": {
    "slideshow": {
     "slide_type": "notes"
    }
   },
   "source": [
    "\n",
    "Apart from its cdf $F_X$, another function is associated with a random variable $X$.\n",
    "This function is called either the probability density function (pdf) or probability mass function (pmf)."
   ]
  },
  {
   "cell_type": "markdown",
   "metadata": {
    "slideshow": {
     "slide_type": "fragment"
    }
   },
   "source": [
    "> The _probability mass function (pmf)_ of a discrete random variable $X$ is given by\n",
    "\\begin{equation*}\n",
    "f_X(x) = P(X=x) \\text{ for all } x\n",
    "\\end{equation*}\n",
    "\n",
    "Recall that $f_X(x)$ is the size of the jump in the cdf at $x$. \n"
   ]
  },
  {
   "cell_type": "markdown",
   "metadata": {
    "slideshow": {
     "slide_type": "slide"
    }
   },
   "source": [
    "From the pmf, we can calculate probabilities of events, as \n",
    "\\begin{equation*}\n",
    "P(a \\leq X \\leq b) = \\sum_{k=a}^b f_X(k)\n",
    "\\end{equation*}\n",
    "for positive integers $a$ and $b$, with $a \\leq b$.\n",
    "\n",
    "What happens in the continuous case?"
   ]
  },
  {
   "cell_type": "markdown",
   "metadata": {
    "slideshow": {
     "slide_type": "slide"
    }
   },
   "source": [
    "> The _probability density function_ or _pdf_, f_X(x), of a continuous random variable $X$ is the function that satisfies\n",
    "\\begin{equation*}\n",
    "F_X(x) = \\int_{-\\infty}^{x} f_X(t) dt \\text{ for all } x\n",
    "\\end{equation*}\n",
    "\n",
    "The expression \"$X$ has a distribution given by $F_X(x)$\" can be written as \"$X \\sim F_X(x)$\". We can also write $X \\sim f_X(x)$ or $X \\sim Y$ if $X$ and $Y$ have the same distribution.\n",
    "The pdf (or pmf) contains the same information as the cdf. We can use either one to solve problems."
   ]
  },
  {
   "cell_type": "markdown",
   "metadata": {
    "slideshow": {
     "slide_type": "subslide"
    }
   },
   "source": [
    "We need to be more careful in the continuous case. In the discrete we can sum over values of the pmf to get the cdf. Similarly, in the continuous case we substitute sum with integrals.\n",
    "\\begin{equation*}\n",
    "P(X \\leq x) = F_X(x) = \\int_{-\\infty}^x f_x(t) dt\n",
    "\\end{equation*}\n",
    "If $f_X(x)$ is continuous, then\n",
    "\\begin{equation*}\n",
    "\\frac{d}{dx} F_X(x) = f_X(x)\n",
    "\\end{equation*}"
   ]
  },
  {
   "cell_type": "markdown",
   "metadata": {
    "slideshow": {
     "slide_type": "subslide"
    }
   },
   "source": [
    "Assuming that the cdf is\n",
    "\\begin{equation*}\n",
    "F_X(x) = \\frac{1}{1+e^{-x}}\n",
    "\\end{equation*}\n",
    "What is the pmf?"
   ]
  },
  {
   "cell_type": "markdown",
   "metadata": {
    "slideshow": {
     "slide_type": "fragment"
    }
   },
   "source": [
    "$f_X(x) = \\frac{e^{-x}}{(1+e^{-x})^2}$"
   ]
  },
  {
   "cell_type": "markdown",
   "metadata": {
    "slideshow": {
     "slide_type": "slide"
    }
   },
   "source": [
    "A function $f_X(x)$ is a pdf (or pmf) of a random variable $X$ if and only if\n",
    "1. $f_X(x) \\geq 0$ for all $x$\n",
    "2. $\\sum_x f_X(x)=1$ (pmf) or $\\int_{-\\infty}^{\\infty} f_X(x) dx =1 $ (pdf)"
   ]
  },
  {
   "cell_type": "markdown",
   "metadata": {
    "slideshow": {
     "slide_type": "slide"
    }
   },
   "source": [
    "## Probability distributions"
   ]
  },
  {
   "cell_type": "markdown",
   "metadata": {
    "slideshow": {
     "slide_type": "notes"
    }
   },
   "source": [
    "There are a number of fundamental probability distributions that should be studied and understood in detail.\n",
    "It is also straightforward to know which R functions can generate such distributions."
   ]
  },
  {
   "cell_type": "markdown",
   "metadata": {
    "slideshow": {
     "slide_type": "fragment"
    }
   },
   "source": [
    "- Discrete probability distributions include: the uniform discrete, Bernoulli,\n",
    "binomial, geometric and Poisson distributions.\n",
    "\n",
    "- Univariate continuous probability distributions include: the uniform continuous, exponential, Normal, Chi-squared ($\\chi^2$), log-normal, Gamma."
   ]
  },
  {
   "cell_type": "markdown",
   "metadata": {
    "slideshow": {
     "slide_type": "slide"
    }
   },
   "source": [
    "For all these distributions, we can calculate notable quantities, including expectations and variance.\n",
    "The expected value of a continuous random variable $X$ is\n",
    "\\begin{equation*}\n",
    "E[X] = \\int_{-\\infty}^{\\infty} x f_X(x) dx\n",
    "\\end{equation*}\n",
    "The variance of a continuous random variable is\n",
    "\\begin{equation*}\n",
    "Var[X] = E[(X-E[X])^2] = E[X^2] - (E[X])^2\n",
    "\\end{equation*}"
   ]
  },
  {
   "cell_type": "markdown",
   "metadata": {
    "slideshow": {
     "slide_type": "slide"
    }
   },
   "source": [
    "### Discrete uniform distribution\n",
    "\n",
    "For a fair dice all of the six faces have the same probabilities\n",
    "$P(X=i)=\\frac{1}{6}$ for all $i \\in \\{1,2,3,4,5,6\\}$\n",
    "\n",
    "We say that $X$ follows a _discrete uniform distribution_ on $S=\\{1,2,3,4,5,6\\}$. \n",
    "\n",
    "The discrete uniform distribution is a probability distribution where a finite number of values are equally likely to be observed: every one of $n$ values has equal probability of $\\frac{1}{n}$."
   ]
  },
  {
   "cell_type": "markdown",
   "metadata": {
    "slideshow": {
     "slide_type": "subslide"
    }
   },
   "source": [
    "What is the pmf and cdf of a discrete uniform distribution?"
   ]
  },
  {
   "cell_type": "code",
   "execution_count": null,
   "metadata": {
    "slideshow": {
     "slide_type": "fragment"
    }
   },
   "outputs": [],
   "source": [
    "pmf_dunif<-function(x, min=0, max=1) ifelse(x>=min & x<=max & round(x)==x, 1/(max-min+1), 0)\n",
    "cdf_dunif<-function(q, min=0, max=1) ifelse(q<min, 0, ifelse(q>=max, 1, (floor(q)-min+1)/(max-min+1)))"
   ]
  },
  {
   "cell_type": "code",
   "execution_count": null,
   "metadata": {
    "slideshow": {
     "slide_type": "fragment"
    }
   },
   "outputs": [],
   "source": [
    "pmf_dunif(2, min=1, max=6)\n",
    "cdf_dunif(2, min=1, max=6)"
   ]
  },
  {
   "cell_type": "code",
   "execution_count": null,
   "metadata": {
    "slideshow": {
     "slide_type": "subslide"
    }
   },
   "outputs": [],
   "source": [
    "plot(x=1:6, y=pmf_dunif(1:6, min=1, max=6))\n",
    "plot(x=1:6, y=cdf_dunif(1:6, min=1, max=6), type=\"s\")"
   ]
  },
  {
   "cell_type": "markdown",
   "metadata": {
    "slideshow": {
     "slide_type": "slide"
    }
   },
   "source": [
    "### Bernoulli distribution\n",
    "\n",
    "A _Bernoulli trial_ is an experiment that has two outcomes. The sample space is $S=\\{success, fail\\}$ or $S=\\{1, 0\\}$.\n",
    "\n",
    "If $X$ is a radom variable following a Bernoulli distribution, then\n",
    "\n",
    "$P(X=1)=p$ and $P(X=0)=1-p$"
   ]
  },
  {
   "cell_type": "markdown",
   "metadata": {
    "slideshow": {
     "slide_type": "subslide"
    }
   },
   "source": [
    "A classical example of a Bernoulli experiment is a single toss of a coin. The coin might come up heads with a probability $p$ and tails with a probability $1-p$.\n",
    "\n",
    "The experiment is called _fair_ if $p=0.5$."
   ]
  },
  {
   "cell_type": "markdown",
   "metadata": {
    "slideshow": {
     "slide_type": "slide"
    }
   },
   "source": [
    "The expected value of a Bernoulli random variable $X$ is\n",
    "\n",
    "$E[X]=1 \\times p + 0 \\times (1-p) = p$"
   ]
  },
  {
   "cell_type": "markdown",
   "metadata": {
    "slideshow": {
     "slide_type": "fragment"
    }
   },
   "source": [
    "The variance of a Bernoulli random variable $X$ is\n",
    "\n",
    "$Var[X] = E[(X-E[X])^2] = (1-p)^2 \\times p + (0-p)^2 \\times (1-p) = p(1-p)$ "
   ]
  },
  {
   "cell_type": "code",
   "execution_count": null,
   "metadata": {
    "slideshow": {
     "slide_type": "subslide"
    }
   },
   "outputs": [],
   "source": [
    "# pmf: Bernoulli trial\n",
    "plot(x=0:1, y=dbinom(x=0:1, size=1, prob=0.5))"
   ]
  },
  {
   "cell_type": "code",
   "execution_count": null,
   "metadata": {
    "slideshow": {
     "slide_type": "subslide"
    }
   },
   "outputs": [],
   "source": [
    "# expected value and variance\n",
    "samples = rbinom(n=1e5, size=1, prob=0.5)\n",
    "mean(samples)\n",
    "var(samples)"
   ]
  },
  {
   "cell_type": "markdown",
   "metadata": {
    "slideshow": {
     "slide_type": "slide"
    }
   },
   "source": [
    "### Binomial distribution\n",
    "\n",
    "The probability of obtaining $k$ successes out of $n$ Bernoulli trials is\n",
    "\n",
    "$P(Y=k) = \\frac{n!}{k!(n-k)!}p^k(1-p)^{n-k} $\n",
    "\n",
    "The random variable $Y$ follows a _Binomial distribution_ with parameters $n$ and $p$, denoted by $B(n,p)$."
   ]
  },
  {
   "cell_type": "markdown",
   "metadata": {
    "slideshow": {
     "slide_type": "slide"
    }
   },
   "source": [
    "$E[Y]=np$\n",
    "\n",
    "$Var[Y]=np(1-p)$\n",
    "\n",
    "The variance is a measure of spread and it increases with $n$ and decreases as $p$ approaches $0$ or $1$. For a given $n$, the variance is maximised when $p=0.5$."
   ]
  },
  {
   "cell_type": "code",
   "execution_count": null,
   "metadata": {
    "slideshow": {
     "slide_type": "subslide"
    }
   },
   "outputs": [],
   "source": [
    "# pmf: Binomial distribution\n",
    "plot(x=0:10, y=dbinom(x=0:10, size=10, prob=0.5))"
   ]
  },
  {
   "cell_type": "markdown",
   "metadata": {
    "slideshow": {
     "slide_type": "slide"
    }
   },
   "source": [
    "### Exponential distribution\n",
    "\n",
    "If $X$ is an exponential random variable then its density function is given by\n",
    "\n",
    "$f_X(x) = \\lambda e^{-\\lambda x}$ if $x \\geq 0$ or $0$ otherwise."
   ]
  },
  {
   "cell_type": "markdown",
   "metadata": {
    "slideshow": {
     "slide_type": "fragment"
    }
   },
   "source": [
    "$E[X] = 1 / \\lambda$\n",
    "\n",
    "$Var[X] = 1 / \\lambda^2$"
   ]
  },
  {
   "cell_type": "code",
   "execution_count": null,
   "metadata": {
    "slideshow": {
     "slide_type": "fragment"
    }
   },
   "outputs": [],
   "source": [
    "# pdf: Exponential distribution\n",
    "x = seq(0,5,0.01)\n",
    "plot(x=x, y=dexp(x=x, rate=1), type=\"l\")"
   ]
  },
  {
   "cell_type": "markdown",
   "metadata": {
    "slideshow": {
     "slide_type": "slide"
    }
   },
   "source": [
    "### Normal distribution\n",
    "\n",
    "The probability density function of a Normal (or Gaussian) random variable is \n",
    "\n",
    "$f_X(x) = \\frac{1}{\\sqrt{2\\pi\\sigma}} e^{-{\\frac{(x-\\mu)^2}{2\\sigma^2}}} $\n",
    "\n",
    "which depends on a location parameter $\\mu$ and a scale parameter $\\sigma$."
   ]
  },
  {
   "cell_type": "markdown",
   "metadata": {
    "slideshow": {
     "slide_type": "slide"
    }
   },
   "source": [
    "If $X \\sim N(\\mu, \\sigma^2)$, then\n",
    "\n",
    "$E[X]=\\mu$\n",
    "\n",
    "$Var[X]=\\sigma^2$\n",
    "\n",
    "This distribution is symmetric with a bell shape. Points of inflection are at $\\mu - \\sigma$ and $\\mu + \\sigma$. The mean $\\mu$ is also the median and mode."
   ]
  },
  {
   "cell_type": "code",
   "execution_count": null,
   "metadata": {
    "slideshow": {
     "slide_type": "subslide"
    }
   },
   "outputs": [],
   "source": [
    "# pdf: Normal distribution\n",
    "x = seq(-5,5,0.01)\n",
    "plot(x=x, y=dnorm(x=x, mean=0, sd=1), type=\"l\")"
   ]
  },
  {
   "cell_type": "code",
   "execution_count": null,
   "metadata": {
    "slideshow": {
     "slide_type": "fragment"
    }
   },
   "outputs": [],
   "source": [
    "# cdf: Normal distribution\n",
    "x = seq(-5,5,0.01)\n",
    "plot(x=x, y=pnorm(q=x, mean=0, sd=1), type=\"l\")"
   ]
  },
  {
   "cell_type": "markdown",
   "metadata": {
    "slideshow": {
     "slide_type": "slide"
    }
   },
   "source": [
    "There are several rules for manipulating expected values and variances.\n",
    "* If $X$ is a continuous random variable with pdf $f_X(x)$, then for any real-valued function $g$\n",
    "\\begin{equation*}\n",
    "E[g(X)] = \\int_{-\\infty}^{\\infty} g(x) f_X(x) dx\n",
    "\\end{equation*}\n",
    "* If $a$ and $b$ are constants, $E[aX+b]=aE[X]+b$ and $Var[aX+b]=a^2Var[X]$"
   ]
  },
  {
   "cell_type": "code",
   "execution_count": null,
   "metadata": {
    "slideshow": {
     "slide_type": "subslide"
    }
   },
   "outputs": [],
   "source": [
    "# N(mean=1,sd=1)\n",
    "mu=1; scale=1\n",
    "a=2; b=3\n",
    "mean(a*rnorm(n=1e5, mean=mu, sd=scale)+b)\n",
    "a*1+b"
   ]
  },
  {
   "cell_type": "code",
   "execution_count": null,
   "metadata": {
    "slideshow": {
     "slide_type": "subslide"
    }
   },
   "outputs": [],
   "source": [
    "# N(mean=1,sd=1)\n",
    "mu=1; scale=1\n",
    "a=2; b=3\n",
    "var(a*rnorm(n=1e5, mean=mu, sd=scale)+b)\n",
    "a^2*1^2"
   ]
  },
  {
   "cell_type": "markdown",
   "metadata": {
    "slideshow": {
     "slide_type": "slide"
    }
   },
   "source": [
    "### Intended Learning Outcomes \n",
    "\n",
    "At the end of this session, you are now be able to:\n",
    "* Describe the principles of set theory and set operations\n",
    "* Illustrate the axiomatic foundations of probability theory and appropriate counting methods\n",
    "* Identify dependence and indepedence of events\n",
    "* Show the utility of distribution functions for random variables\n",
    "* Demonstrate how to implement basic probability calculus in _*R*_"
   ]
  }
 ],
 "metadata": {
  "celltoolbar": "Slideshow",
  "kernelspec": {
   "display_name": "R",
   "language": "R",
   "name": "ir"
  },
  "language_info": {
   "codemirror_mode": "r",
   "file_extension": ".r",
   "mimetype": "text/x-r-source",
   "name": "R",
   "pygments_lexer": "r",
   "version": "3.6.1"
  }
 },
 "nbformat": 4,
 "nbformat_minor": 2
}
