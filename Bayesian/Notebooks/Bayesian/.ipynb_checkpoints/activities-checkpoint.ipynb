{
 "cells": [
  {
   "cell_type": "markdown",
   "metadata": {},
   "source": [
    "![ICL](Images/imperiallogo.jpeg)\n",
    "\n",
    "# Bayesian methods in ecology and evolution\n",
    "\n",
    "https://bitbucket.org/mfumagal/statistical_inference\n",
    "\n",
    "## solutions for activities"
   ]
  },
  {
   "cell_type": "markdown",
   "metadata": {},
   "source": [
    "### day 1a: Bayesian thinking"
   ]
  },
  {
   "cell_type": "code",
   "execution_count": null,
   "metadata": {},
   "outputs": [],
   "source": [
    "# function to calculate log-like of data D={0,1} given N={0,1} \n",
    "calcLogLikeNessie <- function(D) {\n",
    "    # initialise\n",
    "    logLikeNessie <- rep(0,2)\n",
    "    # for each data point\n",
    "    for (d in D) if (d==1) logLikeNessie <- logLikeNessie + c(log(0.05), log(0.99)) else logLikeNessie <- logLikeNessie + c(log(0.95), log(0.01))\n",
    "    logLikeNessie\n",
    "}"
   ]
  },
  {
   "cell_type": "code",
   "execution_count": null,
   "metadata": {},
   "outputs": [],
   "source": [
    "loglike <- calcLogLikeNessie(c(1,0,1))\n",
    "cat(\"LogLike:\", loglike)\n",
    "plot(x=c(0,1), y=loglike, xlab=\"N (random variable)\", ylab=\"log-likelohood\", type=\"b\")\n",
    "cat(\"\\nMLE:\", which.max(loglike)-1)\n",
    "cat(\"\\nLR:\", diff(loglike))"
   ]
  },
  {
   "cell_type": "code",
   "execution_count": null,
   "metadata": {},
   "outputs": [],
   "source": [
    "diff(calcLogLikeNessie(rep(1,3)))"
   ]
  },
  {
   "cell_type": "markdown",
   "metadata": {},
   "source": [
    "### day 1b: Bayesian concepts"
   ]
  },
  {
   "cell_type": "code",
   "execution_count": null,
   "metadata": {},
   "outputs": [],
   "source": [
    "### sharper prior\n",
    "## mu=2 and tau=0.5\n",
    "# prior\n",
    "mu <- 2\n",
    "tau <- 0.5\n",
    "x <- seq(-4,10,0.01)\n",
    "plot(x=x, dnorm(x=x, mean=mu, sd=tau), ylim=c(0,1),\n",
    "    type=\"l\", lty=1, ylab=\"Density\", xlab=expression(theta), main=\"\")\n",
    "    legend(x=\"topleft\", legend=c(expression(pi(theta)),\n",
    "    expression(f(y~\"|\"~theta)), expression(p(theta~\"|\"~y))), lty=1:3) # prior\n",
    "          \n",
    "# likelihood\n",
    "y <- 6\n",
    "sigma <- 1\n",
    "points(x=x, y=dnorm(x=y, mean=x, sd=sigma), type=\"l\", lty=2) # likelihood\n",
    "\n",
    "# posterior\n",
    "B <- sigma^2/(sigma^2+tau^2)\n",
    "postMean <- B*mu + (1-B)*y\n",
    "postVar <- B*tau^2\n",
    "points(x=x, y=dnorm(x=x, mean=postMean, sd=sqrt(postVar)), type=\"l\", lty=3)\n",
    "\n",
    "print(x[which.max(dnorm(x=x, mean=postMean, sd=sqrt(postVar)))])\n",
    "print(B)"
   ]
  },
  {
   "cell_type": "code",
   "execution_count": null,
   "metadata": {},
   "outputs": [],
   "source": [
    "### wider prior\n",
    "## mu=2 and tau=2\n",
    "# prior\n",
    "mu <- 2\n",
    "tau <- 2\n",
    "x <- seq(-4,10,0.01)\n",
    "plot(x=x, dnorm(x=x, mean=mu, sd=tau), ylim=c(0,0.5),\n",
    "    type=\"l\", lty=1, ylab=\"Density\", xlab=expression(theta), main=\"\")\n",
    "    legend(x=\"topleft\", legend=c(expression(pi(theta)),\n",
    "    expression(f(y~\"|\"~theta)), expression(p(theta~\"|\"~y))), lty=1:3) # prior\n",
    "          \n",
    "# likelihood\n",
    "y <- 6\n",
    "sigma <- 1\n",
    "points(x=x, y=dnorm(x=y, mean=x, sd=sigma), type=\"l\", lty=2) # likelihood\n",
    "\n",
    "# posterior\n",
    "B <- sigma^2/(sigma^2+tau^2)\n",
    "postMean <- B*mu + (1-B)*y\n",
    "postVar <- B*tau^2\n",
    "points(x=x, y=dnorm(x=x, mean=postMean, sd=sqrt(postVar)), type=\"l\", lty=3)\n",
    "\n",
    "print(x[which.max(dnorm(x=x, mean=postMean, sd=sqrt(postVar)))])\n",
    "print(B)"
   ]
  },
  {
   "cell_type": "markdown",
   "metadata": {},
   "source": [
    "### day 2a: prior distributions"
   ]
  },
  {
   "cell_type": "markdown",
   "metadata": {},
   "source": [
    "The posterior is a Gamma distribution $G(3+4,1/(1+1/1)$ with a prior $G(3,1)$."
   ]
  },
  {
   "cell_type": "code",
   "execution_count": null,
   "metadata": {},
   "outputs": [],
   "source": [
    "## Gamma posterior\n",
    "alpha <- 3\n",
    "beta <- 1\n",
    "theta <- seq(0, 20, 0.1)\n",
    "\n",
    "prior <- dgamma(x=theta, shape=alpha, scale=beta)\n",
    "y <- 4\n",
    "posterior <- dgamma(x=theta, shape=y+alpha, scale=1/(1+1/beta))\n",
    "\n",
    "plot(x=theta, y=posterior, xlab=expression(theta), ylab=\"Density\", type=\"l\")\n",
    "lines(theta, prior, lty=3)\n",
    "\n",
    "postdraw <- rgamma(n=1e5, shape=y+alpha, scale=1/(1+1/beta))\n",
    "histdraw <- hist(postdraw, breaks=20, plot=F)\n",
    "lines(histdraw, lty=3, col=\"grey\", freq=F)"
   ]
  },
  {
   "cell_type": "markdown",
   "metadata": {},
   "source": [
    "### day 2b: Bayesian inference"
   ]
  },
  {
   "cell_type": "code",
   "execution_count": null,
   "metadata": {},
   "outputs": [],
   "source": [
    "## confidence intervals\n",
    "theta <- seq(0, 10, 0.05)\n",
    "x <- rnorm(n=1e5, mean=2, sd=1)\n",
    "a <- 1-0.90\n",
    "# equal-tailed interval\n",
    "eqi <- quantile(x, probs=c( a/2, 1-(a/2) ) )\n",
    "hist(x, xlab=expression(theta), ylab=\"Posterior density\")\n",
    "abline(v=eqi, lty=2)"
   ]
  },
  {
   "cell_type": "markdown",
   "metadata": {},
   "source": [
    "### day 3: Bayesian computation"
   ]
  },
  {
   "cell_type": "code",
   "execution_count": null,
   "metadata": {},
   "outputs": [],
   "source": [
    "# calculate density from true posterior\n",
    "L_times_pi <- function(x) dbeta(x, 3, 10) # L(theta)*pi(theta)\n",
    "\n",
    "# g is a uniform prior, M is the maximum density value of the posterior (if known)\n",
    "x <- seq(0,1,0.01)\n",
    "epsilon <- 1e-3\n",
    "M <- max(L_times_pi(x)) + epsilon\n",
    "\n",
    "thetas <- c()\n",
    "\n",
    "# we want N samples\n",
    "N <- 1e4\n",
    "\n",
    "while (length(thetas) < N) {\n",
    "\n",
    "    theta_j <- runif(1, 0, 1)\n",
    "    U <- runif(1, 0, 1)\n",
    "\n",
    "    if (M*U < L_times_pi(theta_j)) thetas <- c(thetas, theta_j)\n",
    "\n",
    "}\n",
    "\n",
    "hist(thetas)\n",
    "\n",
    "# check with a qq-plot\n",
    "rawDensity <- rbeta(N, 3, 10)\n",
    "qqplot(rawDensity, thetas)\n",
    "abline(0,1)"
   ]
  },
  {
   "cell_type": "markdown",
   "metadata": {},
   "source": [
    "### day 4a: approximate Bayesian computation"
   ]
  },
  {
   "cell_type": "code",
   "execution_count": null,
   "metadata": {},
   "outputs": [],
   "source": [
    "source(\"Data/abc.R\")\n",
    "# Rejection algorithm with proportions of simulations to accept\n",
    "N <- 1e4\n",
    "Y <- c(91.34, 89.21, 88.98)\n",
    "th <- 0.05\n",
    "\n",
    "# function to simulate is called \"simulateWaterTemp\"\n",
    "\n",
    "# distance function\n",
    "rho <- function(x,y) sum(sqrt((x-y)^2))/length(y)\n",
    "\n",
    "thetas <- distances <- c()\n",
    "for (i in 1:N) {\n",
    "\n",
    "        # 1. draw from prior (continuous, bounded, Normal)\n",
    "        theta <- 0\n",
    "        while (theta<80 | theta>110) {\n",
    "                theta <- rnorm(1, mean=90, sd=sqrt(20))\n",
    "        }\n",
    "        thetas <- c(thetas, theta)\n",
    "\n",
    "        # 2. simulate observations\n",
    "        ysim <- simulateWaterTemp(theta)\n",
    "\n",
    "        # 3. calculate and retain distances\n",
    "        distances <- c(distances, rho(ysim,Y))\n",
    "\n",
    "}\n",
    "\n",
    "# prior / parameter\n",
    "hist(thetas)\n",
    "quantile(thetas)\n",
    "\n",
    "# relationship between parameter and distance\n",
    "head(cbind(thetas,distances))\n",
    "\n",
    "# distances\n",
    "hist(distances)\n",
    "accepted <- which(rank(distances, ties.method=\"random\")/length(distances)<=th)\n",
    "range(distances[accepted])\n",
    "abline(v=max(distances[accepted]), lty=2)\n",
    "\n",
    "# plot prior/posterior\n",
    "par(mfrow=c(2,1))\n",
    "hist(thetas, xlim=c(80,110), main=\"Prior\")\n",
    "hist(thetas[accepted], xlim=c(80,110), main=\"Posterior\")\n",
    "quantile(thetas[accepted])\n",
    "\n",
    "# expected value\n",
    "mean(thetas[accepted])\n",
    "\n",
    "# 95% HPD\n",
    "library(coda)\n",
    "HPDinterval(as.mcmc(thetas[accepted]), prob=0.95)\n"
   ]
  },
  {
   "cell_type": "markdown",
   "metadata": {},
   "source": [
    "### day 5: Bayesian networks"
   ]
  },
  {
   "cell_type": "code",
   "execution_count": 1,
   "metadata": {},
   "outputs": [
    {
     "data": {
      "text/html": [
       "0.2261"
      ],
      "text/latex": [
       "0.2261"
      ],
      "text/markdown": [
       "0.2261"
      ],
      "text/plain": [
       "[1] 0.2261"
      ]
     },
     "metadata": {},
     "output_type": "display_data"
    }
   ],
   "source": [
    "# probability of $P(d^0, g^2, s^0) = P(g^2 | d^0) P(s^0 | d^0) P(d^0)$\n",
    "0.34 * 0.95 * 0.70"
   ]
  },
  {
   "cell_type": "code",
   "execution_count": 2,
   "metadata": {},
   "outputs": [
    {
     "data": {
      "text/html": [
       "3.42857142857143"
      ],
      "text/latex": [
       "3.42857142857143"
      ],
      "text/markdown": [
       "3.42857142857143"
      ],
      "text/plain": [
       "[1] 3.428571"
      ]
     },
     "metadata": {},
     "output_type": "display_data"
    }
   ],
   "source": [
    "# confidence $P(d^1, g^2, s^1)$\n",
    "(0.3/0.7)*(0.17/0.34)*(0.80/0.05)"
   ]
  },
  {
   "cell_type": "code",
   "execution_count": null,
   "metadata": {},
   "outputs": [],
   "source": []
  }
 ],
 "metadata": {
  "kernelspec": {
   "display_name": "R",
   "language": "R",
   "name": "ir"
  },
  "language_info": {
   "codemirror_mode": "r",
   "file_extension": ".r",
   "mimetype": "text/x-r-source",
   "name": "R",
   "pygments_lexer": "r",
   "version": "3.6.2"
  }
 },
 "nbformat": 4,
 "nbformat_minor": 2
}
