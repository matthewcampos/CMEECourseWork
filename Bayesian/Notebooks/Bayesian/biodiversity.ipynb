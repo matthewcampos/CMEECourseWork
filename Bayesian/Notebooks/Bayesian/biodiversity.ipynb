{
 "cells": [
  {
   "cell_type": "markdown",
   "metadata": {},
   "source": [
    "# Deep learning\n",
    "\n",
    "Our toy example will be to classify species as endangered or not based genomic data. The rationale is that species with a small (effective population size) will have higher chances to be threatened. The amount of genomic variability (e.g. polymorphic sites and haplotype diversity) is taken as a proxy for the (effective) population size of each species. The genomic variation at marker loci is represented as an image.\n",
    "\n",
    "### Objective\n",
    "\n",
    "We assume that we have collected some genomic data on many species which have already been categorised into 4 classes of conservation status: least concern, vulnerable, endangered, critically endagered. \n",
    "Our goal is to implement a classifier that given genomic data can predic whether that species is endangered or not.\n",
    "\n",
    "Now the know how to process and manipulate images with python, we can actually do some science! \n",
    "As explained before our goal is to build a classifier to predict whether a certain species is endangered or not.\n",
    "We use genetic information as proxy for the ability of the species to react to novel conditions.\n",
    "\n",
    "We assume we have 4 classes of conservation status (LC, VU, EN, CR) and 400 samples per class. Each data point is an image which represents the (biallelic) genetic variation (so it's binary) across individuals (on the rows) over several genetic loci (on the columns). Images are double sorted to remove some noise associated to the order of samples and polymorphic sites."
   ]
  },
  {
   "cell_type": "code",
   "execution_count": null,
   "metadata": {},
   "outputs": [],
   "source": [
    "%matplotlib notebook\n",
    "import matplotlib.pyplot as plt\n",
    "\n",
    "import numpy as np"
   ]
  },
  {
   "cell_type": "markdown",
   "metadata": {},
   "source": [
    "## Training and testing data\n",
    "\n",
    "The first think we do is to load images representing genomic data from various species. These images have already been converted into `numpy` arrays. (Note that we have already preprocessed our data, so pixel intensitities have been scaled between 0 and 1.)"
   ]
  },
  {
   "cell_type": "code",
   "execution_count": null,
   "metadata": {},
   "outputs": [],
   "source": [
    "X_train = np.load(\"Data/X_train.npy\")\n",
    "print(X_train.shape)"
   ]
  },
  {
   "cell_type": "markdown",
   "metadata": {},
   "source": [
    "If we want to plot one image, then we need to do a proper slicing."
   ]
  },
  {
   "cell_type": "code",
   "execution_count": null,
   "metadata": {},
   "outputs": [],
   "source": [
    "print(X_train[0,:,:,0].shape)\n",
    "plt.imshow(X_train[0,:,:,0], cmap=plt.cm.binary)"
   ]
  },
  {
   "cell_type": "markdown",
   "metadata": {},
   "source": [
    "which corresponds to the following matrix:"
   ]
  },
  {
   "cell_type": "code",
   "execution_count": null,
   "metadata": {},
   "outputs": [],
   "source": [
    "X_train[0,:,:,0]"
   ]
  },
  {
   "cell_type": "markdown",
   "metadata": {},
   "source": [
    "Apart from the data itself (called `X`), we also need labels (called `y`) associated to each data point. These labels indicate which class each data point belongs to. What is the rank and shape of this `numpy` array?"
   ]
  },
  {
   "cell_type": "code",
   "execution_count": null,
   "metadata": {},
   "outputs": [],
   "source": [
    "classes = [\"LC\", \"VU\", \"EN\", \"CR\"]"
   ]
  },
  {
   "cell_type": "code",
   "execution_count": null,
   "metadata": {},
   "outputs": [],
   "source": [
    "y_train = np.load(\"Data/y_train.npy\")\n",
    "print(y_train.shape)\n",
    "y_train"
   ]
  },
  {
   "cell_type": "code",
   "execution_count": null,
   "metadata": {},
   "outputs": [],
   "source": [
    "for idx, elem in enumerate(classes):\n",
    "    index = np.where(np.argmax(y_train, axis=1)==idx)[0][0]\n",
    "    print(idx, elem, index)\n",
    "    plt.figure()\n",
    "    plt.title(elem)\n",
    "    plt.imshow(X_train[index,:,:,0], cmap=plt.cm.binary)"
   ]
  },
  {
   "cell_type": "markdown",
   "metadata": {},
   "source": [
    "If you recall, we collected 400 samples per class so we should expect 1600 data points. We have 1200 entries in the training set. Why?\n",
    "\n",
    "We split the data we have into training and testing. The learning will be done in the training set and the measurement of accuracy will happen on the testing set. What is the rank and shape of the these `numpy` objects?"
   ]
  },
  {
   "cell_type": "code",
   "execution_count": null,
   "metadata": {},
   "outputs": [],
   "source": [
    "X_test = np.load(\"Data/X_test.npy\")\n",
    "print(X_test.shape)\n",
    "\n",
    "y_test = np.load(\"Data/y_test.npy\")\n",
    "print(y_test.shape)"
   ]
  },
  {
   "cell_type": "markdown",
   "metadata": {},
   "source": [
    "Finally, we want to predict the classification of an unknown species, the Marsican bear (labelled as `ursus`).\n",
    "Let's load its image, check its rank and plot it."
   ]
  },
  {
   "cell_type": "code",
   "execution_count": null,
   "metadata": {},
   "outputs": [],
   "source": [
    "X_ursus = np.load(\"Data/X_ursus.npy\")\n",
    "print(X_ursus.shape)\n",
    "\n",
    "plt.imshow(X_ursus[0,:,:,0], cmap=plt.cm.binary)"
   ]
  },
  {
   "cell_type": "markdown",
   "metadata": {},
   "source": [
    "## keras / TensorFlow\n",
    "\n",
    "We will be using TensorFlow to build and train our deep neural network. In particular, we will use Keras which is TensorFlow's high-level API.\n",
    "Keras is used for fast prototyping and production since it is\n",
    "* User friendly: a simple, consistent interface optimized for common use cases.\n",
    "* Modular and composable: models are made by connecting building blocks together.\n",
    "* Easy to extend: you can write custom building blocks, new layers, loss functions, etc. etc.\n",
    "\n",
    "`tf.keras` is the implementation of [Keras API specification](https://keras.io/). `tf.keras` can run any Keras-compatible code."
   ]
  },
  {
   "cell_type": "markdown",
   "metadata": {},
   "source": [
    "## Predicting conservation status\n",
    "\n",
    "Let's build our convnet. First thing, we need to define the architecture.\n",
    "To do that, we need to import some modules from `keras`.\n",
    "Instead of using `tensorflow`, we can use the high-levekl API `keras` with a tensforlow backend."
   ]
  },
  {
   "cell_type": "code",
   "execution_count": null,
   "metadata": {},
   "outputs": [],
   "source": [
    "import keras"
   ]
  },
  {
   "cell_type": "code",
   "execution_count": null,
   "metadata": {},
   "outputs": [],
   "source": [
    "X_train = np.load(\"Data/X_train.npy\")\n",
    "y_train = np.load(\"Data/y_train.npy\")\n",
    "\n",
    "X_test = np.load(\"Data/X_test.npy\")\n",
    "y_test = np.load(\"Data/y_test.npy\")\n",
    "\n",
    "X_ursus = np.load(\"Data/X_ursus.npy\")"
   ]
  },
  {
   "cell_type": "markdown",
   "metadata": {},
   "source": [
    "### Architecture\n",
    "\n",
    "Building the neural network requires configuring the layers of the model, then compiling the model.\n",
    "The sequential model type from `keras` is simply a linear stack of neural network layers.\n",
    "Each layer will be added (or stacked) to the initial model."
   ]
  },
  {
   "cell_type": "code",
   "execution_count": null,
   "metadata": {},
   "outputs": [],
   "source": [
    "model = keras.Sequential()"
   ]
  },
  {
   "cell_type": "markdown",
   "metadata": {},
   "source": [
    "The model needs also to know what input shape it should expect. The first layer (but only the first) needs to receive such information.\n",
    "Let's add a convolutional layer. We can read how to do it from [here](https://keras.io/layers/convolutional/#conv2d).\n",
    "Also note that we can add activation and padding layers directly into this convolutional layer."
   ]
  },
  {
   "cell_type": "code",
   "execution_count": null,
   "metadata": {},
   "outputs": [],
   "source": [
    "model.add(keras.layers.Conv2D(filters=16, kernel_size=(3,3), strides=(1,1), activation=\"relu\", padding=\"same\", input_shape=(64, 64, 1)))"
   ]
  },
  {
   "cell_type": "markdown",
   "metadata": {},
   "source": [
    "After a convolutional layer it is often used a max-pooling layer. Read its definition [here](https://keras.io/layers/pooling/#maxpooling2d)."
   ]
  },
  {
   "cell_type": "code",
   "execution_count": null,
   "metadata": {},
   "outputs": [],
   "source": [
    "model.add(keras.layers.MaxPooling2D(pool_size=(2,2)))"
   ]
  },
  {
   "cell_type": "markdown",
   "metadata": {},
   "source": [
    "To prevent overfitting, one trick is to use a [Dropout](https://keras.io/layers/core/#dropout) layer."
   ]
  },
  {
   "cell_type": "code",
   "execution_count": null,
   "metadata": {},
   "outputs": [],
   "source": [
    "model.add(keras.layers.Dropout(rate=0.5))"
   ]
  },
  {
   "cell_type": "markdown",
   "metadata": {},
   "source": [
    "You can add several cycles of Conv-MaxPool-Dropout.\n",
    "If you then want to move towards the final fully connected neural network, you need to first flatten the network."
   ]
  },
  {
   "cell_type": "code",
   "execution_count": null,
   "metadata": {},
   "outputs": [],
   "source": [
    "model.add(keras.layers.Flatten())"
   ]
  },
  {
   "cell_type": "markdown",
   "metadata": {},
   "source": [
    "Finally we can add a fully connected network with a relu activation using a [Dense](https://keras.io/layers/core/#dense) layer, another dropout layer, and then the output layer with a softmax activation."
   ]
  },
  {
   "cell_type": "code",
   "execution_count": null,
   "metadata": {},
   "outputs": [],
   "source": [
    "model.add(keras.layers.Dense(units=32, activation=\"relu\"))\n",
    "# we need 4 units at the output since we have 4 classes\n",
    "model.add(keras.layers.Dense(units=4, activation=\"softmax\"))"
   ]
  },
  {
   "cell_type": "markdown",
   "metadata": {},
   "source": [
    "We can even print a summary of our architecture with the specification of the learnable parameters."
   ]
  },
  {
   "cell_type": "code",
   "execution_count": null,
   "metadata": {},
   "outputs": [],
   "source": [
    "model.summary()"
   ]
  },
  {
   "cell_type": "code",
   "execution_count": null,
   "metadata": {},
   "outputs": [],
   "source": [
    "from keras.utils import plot_model\n",
    "plot_model(model, to_file='model.png')\n",
    "# xdg-open model.png"
   ]
  },
  {
   "cell_type": "markdown",
   "metadata": {},
   "source": [
    "### Compiling\n",
    "\n",
    "We need to \"compile\" the network and prepare it for the training. We do it by specifying the [loss function](https://keras.io/losses/) and [optimisation](https://keras.io/optimizers/) to use."
   ]
  },
  {
   "cell_type": "code",
   "execution_count": null,
   "metadata": {},
   "outputs": [],
   "source": [
    "model.compile(optimizer=keras.optimizers.Adam(0.001),\n",
    "              loss='categorical_crossentropy',\n",
    "              metrics=['accuracy'])"
   ]
  },
  {
   "cell_type": "markdown",
   "metadata": {},
   "source": [
    "### Training\n",
    "\n",
    "Let's train our network. We pass the training data set and the network will optimise its parameters to minimise the loss function.\n",
    "We can allocate a portion of the training data as validation data. You can read more [here](https://keras.io/models/sequential/)."
   ]
  },
  {
   "cell_type": "code",
   "execution_count": null,
   "metadata": {},
   "outputs": [],
   "source": [
    "hist = model.fit(X_train, y_train, batch_size=32, epochs=10, validation_split=0.20)"
   ]
  },
  {
   "cell_type": "markdown",
   "metadata": {},
   "source": [
    "The validation accuracy is used to tune the hyper-parameters (e.g. learning rate, dropout rate).\n",
    "It's convenient to plot the decay of loss and increase of accuracy for both the training and validation set."
   ]
  },
  {
   "cell_type": "code",
   "execution_count": null,
   "metadata": {},
   "outputs": [],
   "source": [
    "from matplotlib import rcParams\n",
    "\n",
    "train_loss = hist.history['loss']\n",
    "val_loss = hist.history['val_loss']\n",
    "train_acc = hist.history['acc']\n",
    "val_acc = hist.history['val_acc']\n",
    "\n",
    "xc = range(10)\n",
    "x_axis = np.zeros(len(xc))\n",
    "for x,i in enumerate (xc):\n",
    "    x_axis[i] = x + 1\n",
    "\n",
    "rcParams['axes.titlepad'] = 20 \n",
    "plt.figure()\n",
    "plt.plot(x_axis,train_loss)\n",
    "plt.plot(x_axis,val_loss)\n",
    "plt.xlabel('Epoch', fontsize=12)\n",
    "plt.ylabel('Loss', fontsize=12)\n",
    "plt.title('Training loss and validation loss',fontsize=12)\n",
    "plt.grid(True)\n",
    "plt.legend(['Training loss','Validation loss'],fontsize=12)\n",
    "plt.style.use(['classic'])"
   ]
  },
  {
   "cell_type": "code",
   "execution_count": null,
   "metadata": {},
   "outputs": [],
   "source": [
    "plt.figure()\n",
    "plt.plot(x_axis,train_acc)\n",
    "plt.plot(x_axis,val_acc)\n",
    "plt.xlabel('Epoch',fontsize=12)\n",
    "plt.ylabel('Accuracy',fontsize=12) \n",
    "plt.title('Training accuracy and validation accuracy',fontsize=12)\n",
    "plt.grid(True)\n",
    "plt.legend(['Training accuracy','Validation accuracy'],fontsize=12,loc=4)\n",
    "plt.style.use(['classic'])"
   ]
  },
  {
   "cell_type": "markdown",
   "metadata": {},
   "source": [
    "### Evaluation\n",
    "\n",
    "Now we need to test our network. In other words we evaluate it using the testing data set."
   ]
  },
  {
   "cell_type": "code",
   "execution_count": null,
   "metadata": {},
   "outputs": [],
   "source": [
    "score = model.evaluate(X_test, y_test)\n",
    "print(score) # will return the test loss and test accuracy"
   ]
  },
  {
   "cell_type": "markdown",
   "metadata": {},
   "source": [
    "We can even plot a confusion matrix."
   ]
  },
  {
   "cell_type": "code",
   "execution_count": null,
   "metadata": {},
   "outputs": [],
   "source": [
    "from sklearn.metrics import confusion_matrix\n",
    "# if you don't have sklearn install it with: conda install scikit-learn\n",
    "\n",
    "Y_pred = model.predict(X_test, batch_size=None, verbose=1)\n",
    "y_pred = np.argmax(Y_pred, axis=1)\n",
    "\n",
    "classes = [\"LC\", \"VU\", \"EN\", \"CR\"] # these are the 4 possible classes\n",
    "\n",
    "cm = confusion_matrix(np.argmax(y_test,axis=1), y_pred)\n",
    "np.set_printoptions(precision=2)\n",
    "fig = plt.figure(facecolor='white')\n",
    "title = 'Normalized confusion matrix'\n",
    "cmap = plt.cm.Blues\n",
    "cm = cm.astype('float') / cm.sum(axis=1)[:, np.newaxis]\n",
    "plt.imshow(cm, interpolation='nearest', cmap=cmap)\n",
    "plt.title(title)\n",
    "plt.colorbar()\n",
    "#plt.colorbar(shrink=0.7) # alternative\n",
    "tick_marks = np.arange(len(classes))\n",
    "plt.xticks(tick_marks, classes, rotation=90, fontsize=8)\n",
    "#plt.xticks(tick_marks, rotation=45, fontsize=6) # alternative\n",
    "plt.yticks(tick_marks, classes, fontsize=8)\n",
    "plt.tight_layout()\n",
    "plt.ylabel('True label')\n",
    "plt.xlabel('Predicted label')"
   ]
  },
  {
   "cell_type": "markdown",
   "metadata": {},
   "source": [
    "### Prediction\n",
    "\n",
    "Finally we used the final optimised network to predict the label for unknown entries.\n",
    "More info [here](https://keras.io/models/sequential/).\n"
   ]
  },
  {
   "cell_type": "code",
   "execution_count": null,
   "metadata": {},
   "outputs": [],
   "source": [
    "y_ursus = model.predict(X_ursus)\n",
    "print(classes)\n",
    "print(y_ursus)"
   ]
  },
  {
   "cell_type": "markdown",
   "metadata": {},
   "source": [
    "The nice thing is that these are proper posterior probabilities. Therefore we can even calculate Bayes factors and do model testing. Imagine that we want to test whether this species is threatened (so not \"least concern\"). We can calculate this Baye factor as follows:"
   ]
  },
  {
   "cell_type": "code",
   "execution_count": null,
   "metadata": {},
   "outputs": [],
   "source": [
    "(1 - y_ursus[0,0])/(3/4) / (y_ursus[0,0])/(1/4)"
   ]
  }
 ],
 "metadata": {
  "kernelspec": {
   "display_name": "Python 3",
   "language": "python",
   "name": "python3"
  },
  "language_info": {
   "codemirror_mode": {
    "name": "ipython",
    "version": 3
   },
   "file_extension": ".py",
   "mimetype": "text/x-python",
   "name": "python",
   "nbconvert_exporter": "python",
   "pygments_lexer": "ipython3",
   "version": "3.6.8"
  }
 },
 "nbformat": 4,
 "nbformat_minor": 2
}
