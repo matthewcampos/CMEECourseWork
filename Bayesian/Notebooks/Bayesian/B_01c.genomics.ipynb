{
 "cells": [
  {
   "cell_type": "markdown",
   "metadata": {
    "slideshow": {
     "slide_type": "slide"
    }
   },
   "source": [
    "![ICL](Images/imperiallogo.jpeg)\n",
    "\n",
    "# Bayesian methods in ecology and evolution\n",
    "\n",
    "https://bitbucket.org/mfumagal/statistical_inference\n",
    "\n",
    "## day 1c: Bayesian applications in genomics"
   ]
  },
  {
   "cell_type": "markdown",
   "metadata": {
    "slideshow": {
     "slide_type": "slide"
    }
   },
   "source": [
    "### Reconstructing genomes from sequencing data\n",
    "\n",
    "You are going to develop and implement a Bayesian approach to reconstruct genomes from data produced from high-throughput sequencing machines. \n",
    "\n",
    "Specifically, you will be doing __genotype calling__ from short-read NGS data."
   ]
  },
  {
   "cell_type": "markdown",
   "metadata": {
    "slideshow": {
     "slide_type": "subslide"
    }
   },
   "source": [
    "<img src=\"Images/NGS.png\" width=\"400\" height=\"400\" />"
   ]
  },
  {
   "cell_type": "markdown",
   "metadata": {
    "slideshow": {
     "slide_type": "slide"
    }
   },
   "source": [
    "Load the *R* functions needed with `source(\"Data/functions.R\")`.\n",
    "\n",
    "Among these functions, we provide one that calculates the likelihood of a certain sequence of bases\n",
    "for diploid individuals.\n",
    "This function is called _calcGenoLikes_ and takes 5 paramaters in input:\n",
    "* the sequence itself (collection of bases)\n",
    "* the first allele of the genotype\n",
    "* the second allele of the genotype\n",
    "* the sequencing error rate\n",
    "* a boolean indicating whether the results should be returned in logarithmic scale (TRUE) or not (FALSE)"
   ]
  },
  {
   "cell_type": "markdown",
   "metadata": {
    "slideshow": {
     "slide_type": "subslide"
    }
   },
   "source": [
    "For instance, assuming that your sequence is `AAGAGGA`, your alleles are `A` and `G` (meaning that you want to calculate the likelihood for genotypes `{AA,AG,GG}`, and your sequencing error rate is 0.05, then the likelihood (not in logarithms) for each genotype is given by \n",
    "```calcGenoLikes(\"AAGAGGA\", \"A\", \"G\", 0.05, FALSE)```"
   ]
  },
  {
   "cell_type": "markdown",
   "metadata": {
    "slideshow": {
     "slide_type": "slide"
    }
   },
   "source": [
    "Complete all the following tasks using *R* when necessary.\n",
    "The key point of these exercises is to not recalculate quantities that you have already computed.\n",
    "The aim is that you should be able to understand whether the likelihood or the prior is the same (or not)\n",
    "between different scenarios."
   ]
  },
  {
   "cell_type": "markdown",
   "metadata": {
    "slideshow": {
     "slide_type": "slide"
    }
   },
   "source": [
    "___A)___ \n",
    "\n",
    "Using Bayes' theorem, write the formula for the posterior probability of genotype G being\n",
    "AA given the sequencing data D.\n",
    "Write the explicit denominator assuming that your alleles are A and G and all possible genotypes are only AA, AG, GG."
   ]
  },
  {
   "cell_type": "code",
   "execution_count": 5,
   "metadata": {
    "slideshow": {
     "slide_type": "subslide"
    }
   },
   "outputs": [
    {
     "data": {
      "text/html": [
       "<dl class=dl-horizontal>\n",
       "\t<dt>AA</dt>\n",
       "\t\t<dd>3.77086226851852e-06</dd>\n",
       "\t<dt>AG</dt>\n",
       "\t\t<dd>0.00616207858546239</dd>\n",
       "\t<dt>GG</dt>\n",
       "\t\t<dd>6.61554783950617e-08</dd>\n",
       "</dl>\n"
      ],
      "text/latex": [
       "\\begin{description*}\n",
       "\\item[AA] 3.77086226851852e-06\n",
       "\\item[AG] 0.00616207858546239\n",
       "\\item[GG] 6.61554783950617e-08\n",
       "\\end{description*}\n"
      ],
      "text/markdown": [
       "AA\n",
       ":   3.77086226851852e-06AG\n",
       ":   0.00616207858546239GG\n",
       ":   6.61554783950617e-08\n",
       "\n"
      ],
      "text/plain": [
       "          AA           AG           GG \n",
       "3.770862e-06 6.162079e-03 6.615548e-08 "
      ]
     },
     "metadata": {},
     "output_type": "display_data"
    },
    {
     "data": {
      "text/html": [
       "<strong>AA:</strong> 0.000611565663752487"
      ],
      "text/latex": [
       "\\textbf{AA:} 0.000611565663752487"
      ],
      "text/markdown": [
       "**AA:** 0.000611565663752487"
      ],
      "text/plain": [
       "          AA \n",
       "0.0006115657 "
      ]
     },
     "metadata": {},
     "output_type": "display_data"
    }
   ],
   "source": [
    "source(\"../Math/Data/functions.R\")\n",
    "data <- \"AAGAGGA\"\n",
    "error_rate=0.05\n",
    "#function for likelihood\n",
    "calcGenoLikes(\"AAGAGGA\", \"A\", \"G\", error_rate, FALSE)\n",
    "#function for prior\n",
    "prior <- function(allele_1,allele_2){\n",
    "  prior <- c(1/3,1/3,1/3)\n",
    "  names(prior) <- c(paste0(allele_1,allele_1),paste0(allele_1,allele_2),paste0(allele_2,allele_2))\n",
    "  return(prior)\n",
    "}\n",
    "#Posterior distribution\n",
    "prob_G_given_D <- function(allele_1,allele_2){\n",
    "  posterior <- c()\n",
    "  x <- calcGenoLikes(data, \"A\", \"G\", error_rate, FALSE)\n",
    "  likelihood_value <- c() #likelihood value desired\n",
    "  if (allele_1 == \"A\" & allele_2 ==\"A\"){\n",
    "    likelihood_value <- x[1]\n",
    "  }else if (allele_1 == \"G\" & allele_2 == \"G\"){\n",
    "    likelihood_value <- x[3]\n",
    "  }else{\n",
    "    likelihood_value <- x[2]\n",
    "  }\n",
    "  posterior <- (likelihood_value * prior(allele_1,allele_2)[1]) / sum(x*prior(allele_1,allele_2))\n",
    "  return(posterior)\n",
    "}\n",
    "prob_G_given_D(\"A\",\"A\")"
   ]
  },
  {
   "cell_type": "markdown",
   "metadata": {
    "slideshow": {
     "slide_type": "slide"
    }
   },
   "source": [
    "___B)___ \n",
    "\n",
    "Assuming that your data is `AAAG`, your alleles are A and G, and the sequencing error rate is 0.01,\n",
    "calculate genotype posterior probability using a uniform prior, e.g. $P(G=AA) = P(G=AG) = P(G=GG) = ?$"
   ]
  },
  {
   "cell_type": "code",
   "execution_count": 9,
   "metadata": {
    "slideshow": {
     "slide_type": "subslide"
    }
   },
   "outputs": [
    {
     "data": {
      "text/html": [
       "<strong>AA:</strong> 0.0504699336283693"
      ],
      "text/latex": [
       "\\textbf{AA:} 0.0504699336283693"
      ],
      "text/markdown": [
       "**AA:** 0.0504699336283693"
      ],
      "text/plain": [
       "        AA \n",
       "0.05046993 "
      ]
     },
     "metadata": {},
     "output_type": "display_data"
    },
    {
     "data": {
      "text/html": [
       "<strong>AG:</strong> 0.949529494208545"
      ],
      "text/latex": [
       "\\textbf{AG:} 0.949529494208545"
      ],
      "text/markdown": [
       "**AG:** 0.949529494208545"
      ],
      "text/plain": [
       "       AG \n",
       "0.9495295 "
      ]
     },
     "metadata": {},
     "output_type": "display_data"
    },
    {
     "data": {
      "text/html": [
       "<strong>GG:</strong> 5.72163085721063e-07"
      ],
      "text/latex": [
       "\\textbf{GG:} 5.72163085721063e-07"
      ],
      "text/markdown": [
       "**GG:** 5.72163085721063e-07"
      ],
      "text/plain": [
       "          GG \n",
       "5.721631e-07 "
      ]
     },
     "metadata": {},
     "output_type": "display_data"
    }
   ],
   "source": [
    "data <- \"AAAG\"\n",
    "error_rate = 0.01\n",
    "B_AA=prob_G_given_D(\"A\",\"A\")\n",
    "B_AA\n",
    "B_AG=prob_G_given_D(\"A\",\"G\")\n",
    "B_AG\n",
    "B_GG=prob_G_given_D(\"G\",\"G\")\n",
    "B_GG"
   ]
  },
  {
   "cell_type": "markdown",
   "metadata": {
    "slideshow": {
     "slide_type": "slide"
    }
   },
   "source": [
    "___C)___ \n",
    "\n",
    "With the same assumptions as in point B, calculate genotype posterior probabilities using prior probabilitties based on [Hardy Weinberg Equilibrium](https://en.wikipedia.org/wiki/Hardy–Weinberg_principle) with a frequency of G of 0.1. Do you need to calculate a new likelihood or is it the same one as in point B?"
   ]
  },
  {
   "cell_type": "code",
   "execution_count": 20,
   "metadata": {
    "slideshow": {
     "slide_type": "subslide"
    }
   },
   "outputs": [
    {
     "data": {
      "text/html": [
       "<strong>AA:</strong> 0.19301900783074"
      ],
      "text/latex": [
       "\\textbf{AA:} 0.19301900783074"
      ],
      "text/markdown": [
       "**AA:** 0.19301900783074"
      ],
      "text/plain": [
       "      AA \n",
       "0.193019 "
      ]
     },
     "metadata": {},
     "output_type": "display_data"
    },
    {
     "data": {
      "text/html": [
       "<strong>AG:</strong> 0.806980965154435"
      ],
      "text/latex": [
       "\\textbf{AG:} 0.806980965154435"
      ],
      "text/markdown": [
       "**AG:** 0.806980965154435"
      ],
      "text/plain": [
       "      AG \n",
       "0.806981 "
      ]
     },
     "metadata": {},
     "output_type": "display_data"
    },
    {
     "data": {
      "text/html": [
       "<strong>GG:</strong> 2.7014825176113e-08"
      ],
      "text/latex": [
       "\\textbf{GG:} 2.7014825176113e-08"
      ],
      "text/markdown": [
       "**GG:** 2.7014825176113e-08"
      ],
      "text/plain": [
       "          GG \n",
       "2.701483e-08 "
      ]
     },
     "metadata": {},
     "output_type": "display_data"
    },
    {
     "data": {
      "text/html": [
       "1"
      ],
      "text/latex": [
       "1"
      ],
      "text/markdown": [
       "1"
      ],
      "text/plain": [
       "[1] 1"
      ]
     },
     "metadata": {},
     "output_type": "display_data"
    }
   ],
   "source": [
    "#HWE where f(G) = 0.1 thus f(A) = 0.9\n",
    "#GG=0.1^2, AA=0.9^2 and AG=2(0.1)(0.9)\n",
    "data <- \"AAAG\"\n",
    "error_rate = 0.01\n",
    "prior <- function(allele_1,allele_2){\n",
    "  prior <- c(0.9^2,2*(0.1)*(0.9),(0.1)^2)\n",
    "  names(prior) <- c(paste0(allele_1,allele_1),paste0(allele_1,allele_2),paste0(allele_2,allele_2))\n",
    "  return(prior)\n",
    "}\n",
    "C_AA=(prob_G_given_D(\"A\",\"A\"))\n",
    "C_AA\n",
    "C_AG=(prob_G_given_D(\"A\",\"G\"))\n",
    "C_AG\n",
    "C_GG=(prob_G_given_D(\"G\",\"G\"))\n",
    "C_GG\n",
    "sum(c(C_AA,C_AG,C_GG))"
   ]
  },
  {
   "cell_type": "markdown",
   "metadata": {
    "slideshow": {
     "slide_type": "slide"
    }
   },
   "source": [
    "___D)___  \n",
    "\n",
    "With the same assumptions as in point C, calculate genotype posterior probabilities using a prior based on Hardy Weinberg Equilibrium with a frequency of G of 0.1 and an [inbreeding coefficient](https://en.wikipedia.org/wiki/Inbreeding) of 0.2.\n",
    "In this case, we need to modify our previous priors.\n",
    "Specifically, if $f$ is the frequency of allele A and $I$ is the inbreeding coefficient,\n",
    "then the prior probabilities for all genotypes are:\n",
    "* $p(AA)=f^2 + I \\times f \\times (1-f)$\n",
    "* $p(AG)=2 \\times f \\times (1-f) \\times (1-I)$\n",
    "* $p(GG)=(1-f)^2 + I \\times f \\times (1-f)$\n",
    "\n",
    "Do you need to calculate a new likelihood or is it the same one as in points B and C?"
   ]
  },
  {
   "cell_type": "code",
   "execution_count": 19,
   "metadata": {
    "slideshow": {
     "slide_type": "subslide"
    }
   },
   "outputs": [
    {
     "data": {
      "text/html": [
       "<strong>AA:</strong> 0.23408461103795"
      ],
      "text/latex": [
       "\\textbf{AA:} 0.23408461103795"
      ],
      "text/markdown": [
       "**AA:** 0.23408461103795"
      ],
      "text/plain": [
       "       AA \n",
       "0.2340846 "
      ]
     },
     "metadata": {},
     "output_type": "display_data"
    },
    {
     "data": {
      "text/html": [
       "<strong>AG:</strong> 0.76591529922172"
      ],
      "text/latex": [
       "\\textbf{AG:} 0.76591529922172"
      ],
      "text/markdown": [
       "**AG:** 0.76591529922172"
      ],
      "text/plain": [
       "       AG \n",
       "0.7659153 "
      ]
     },
     "metadata": {},
     "output_type": "display_data"
    },
    {
     "data": {
      "text/html": [
       "<strong>GG:</strong> 8.97403294571994e-08"
      ],
      "text/latex": [
       "\\textbf{GG:} 8.97403294571994e-08"
      ],
      "text/markdown": [
       "**GG:** 8.97403294571994e-08"
      ],
      "text/plain": [
       "          GG \n",
       "8.974033e-08 "
      ]
     },
     "metadata": {},
     "output_type": "display_data"
    },
    {
     "data": {
      "text/html": [
       "1"
      ],
      "text/latex": [
       "1"
      ],
      "text/markdown": [
       "1"
      ],
      "text/plain": [
       "[1] 1"
      ]
     },
     "metadata": {},
     "output_type": "display_data"
    }
   ],
   "source": [
    "#HWE where f(G) = 0.1 thus f(A) = 0.9\n",
    "data <- \"AAAG\"\n",
    "error_rate = 0.01\n",
    "prior <- function(allele_1,allele_2){\n",
    "  prior <- c((0.9^2 + 0.2 * 0.9 * 0.1),(2*(0.1)*(0.9) * (1-0.2)),((0.1)^2) + 0.2 * 0.9 * 0.1)\n",
    "  names(prior) <- c(paste0(allele_1,allele_1),paste0(allele_1,allele_2),paste0(allele_2,allele_2))\n",
    "  return(prior)\n",
    "}\n",
    "D_AA=(prob_G_given_D(\"A\",\"A\"))\n",
    "D_AA\n",
    "D_AG=(prob_G_given_D(\"A\",\"G\"))\n",
    "D_AG\n",
    "D_GG=(prob_G_given_D(\"G\",\"G\"))\n",
    "D_GG\n",
    "sum(c(D_AA,D_AG,D_GG))"
   ]
  },
  {
   "cell_type": "markdown",
   "metadata": {
    "slideshow": {
     "slide_type": "slide"
    }
   },
   "source": [
    "___E)___ \n",
    "\n",
    "With the same priors used in point D but with a sequencing error rate of 0.05, calculate the genotype posterior probabilities. Do you need to calculate a new likelihood or is it the same one as in point D?\n"
   ]
  },
  {
   "cell_type": "code",
   "execution_count": 18,
   "metadata": {
    "slideshow": {
     "slide_type": "subslide"
    }
   },
   "outputs": [
    {
     "data": {
      "text/html": [
       "<strong>AA:</strong> 0.600885166818381"
      ],
      "text/latex": [
       "\\textbf{AA:} 0.600885166818381"
      ],
      "text/markdown": [
       "**AA:** 0.600885166818381"
      ],
      "text/plain": [
       "       AA \n",
       "0.6008852 "
      ]
     },
     "metadata": {},
     "output_type": "display_data"
    },
    {
     "data": {
      "text/html": [
       "<strong>AG:</strong> 0.399108579014721"
      ],
      "text/latex": [
       "\\textbf{AG:} 0.399108579014721"
      ],
      "text/markdown": [
       "**AG:** 0.399108579014721"
      ],
      "text/plain": [
       "       AG \n",
       "0.3991086 "
      ]
     },
     "metadata": {},
     "output_type": "display_data"
    },
    {
     "data": {
      "text/html": [
       "<strong>GG:</strong> 6.25416689747521e-06"
      ],
      "text/latex": [
       "\\textbf{GG:} 6.25416689747521e-06"
      ],
      "text/markdown": [
       "**GG:** 6.25416689747521e-06"
      ],
      "text/plain": [
       "          GG \n",
       "6.254167e-06 "
      ]
     },
     "metadata": {},
     "output_type": "display_data"
    },
    {
     "data": {
      "text/html": [
       "1"
      ],
      "text/latex": [
       "1"
      ],
      "text/markdown": [
       "1"
      ],
      "text/plain": [
       "[1] 1"
      ]
     },
     "metadata": {},
     "output_type": "display_data"
    }
   ],
   "source": [
    "data <- \"AAAG\"\n",
    "error_rate = 0.05\n",
    "prior <- function(allele_1,allele_2){\n",
    "  prior <- c((0.9^2 + 0.2 * 0.9 * 0.1),(2*(0.1)*(0.9) * (1-0.2)),((0.1)^2) + 0.2 * 0.9 * 0.1)\n",
    "  names(prior) <- c(paste0(allele_1,allele_1),paste0(allele_1,allele_2),paste0(allele_2,allele_2))\n",
    "  return(prior)\n",
    "}\n",
    "E_AA=(prob_G_given_D(\"A\",\"A\"))\n",
    "E_AA\n",
    "E_AG=(prob_G_given_D(\"A\",\"G\"))\n",
    "E_AG\n",
    "E_GG=(prob_G_given_D(\"G\",\"G\"))\n",
    "E_GG\n",
    "sum(c(E_AA,E_AG,E_GG))"
   ]
  },
  {
   "cell_type": "markdown",
   "metadata": {
    "slideshow": {
     "slide_type": "slide"
    }
   },
   "source": [
    "___F)___ \n",
    "\n",
    "Plot all previous results (e.g. use a barplot with the 3 posterior probabilities for each scenario B-E)."
   ]
  },
  {
   "cell_type": "code",
   "execution_count": 29,
   "metadata": {
    "slideshow": {
     "slide_type": "subslide"
    }
   },
   "outputs": [
    {
     "data": {
      "text/html": [
       "<table>\n",
       "<caption>A matrix: 4 × 3 of type dbl</caption>\n",
       "<thead>\n",
       "\t<tr><th></th><th scope=col>AA</th><th scope=col>AG</th><th scope=col>GG</th></tr>\n",
       "</thead>\n",
       "<tbody>\n",
       "\t<tr><th scope=row>B</th><td>0.05046993</td><td>0.9495295</td><td>5.721631e-07</td></tr>\n",
       "\t<tr><th scope=row>C</th><td>0.19301901</td><td>0.8069810</td><td>2.701483e-08</td></tr>\n",
       "\t<tr><th scope=row>D</th><td>0.23408461</td><td>0.7659153</td><td>8.974033e-08</td></tr>\n",
       "\t<tr><th scope=row>E</th><td>0.60088517</td><td>0.3991086</td><td>6.254167e-06</td></tr>\n",
       "</tbody>\n",
       "</table>\n"
      ],
      "text/latex": [
       "A matrix: 4 × 3 of type dbl\n",
       "\\begin{tabular}{r|lll}\n",
       "  & AA & AG & GG\\\\\n",
       "\\hline\n",
       "\tB & 0.05046993 & 0.9495295 & 5.721631e-07\\\\\n",
       "\tC & 0.19301901 & 0.8069810 & 2.701483e-08\\\\\n",
       "\tD & 0.23408461 & 0.7659153 & 8.974033e-08\\\\\n",
       "\tE & 0.60088517 & 0.3991086 & 6.254167e-06\\\\\n",
       "\\end{tabular}\n"
      ],
      "text/markdown": [
       "\n",
       "A matrix: 4 × 3 of type dbl\n",
       "\n",
       "| <!--/--> | AA | AG | GG |\n",
       "|---|---|---|---|\n",
       "| B | 0.05046993 | 0.9495295 | 5.721631e-07 |\n",
       "| C | 0.19301901 | 0.8069810 | 2.701483e-08 |\n",
       "| D | 0.23408461 | 0.7659153 | 8.974033e-08 |\n",
       "| E | 0.60088517 | 0.3991086 | 6.254167e-06 |\n",
       "\n"
      ],
      "text/plain": [
       "  AA         AG        GG          \n",
       "B 0.05046993 0.9495295 5.721631e-07\n",
       "C 0.19301901 0.8069810 2.701483e-08\n",
       "D 0.23408461 0.7659153 8.974033e-08\n",
       "E 0.60088517 0.3991086 6.254167e-06"
      ]
     },
     "metadata": {},
     "output_type": "display_data"
    },
    {
     "data": {
      "image/png": "[encoded data removed]",
      "text/plain": [
       "plot without title"
      ]
     },
     "metadata": {},
     "output_type": "display_data"
    }
   ],
   "source": [
    "AA <- c(B_AA,C_AA,D_AA,E_AA)\n",
    "AG <- c(B_AG,C_AG,D_AG,E_AG)\n",
    "GG <- c(B_GG,C_GG,D_GG,E_GG)\n",
    "result_matrix <- matrix(c(AA,AG,GG),nrow = 4,ncol = 3)\n",
    "colnames(result_matrix) <- c(\"AA\",\"AG\",\"GG\")\n",
    "rownames(result_matrix) <- c(\"B\",\"C\",\"D\",\"E\")\n",
    "result_matrix\n",
    "barplot(result_matrix,beside=TRUE, legend=TRUE)"
   ]
  },
  {
   "cell_type": "markdown",
   "metadata": {
    "slideshow": {
     "slide_type": "slide"
    }
   },
   "source": [
    "___G___) \n",
    "\n",
    "Assuming that our collection of sequenced bases is `AAAGAGAAAAAAAGGGGGAAAGGA`, calculate the genotype posterior probabilities using the same priors as in point C and sequencing error rate of 0.05. What happens if we have more data? What is the __confidence__ in our genotype inference?"
   ]
  },
  {
   "cell_type": "code",
   "execution_count": 26,
   "metadata": {
    "slideshow": {
     "slide_type": "subslide"
    }
   },
   "outputs": [
    {
     "data": {
      "text/html": [
       "<strong>AA:</strong> 7.83039005124002e-09"
      ],
      "text/latex": [
       "\\textbf{AA:} 7.83039005124002e-09"
      ],
      "text/markdown": [
       "**AA:** 7.83039005124002e-09"
      ],
      "text/plain": [
       "         AA \n",
       "7.83039e-09 "
      ]
     },
     "metadata": {},
     "output_type": "display_data"
    },
    {
     "data": {
      "text/html": [
       "<strong>AG:</strong> 0.99999999216961"
      ],
      "text/latex": [
       "\\textbf{AG:} 0.99999999216961"
      ],
      "text/markdown": [
       "**AG:** 0.99999999216961"
      ],
      "text/plain": [
       "AG \n",
       " 1 "
      ]
     },
     "metadata": {},
     "output_type": "display_data"
    },
    {
     "data": {
      "text/html": [
       "<strong>GG:</strong> 2.81870251493449e-21"
      ],
      "text/latex": [
       "\\textbf{GG:} 2.81870251493449e-21"
      ],
      "text/markdown": [
       "**GG:** 2.81870251493449e-21"
      ],
      "text/plain": [
       "          GG \n",
       "2.818703e-21 "
      ]
     },
     "metadata": {},
     "output_type": "display_data"
    },
    {
     "data": {
      "text/html": [
       "1"
      ],
      "text/latex": [
       "1"
      ],
      "text/markdown": [
       "1"
      ],
      "text/plain": [
       "[1] 1"
      ]
     },
     "metadata": {},
     "output_type": "display_data"
    }
   ],
   "source": [
    "data <- \"AAAGAGAAAAAAAGGGGGAAAGGA\"\n",
    "error_rate = 0.05\n",
    "prior <- function(allele_1,allele_2){\n",
    "  prior <- c(0.9^2,2*(0.1)*(0.9),(0.1)^2)\n",
    "  names(prior) <- c(paste0(allele_1,allele_1),paste0(allele_1,allele_2),paste0(allele_2,allele_2))\n",
    "  return(prior)\n",
    "}\n",
    "#Posterior distribution\n",
    "prob_G_given_D <- function(allele_1,allele_2){\n",
    "  likelihood <- calcGenoLikes(data, \"A\", \"G\", error_rate, FALSE)\n",
    "  if (allele_1 == \"A\" & allele_2 ==\"A\"){\n",
    "    likelihood_value <- likelihood[1]\n",
    "  }else if (allele_1 == \"G\" & allele_2 == \"G\"){\n",
    "    likelihood_value <- likelihood[3]\n",
    "  }else{\n",
    "    likelihood_value <- likelihood[2]\n",
    "  }\n",
    "  y <- prior(allele_1,allele_2)\n",
    "  if (allele_1 == \"A\" & allele_2 ==\"A\"){\n",
    "    prior_value <- y[1]\n",
    "  }else if (allele_1 == \"G\" & allele_2 == \"G\"){\n",
    "    prior_value <- y[3]\n",
    "  }else{\n",
    "    prior_value <- y[2]\n",
    "  }\n",
    "  posterior <- (likelihood_value * prior_value) / sum(likelihood*prior(allele_1,allele_2))\n",
    "  return(posterior)\n",
    "}\n",
    "G_AA=(prob_G_given_D(\"A\",\"A\"))\n",
    "G_AG=(prob_G_given_D(\"A\",\"G\"))\n",
    "G_GG=(prob_G_given_D(\"G\",\"G\"))\n",
    "G_AA\n",
    "G_AG\n",
    "G_GG\n",
    "sum(G_AA,G_AG,G_GG)"
   ]
  },
  {
   "cell_type": "markdown",
   "metadata": {
    "slideshow": {
     "slide_type": "slide"
    }
   },
   "source": [
    "___H)___ \n",
    "\n",
    "What happens if we have a lot  of data? Assume that your sequenced bases are\n",
    "`bases <- paste(c(rep(\"A\",1e3),rep(\"G\",1e3)), sep=\"\", collapse=\"\")`.\n",
    "Calculate the genotype likelihoods for this data.\n",
    "What is happening here?\n",
    "\n",
    "It is convenient to use numbers in log-scale and you can do that by selecting TRUE as the last parameter in the _calcGenoLikes_. \n",
    "Remember that if you want to calculate proper probabilities (in log) you have to [approximate](https://en.wikipedia.org/wiki/List_of_logarithmic_identities) the sum of logs.\n",
    "\n",
    "Without calculating posterior probabilities, what is the effect of the prior here in your opinion?"
   ]
  },
  {
   "cell_type": "code",
   "execution_count": 31,
   "metadata": {
    "slideshow": {
     "slide_type": "subslide"
    }
   },
   "outputs": [
    {
     "data": {
      "text/html": [
       "<dl class=dl-horizontal>\n",
       "\t<dt>AA</dt>\n",
       "\t\t<dd>-4145.63785660962</dd>\n",
       "\t<dt>AG</dt>\n",
       "\t\t<dd>-1454.09746447119</dd>\n",
       "\t<dt>GG</dt>\n",
       "\t\t<dd>-4145.63785660957</dd>\n",
       "</dl>\n"
      ],
      "text/latex": [
       "\\begin{description*}\n",
       "\\item[AA] -4145.63785660962\n",
       "\\item[AG] -1454.09746447119\n",
       "\\item[GG] -4145.63785660957\n",
       "\\end{description*}\n"
      ],
      "text/markdown": [
       "AA\n",
       ":   -4145.63785660962AG\n",
       ":   -1454.09746447119GG\n",
       ":   -4145.63785660957\n",
       "\n"
      ],
      "text/plain": [
       "       AA        AG        GG \n",
       "-4145.638 -1454.097 -4145.638 "
      ]
     },
     "metadata": {},
     "output_type": "display_data"
    },
    {
     "name": "stdout",
     "output_type": "stream",
     "text": [
      "[1] \"The prior will have greater effect on the posterior as the likelihood log values are highly negative\"\n"
     ]
    }
   ],
   "source": [
    "bases <- paste(c(rep(\"A\",1e3),rep(\"G\",1e3)), sep=\"\", collapse=\"\")\n",
    "calcGenoLikes(bases, \"A\", \"G\", error_rate, TRUE)\n",
    "print(\"The prior will have greater effect on the posterior as the likelihood log values are highly negative\")"
   ]
  },
  {
   "cell_type": "code",
   "execution_count": null,
   "metadata": {},
   "outputs": [],
   "source": []
  }
 ],
 "metadata": {
  "celltoolbar": "Slideshow",
  "kernelspec": {
   "display_name": "R",
   "language": "R",
   "name": "ir"
  },
  "language_info": {
   "codemirror_mode": "r",
   "file_extension": ".r",
   "mimetype": "text/x-r-source",
   "name": "R",
   "pygments_lexer": "r",
   "version": "3.6.1"
  }
 },
 "nbformat": 4,
 "nbformat_minor": 2
}
