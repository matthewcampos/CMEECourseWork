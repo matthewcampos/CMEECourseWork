{
 "cells": [
  {
   "cell_type": "markdown",
   "metadata": {},
   "source": [
    "![ICL](Images/imperiallogo.jpeg)\n",
    "\n",
    "# Bayesian methods in ecology and evolution\n",
    "\n",
    "https://bitbucket.org/mfumagal/statistical_inference\n",
    "\n",
    "## day 5b: ecological applications of Bayesian networks"
   ]
  },
  {
   "cell_type": "markdown",
   "metadata": {},
   "source": [
    "Read __one__ of the following papers provided in `Readings` folder:\n",
    "- `Eklof_2013.pdf`\n",
    "- `Gaggiotti_2010.pdf`\n",
    "- `Trifonova_2017.pdf`\n",
    "\n",
    "These studies propose the use of Bayen networks in the field of ecology (either theoretical or applied) and evolution.\n",
    "\n",
    "Write a short report (equivalent to about 1 side of A4) addressing the follwoing points for the chosen study:\n",
    "1. What are the hypotheses to be tested?\n",
    "2. How did the authors suggest to use Bayes networks to test these hypotheses?\n",
    "3. What are the conclusions of the study?\n",
    "4. What did you learn on the use of Bayes network after reading this paper?\n"
   ]
  },
  {
   "cell_type": "code",
   "execution_count": null,
   "metadata": {},
   "outputs": [],
   "source": []
  }
 ],
 "metadata": {
  "kernelspec": {
   "display_name": "R",
   "language": "R",
   "name": "ir"
  },
  "language_info": {
   "codemirror_mode": "r",
   "file_extension": ".r",
   "mimetype": "text/x-r-source",
   "name": "R",
   "pygments_lexer": "r",
   "version": "3.6.2"
  }
 },
 "nbformat": 4,
 "nbformat_minor": 4
}
