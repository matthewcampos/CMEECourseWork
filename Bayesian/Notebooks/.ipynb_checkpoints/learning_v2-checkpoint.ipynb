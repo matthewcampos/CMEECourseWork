{
 "cells": [
  {
   "cell_type": "markdown",
   "metadata": {},
   "source": [
    "# Supervised machine learning\n",
    "\n",
    "In this practical we will introduce the use of supervised machine learning on biological data.\n",
    "We will discuss nearest neighour classifier, support vector machine, neural networks and deep learning (specifically convolutional neural networks).\n",
    "\n",
    "Our toy example will be to classify species as endangered or not based genomic data. The rationale is that species with a small (effective population size) will have higher chances to be threatened. The amount of genomic variability (e.g. polymorphic sites) is taken as a proxy for the (effective) population size of each species. The genomic variation at marker loci is represented as an image (further details will be given later on).\n",
    "\n",
    "### Objective\n",
    "\n",
    "We assume that we have collected some genomic data on many species which have already been categorised into 4 classes of conservation status: least concern, vulnerable, endangered, critically endagered. \n",
    "Our goal is to implement a classifier that given genomic data can predic whether that species is endangered or not."
   ]
  },
  {
   "cell_type": "markdown",
   "metadata": {},
   "source": [
    "## Manipulating image data\n",
    "\n",
    "As we explained above, we will use images for our classification. To do so we need to learn how we can import and manipulate images in python. We will use `imageio` package to load and save images which are stored as `numpy` objects.\n"
   ]
  },
  {
   "cell_type": "code",
   "execution_count": null,
   "metadata": {},
   "outputs": [],
   "source": [
    "import imageio"
   ]
  },
  {
   "cell_type": "markdown",
   "metadata": {},
   "source": [
    "Let's assume to load and manipulate an image of a cat and learn of this data is managed in python."
   ]
  },
  {
   "cell_type": "code",
   "execution_count": null,
   "metadata": {},
   "outputs": [],
   "source": [
    "img = imageio.imread(\"../Slides/Learning/Pics/cat_generic.jpg\")\n",
    "\n",
    "print(img)"
   ]
  },
  {
   "cell_type": "markdown",
   "metadata": {},
   "source": [
    "Images are matrices with 3 dimensions. These are stored as `numpy` arrays with rank equal to 3. The third dimension is the colour channel. To being able to manipulate such objects we need to learn what `numpy` arrays are.\n",
    "\n",
    "### Numpy\n",
    "\n",
    "An array is a grid of values, all of the same type. It is indexed by a tuple of non-negative integers. The number of its dimensions is called *rank*, while the *shape* is a tuple of integers giving the size along each dimension."
   ]
  },
  {
   "cell_type": "code",
   "execution_count": 1,
   "metadata": {},
   "outputs": [
    {
     "name": "stdout",
     "output_type": "stream",
     "text": [
      "[1 2 3]\n"
     ]
    }
   ],
   "source": [
    "import numpy as np\n",
    "\n",
    "a = np.array([1, 2, 3]) # rank=1\n",
    "print(a)"
   ]
  },
  {
   "cell_type": "code",
   "execution_count": null,
   "metadata": {},
   "outputs": [],
   "source": [
    "print(type(a))\n",
    "\n",
    "print(a.shape)\n",
    "\n",
    "print(a[1])\n",
    "\n",
    "a[0] = 5\n",
    "print(a)"
   ]
  },
  {
   "cell_type": "code",
   "execution_count": null,
   "metadata": {},
   "outputs": [],
   "source": [
    "b = np.array([[1,2,3],[4,5,6]]) # rank=2\n",
    "print(b)"
   ]
  },
  {
   "cell_type": "code",
   "execution_count": null,
   "metadata": {},
   "outputs": [],
   "source": [
    "print(b.shape)\n",
    "b[0,0], b[0,1], b[1,0]"
   ]
  },
  {
   "cell_type": "markdown",
   "metadata": {},
   "source": [
    "***DIY (1)*** What is the shape of `img`, the `numpy` object containing the image of a cat? What is its data type (hint: use .dtype method)? How about its rank?"
   ]
  },
  {
   "cell_type": "code",
   "execution_count": null,
   "metadata": {},
   "outputs": [],
   "source": [
    "# ..."
   ]
  },
  {
   "cell_type": "markdown",
   "metadata": {},
   "source": [
    "Now that we know the rank and shape of `img` we may want to access some of its values. Let's see how we can perform array indexing in `numpy`."
   ]
  },
  {
   "cell_type": "code",
   "execution_count": null,
   "metadata": {},
   "outputs": [],
   "source": [
    "a = np.array([[1,2,3,4],[5,6,7,8],[9,10,11,12]])\n",
    "print(a)\n",
    "\n",
    "# slicing\n",
    "b = a[:2,1:3]\n",
    "print(b)"
   ]
  },
  {
   "cell_type": "code",
   "execution_count": null,
   "metadata": {},
   "outputs": [],
   "source": [
    "# a slice of an array is a view into the same data, so modifying it will modify the original array!\n",
    "print(a[0,1])\n",
    "b[0,0] = 100\n",
    "print(a[0,1])"
   ]
  },
  {
   "cell_type": "markdown",
   "metadata": {},
   "source": [
    "***DIY (2)*** Extract the top left corner of the cat image (e.g. 200x200) and write a new image. Hint: you can use `imageio.imwrite` which takes the file name to save and the `numpy` object.\n",
    "If you want to write an image in grey scale, then you can take the first slice of the third dimension, which is the colour one. Write an additional image which takes the whole original one but in grey scale."
   ]
  },
  {
   "cell_type": "code",
   "execution_count": null,
   "metadata": {},
   "outputs": [],
   "source": [
    "# ..."
   ]
  },
  {
   "cell_type": "markdown",
   "metadata": {},
   "source": [
    "You can do many mathematical operations with `numpy` arrays. Before that, let's see how to access values which satisfy a condition we set."
   ]
  },
  {
   "cell_type": "code",
   "execution_count": null,
   "metadata": {},
   "outputs": [],
   "source": [
    "a = np.array([[1,2],[3,4],[5,6]])\n",
    "print(a > 2)\n",
    "print(a[a > 2])"
   ]
  },
  {
   "cell_type": "markdown",
   "metadata": {},
   "source": [
    "As said before, we can easily do mathematical operations involving matrices."
   ]
  },
  {
   "cell_type": "code",
   "execution_count": null,
   "metadata": {},
   "outputs": [],
   "source": [
    "x = np.array([[1,2],[3,4]], dtype=np.float64) # notice that we force the data type to be float64\n",
    "y = np.array([[5,6],[7,8]], dtype=np.float64)\n",
    "\n",
    "print(x + y)\n",
    "print(np.add(x, y))\n",
    "\n",
    "print(x - y)\n",
    "#np.subtract(x, y)\n",
    "\n",
    "print(x * y) # elementwise!\n",
    "#np.multiply(x, y)\n",
    "\n",
    "print(x / y) # elementwise!\n",
    "#np.divide(x, y)\n",
    "\n",
    "print(np.sqrt(x))"
   ]
  },
  {
   "cell_type": "code",
   "execution_count": null,
   "metadata": {},
   "outputs": [],
   "source": [
    "x = np.array([[1,2],[3,4]])\n",
    "print(x)\n",
    "print(x.sum())\n",
    "\n",
    "print(x.sum(axis=0))\n",
    "print(x.sum(axis=1))"
   ]
  },
  {
   "cell_type": "markdown",
   "metadata": {},
   "source": [
    "***DIY (3)*** What happens if we substract the cat image from the cat image? Can you switch colours (e.g. from black to white) for all pixel? What happens if we add them? Write such images."
   ]
  },
  {
   "cell_type": "code",
   "execution_count": null,
   "metadata": {},
   "outputs": [],
   "source": [
    "# ..."
   ]
  },
  {
   "cell_type": "markdown",
   "metadata": {},
   "source": [
    "The last think to mention about `numpy` arrays is how we can manipulate them using broadcasting."
   ]
  },
  {
   "cell_type": "code",
   "execution_count": null,
   "metadata": {},
   "outputs": [],
   "source": [
    "# multiply a matrix by a constant\n",
    "x = np.array([[1,2,3],[4,5,6],[7,8,9],[10,11,12]])\n",
    "print(x * 2) "
   ]
  },
  {
   "cell_type": "code",
   "execution_count": null,
   "metadata": {},
   "outputs": [],
   "source": [
    "x = np.array([[1,2,3],[4,5,6],[7,8,9],[10,11,12]])\n",
    "y = np.array([1,0,1])\n",
    "\n",
    "print(x.shape)\n",
    "print(y.shape)\n",
    "\n",
    "z = x + y\n",
    "\n",
    "print(z)"
   ]
  },
  {
   "cell_type": "markdown",
   "metadata": {},
   "source": [
    "***DIY (4)*** Create a tinted image of the cat, by multiplying its colour channel by `[1, 0.95, 0.9]`. Instead of writing a new file, plot it on the screen. We use the package `matplotlib` and its function `imshow` which takes the `numpy` array in input. You need to force the data type to be unsigned integer 8 bits and you can achieve this with the function `np.uint8()`."
   ]
  },
  {
   "cell_type": "code",
   "execution_count": null,
   "metadata": {},
   "outputs": [],
   "source": [
    "%matplotlib notebook\n",
    "import matplotlib.pyplot as plt\n",
    "\n",
    "# ...\n",
    "# plt.imshow(???)"
   ]
  },
  {
   "cell_type": "markdown",
   "metadata": {},
   "source": [
    "## Training and testing data\n",
    "\n",
    "Now the know how to process and manipulate images with python, we can actually do some science! \n",
    "As explained before our goal is to build a classifier to predict whether a certain species is endangered or not.\n",
    "We use genetic information as proxy for the ability of the species to react to novel conditions.\n",
    "\n",
    "We assume we have 4 classes of conservation status (LC, VU, EN, CR) and 400 samples per class. Each data point is an image which represents the (biallelic) genetic variation (so it's binary) across individuals (on the rows) over several genetic loci (on the columns). Images are double sorted to remove a bit of noise.\n",
    "\n",
    "The first think we do is to load such images which have already been converted into `numpy` arrays. What is its rank and shape?"
   ]
  },
  {
   "cell_type": "code",
   "execution_count": null,
   "metadata": {},
   "outputs": [],
   "source": [
    "X_train = np.load(\"Data/X_train.npy\")\n",
    "print(X_train.shape)"
   ]
  },
  {
   "cell_type": "markdown",
   "metadata": {},
   "source": [
    "If we want to plot one image, then we need to do a proper slicing."
   ]
  },
  {
   "cell_type": "code",
   "execution_count": null,
   "metadata": {},
   "outputs": [],
   "source": [
    "print(X_train[0,:,:,0].shape)\n",
    "\n",
    "plt.imshow(X_train[0,:,:,0])"
   ]
  },
  {
   "cell_type": "markdown",
   "metadata": {},
   "source": [
    "which corresponds to the following matrix:"
   ]
  },
  {
   "cell_type": "code",
   "execution_count": null,
   "metadata": {},
   "outputs": [],
   "source": [
    "X_train[0,:,:,0]"
   ]
  },
  {
   "cell_type": "markdown",
   "metadata": {},
   "source": [
    "Apart from the data itself (called `X`), we also need labels (called `y`) associated to each data point. These labels indicate which class each data point belongs to. What is the rank and shape of this `numpy` array?"
   ]
  },
  {
   "cell_type": "code",
   "execution_count": null,
   "metadata": {},
   "outputs": [],
   "source": [
    "y_train = np.load(\"Data/y_train.npy\")\n",
    "print(y_train.shape)\n",
    "y_train"
   ]
  },
  {
   "cell_type": "markdown",
   "metadata": {},
   "source": [
    "If you recall, we collected 400 samples per class so we should expect 1600 data points. We have also 1200 entries in the training set. Why?\n",
    "\n",
    "We split the data we have into training and testing. The learning will be done in the training set and the measurement of accuracy will happen on the testing set. What is the rank and shape of the these `numpy` objects?"
   ]
  },
  {
   "cell_type": "code",
   "execution_count": null,
   "metadata": {},
   "outputs": [],
   "source": [
    "X_test = np.load(\"Data/X_test.npy\")\n",
    "print(X_test.shape)\n",
    "\n",
    "y_test = np.load(\"Data/y_test.npy\")\n",
    "print(y_test.shape)"
   ]
  },
  {
   "cell_type": "markdown",
   "metadata": {},
   "source": [
    "Finally, we want to predict the classification of an unknown species, the Marsican bear (labelled as `ursus`).\n",
    "Let's load its image, check its rank and plot it."
   ]
  },
  {
   "cell_type": "code",
   "execution_count": null,
   "metadata": {},
   "outputs": [],
   "source": [
    "X_ursus = np.load(\"Data/X_ursus.npy\")\n",
    "print(X_ursus.shape)\n",
    "\n",
    "plt.imshow(X_ursus[0,:,:,0])"
   ]
  },
  {
   "cell_type": "markdown",
   "metadata": {},
   "source": [
    "## Nearest Neighbour Classifier\n",
    "\n",
    "\n",
    "Now we wan to implement a NN classifier to assign a label to our image of the Marsican bear.\n",
    "The idea is to select the image(s) which is (are) closer to the one of interest.\n",
    "For instance, the simple elementwise difference between images can be calculated as:"
   ]
  },
  {
   "cell_type": "code",
   "execution_count": null,
   "metadata": {},
   "outputs": [],
   "source": [
    "X_ursus[0,:,:,0]-X_train[0,:,:,0]"
   ]
  },
  {
   "cell_type": "markdown",
   "metadata": {},
   "source": [
    "***DIY 5*** Implement a NN classifier using the L1 distance and predict the label for the Ursus image. A possible framework is given below but feel free to use your own creativity."
   ]
  },
  {
   "cell_type": "code",
   "execution_count": null,
   "metadata": {
    "scrolled": true
   },
   "outputs": [],
   "source": [
    "labels = [\"LC\", \"VU\", \"EN\", \"CR\"] # these are the 4 possible classes\n",
    "min_distance = 9999 # initialise a value for the distance\n",
    "for i in range(0, X_train.shape[0]):\n",
    "    distance = ...\n",
    "    if ...\n",
    "        ...\n",
    "        ..."
   ]
  },
  {
   "cell_type": "markdown",
   "metadata": {},
   "source": [
    "Now you can easily implement a NN classifer applied to the whole testing set. What's the achieved accuracy? You can do it yourself, but the idea is that you have to execute the above operation for each sample from the testing set."
   ]
  },
  {
   "cell_type": "markdown",
   "metadata": {},
   "source": [
    "## Convolutional Neural Network\n",
    "\n",
    "We will be using TensorFlow to build and train our deep neural network. In particu\n",
    "Keras, TensorFlow's high-level API for building and training deep learning models.\n",
    "\n",
    "\n",
    "### Architecture\n",
    "\n",
    "Let's build our CNN. First thing, we need to define the architecture.\n",
    "To do that, we need to import some modules from `keras`."
   ]
  },
  {
   "cell_type": "code",
   "execution_count": null,
   "metadata": {},
   "outputs": [],
   "source": [
    "from keras.models import Sequential\n",
    "\n",
    "# core layers\n",
    "from keras.layers import Dense, Dropout, Flatten\n",
    "\n",
    "# convolutional layers\n",
    "from keras.layers import Conv2D, MaxPooling2D"
   ]
  },
  {
   "cell_type": "markdown",
   "metadata": {},
   "source": [
    "The Sequential model type from `keras` is simply a linear stack of neural network layers.\n",
    "Now we need to define our architecture.\n",
    "Each layer will be added (or stacked) to the initial model."
   ]
  },
  {
   "cell_type": "code",
   "execution_count": null,
   "metadata": {},
   "outputs": [],
   "source": [
    "net = Sequential()"
   ]
  },
  {
   "cell_type": "markdown",
   "metadata": {},
   "source": [
    "The model needs also to know what input shape it should expect. The first layer (but only the first) needs to receive such information.\n",
    "Let's add a convolutional layer. We can read how to do it from [here](https://keras.io/layers/convolutional/#conv2d).\n",
    "Also note that we can add activation and padding layers directly into this convolutional layer."
   ]
  },
  {
   "cell_type": "code",
   "execution_count": null,
   "metadata": {},
   "outputs": [],
   "source": [
    "net.add(Conv2D(filters=8, kernel_size=(3,3), strides=(1,1), activation=\"relu\", padding=\"same\", input_shape=(64, 64, 1)))"
   ]
  },
  {
   "cell_type": "markdown",
   "metadata": {},
   "source": [
    "After a convolutional layer it is often used a max-pooling layer. Read its definition [here](https://keras.io/layers/pooling/#maxpooling2d)."
   ]
  },
  {
   "cell_type": "code",
   "execution_count": null,
   "metadata": {},
   "outputs": [],
   "source": [
    "net.add(MaxPooling2D(pool_size=(2,2)))"
   ]
  },
  {
   "cell_type": "markdown",
   "metadata": {},
   "source": [
    "To prevent overfitting, one trick is to use a [Dropout](https://keras.io/layers/core/#dropout) layer."
   ]
  },
  {
   "cell_type": "code",
   "execution_count": null,
   "metadata": {},
   "outputs": [],
   "source": [
    "net.add(Dropout(rate=0.5))"
   ]
  },
  {
   "cell_type": "markdown",
   "metadata": {},
   "source": [
    "You can add several cycles of Conv-MaxPool-Dropout.\n",
    "If you then want to move towards the final fully connected neural network, you need to first flatten the network."
   ]
  },
  {
   "cell_type": "code",
   "execution_count": null,
   "metadata": {},
   "outputs": [],
   "source": [
    "net.add(Flatten())"
   ]
  },
  {
   "cell_type": "markdown",
   "metadata": {},
   "source": [
    "Finally we can add a fully connected network with a relu activation using a [Dense](https://keras.io/layers/core/#dense) layer, another dropout layer, and then the output layer with a softmax activation."
   ]
  },
  {
   "cell_type": "code",
   "execution_count": null,
   "metadata": {},
   "outputs": [],
   "source": [
    "net.add(Dense(units=32, activation=\"relu\"))\n",
    "# we need 4 units at the output since we have 4 classes\n",
    "net.add(Dense(units=4, activation=\"softmax\"))"
   ]
  },
  {
   "cell_type": "markdown",
   "metadata": {},
   "source": [
    "We can even print a summary of our architecture with the specification of the learnable parameters."
   ]
  },
  {
   "cell_type": "code",
   "execution_count": null,
   "metadata": {},
   "outputs": [],
   "source": [
    "net.summary()"
   ]
  },
  {
   "cell_type": "markdown",
   "metadata": {},
   "source": [
    "### Compiling\n",
    "\n",
    "We need to \"compile\" the network and prepare it for the training. We do it by specifying the [loss function](https://keras.io/losses/) and [optimisation](https://keras.io/optimizers/) to use."
   ]
  },
  {
   "cell_type": "code",
   "execution_count": null,
   "metadata": {},
   "outputs": [],
   "source": [
    "net.compile(loss=\"categorical_crossentropy\", optimizer=\"adam\", metrics=[\"accuracy\"])"
   ]
  },
  {
   "cell_type": "markdown",
   "metadata": {},
   "source": [
    "### Training\n",
    "\n",
    "Let's train our network. We pass the training data set and the network will optimise its parameters to minimise the loss function.\n",
    "We can allocate a portion of the training data as validation data. You can read more [here](https://keras.io/models/sequential/)."
   ]
  },
  {
   "cell_type": "code",
   "execution_count": null,
   "metadata": {},
   "outputs": [],
   "source": [
    "hist = net.fit(x=X_train, y=y_train, batch_size=32, epochs=10, validation_split=0.20, verbose=2)"
   ]
  },
  {
   "cell_type": "markdown",
   "metadata": {},
   "source": [
    "The validation accuracy is used to tune the hyper-parameters (e.g. learning rate, dropout rate).\n",
    "It's convenient to plot the decay of loss and increase of accuracy for both the training and validation set."
   ]
  },
  {
   "cell_type": "code",
   "execution_count": null,
   "metadata": {},
   "outputs": [],
   "source": [
    "from matplotlib import rcParams\n",
    "\n",
    "train_loss = hist.history['loss']\n",
    "val_loss = hist.history['val_loss']\n",
    "train_acc = hist.history['acc']\n",
    "val_acc = hist.history['val_acc']\n",
    "\n",
    "xc = range(10)\n",
    "x_axis = np.zeros(len(xc))\n",
    "for x,i in enumerate (xc):\n",
    "    x_axis[i] = x + 1\n",
    "\n",
    "rcParams['axes.titlepad'] = 20 \n",
    "plt.figure(1,figsize=(7,5),facecolor='white')\n",
    "plt.plot(x_axis,train_loss)\n",
    "plt.plot(x_axis,val_loss)\n",
    "plt.xlabel('Epoch', fontsize=12)\n",
    "plt.ylabel('Loss', fontsize=12)\n",
    "plt.title('Training loss and validation loss',fontsize=12)\n",
    "plt.grid(True)\n",
    "plt.legend(['Training loss','Validation loss'],fontsize=12)\n",
    "plt.style.use(['classic'])\n",
    "\n",
    "plt.figure(2,figsize=(7,5),facecolor='white')\n",
    "plt.plot(x_axis,train_acc)\n",
    "plt.plot(x_axis,val_acc)\n",
    "plt.xlabel('Epoch',fontsize=12)\n",
    "plt.ylabel('Accuracy',fontsize=12) \n",
    "plt.title('Training accuracy and validation accuracy',fontsize=12)\n",
    "plt.grid(True)\n",
    "plt.legend(['Training accuracy','Validation accuracy'],fontsize=12,loc=4)\n",
    "plt.style.use(['classic'])\n"
   ]
  },
  {
   "cell_type": "markdown",
   "metadata": {},
   "source": [
    "### Evaluation\n",
    "\n",
    "Now we need to test our network. In other words we evaluate it using the testing data set."
   ]
  },
  {
   "cell_type": "code",
   "execution_count": null,
   "metadata": {},
   "outputs": [],
   "source": [
    "score = net.evaluate(x=X_test, y=y_test)\n",
    "print(score) # will return the test loss and test accuracy"
   ]
  },
  {
   "cell_type": "markdown",
   "metadata": {},
   "source": [
    "We can even plot a confusion matrix."
   ]
  },
  {
   "cell_type": "code",
   "execution_count": null,
   "metadata": {},
   "outputs": [],
   "source": [
    "from sklearn.metrics import confusion_matrix\n",
    "# if you don't have sklearn install it with: conda install scikit-learn\n",
    "\n",
    "Y_pred = net.predict(X_test, batch_size=None, verbose=1)\n",
    "y_pred = np.argmax(Y_pred, axis=1)\n",
    "\n",
    "classes = [\"LC\", \"VU\", \"EN\", \"CR\"] # these are the 4 possible classes\n",
    "\n",
    "cm = confusion_matrix(np.argmax(y_test,axis=1), y_pred)\n",
    "np.set_printoptions(precision=2)\n",
    "fig = plt.figure(facecolor='white')\n",
    "title = 'Normalized confusion matrix'\n",
    "cmap = plt.cm.Blues\n",
    "cm = cm.astype('float') / cm.sum(axis=1)[:, np.newaxis]\n",
    "plt.imshow(cm, interpolation='nearest', cmap=cmap)\n",
    "plt.title(title)\n",
    "plt.colorbar()\n",
    "#plt.colorbar(shrink=0.7) # alternative\n",
    "tick_marks = np.arange(len(classes))\n",
    "plt.xticks(tick_marks, classes, rotation=90, fontsize=8)\n",
    "#plt.xticks(tick_marks, rotation=45, fontsize=6) # alternative\n",
    "plt.yticks(tick_marks, classes, fontsize=8)\n",
    "plt.tight_layout()\n",
    "plt.ylabel('True label')\n",
    "plt.xlabel('Predicted label')"
   ]
  },
  {
   "cell_type": "markdown",
   "metadata": {},
   "source": [
    "### Prediction\n",
    "\n",
    "Finally we used the final optimised network to predict the label for unknown entries.\n",
    "More info [here](https://keras.io/models/sequential/).\n"
   ]
  },
  {
   "cell_type": "code",
   "execution_count": null,
   "metadata": {},
   "outputs": [],
   "source": [
    "y_ursus = net.predict(X_ursus)\n",
    "print(y_ursus)"
   ]
  },
  {
   "cell_type": "markdown",
   "metadata": {},
   "source": [
    "The cool thing is that these are proper posterior probabilities. Therefore we can even calculate Bayes factors and do model testing. Imagine that we want to test whether this species is not threatened (so not \"least concern\"). We can calculate this Baye factor as follows:"
   ]
  },
  {
   "cell_type": "code",
   "execution_count": null,
   "metadata": {},
   "outputs": [],
   "source": [
    "(1 - y_ursus[0,0])/(3/4) / (y_ursus[0,0])/(1/4)"
   ]
  },
  {
   "cell_type": "markdown",
   "metadata": {},
   "source": [
    "## BYON (Build Your Own Network)\n",
    "\n",
    "Can you do better than this network? Can you build a network which leads to a higher testing accuracy than this one?\n",
    "Try to build your own architecture and compiler.\n",
    "Some tips:\n",
    "- you can use multiple cycles of Conv+MaxPool+Dropout layers\n",
    "- you can play with the dropout rates to prevent overfitting\n",
    "- you can add more/less units (or neurons) in the dense layers\n",
    "- you can add more/less filters or change their size (but be careful with it!)\n",
    "- try a leakyReLu or other activation functions\n",
    "- change how you initialise the weights\n",
    "\n",
    "Be aware that the accuracy won't improve by default if you make the network deeper: you have more parameters to optimise with the same data set!\n",
    "\n",
    "Ideally, you may want to try different configurations and retain the one with the highest validation accuracy. Then this network will be passed to the testing set. For instance, assume that you have one hyper-parameter and you want to estinmate it. How would you build such pipeline?\n",
    "\n",
    "The best way of learning is by doing. Read the keras manual https://keras.io/ to learn how to implement your ideas.\n",
    "Pick a partner or more and start a team.\n",
    "\n",
    "It's a competition.\n",
    "\n",
    "Good luck!\n"
   ]
  },
  {
   "cell_type": "code",
   "execution_count": null,
   "metadata": {},
   "outputs": [],
   "source": [
    "# ..."
   ]
  }
 ],
 "metadata": {
  "kernelspec": {
   "display_name": "Python 3",
   "language": "python",
   "name": "python3"
  },
  "language_info": {
   "codemirror_mode": {
    "name": "ipython",
    "version": 3
   },
   "file_extension": ".py",
   "mimetype": "text/x-python",
   "name": "python",
   "nbconvert_exporter": "python",
   "pygments_lexer": "ipython3",
   "version": "3.6.6"
  }
 },
 "nbformat": 4,
 "nbformat_minor": 2
}
