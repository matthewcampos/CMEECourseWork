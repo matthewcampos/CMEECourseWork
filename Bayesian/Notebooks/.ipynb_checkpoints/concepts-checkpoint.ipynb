{
 "cells": [
  {
   "cell_type": "markdown",
   "metadata": {
    "slideshow": {
     "slide_type": "slide"
    }
   },
   "source": [
    "![ICL](Images/imperiallogo.jpeg)\n",
    "\n",
    "# Bayesian methods in ecology and evolution\n",
    "\n",
    "https://bitbucket.org/mfumagal/statistical_inference\n",
    "\n",
    "## part 2: bayesian concepts"
   ]
  },
  {
   "cell_type": "markdown",
   "metadata": {
    "slideshow": {
     "slide_type": "skip"
    }
   },
   "source": [
    "### Bayes' theorem"
   ]
  },
  {
   "cell_type": "markdown",
   "metadata": {
    "slideshow": {
     "slide_type": "slide"
    }
   },
   "source": [
    "If $Y$ is a random variable, then $f(y|\\theta)$ is a probability distribution representing the sampling\n",
    "model for the observed data $y=(y_1,y_2,...,y_n)$ given an unknown parameter $\\theta$.\n",
    "\n",
    "The distribution $f(y|\\theta)$ is often called the _likelihood_ and sometimes written as $L(\\theta;y)$."
   ]
  },
  {
   "cell_type": "markdown",
   "metadata": {
    "slideshow": {
     "slide_type": "notes"
    }
   },
   "source": [
    "Often $y$ and $\\theta$ are vectors, and thus the correct notation would be $\\vec{y}$ and $\\vec{\\theta}$.\n",
    "\n",
    "We know that $L(\\theta;y)$ is not a probability distribution for $\\theta$ given $y$.\n",
    "Therefore $\\int L(\\theta;y)d\\theta$ is not necessarily equal to $1$ or even finite."
   ]
  },
  {
   "cell_type": "markdown",
   "metadata": {
    "slideshow": {
     "slide_type": "fragment"
    }
   },
   "source": [
    "It is possible to find the value of $\\theta$ that maximises the likelihood function: a _maximum likelihood estimate_ (MLE)\n",
    "for $\\theta$, as\n",
    "\\begin{equation}\n",
    "    \\hat{\\theta}=argmax_{\\theta}L(\\theta;y)\n",
    "\\end{equation}"
   ]
  },
  {
   "cell_type": "markdown",
   "metadata": {
    "slideshow": {
     "slide_type": "slide"
    }
   },
   "source": [
    "In Bayesian statistics, $\\theta$ is not a fixed (although unknown) parameter\n",
    "but a random quantity.\n",
    "\n",
    "This is done by adopting a probability distribution, called _prior distribution_, for ${\\theta}$ that contains any information we have about ${\\theta}$ not related to the data ${y}$."
   ]
  },
  {
   "cell_type": "markdown",
   "metadata": {
    "slideshow": {
     "slide_type": "fragment"
    }
   },
   "source": [
    "Inferences on ${\\theta}$ are based on its _posterior distribution_ given by\n",
    "\\begin{equation}\n",
    "    P({\\theta}|{y}) = \\frac{f({y}|{\\theta})\\pi({\\theta})}{m({y})} \n",
    "                        = \\frac{f({y}|{\\theta})\\pi({\\theta})}{\\int f({y}|{\\theta}) \\pi({\\theta}) d{\\theta}}\n",
    "\\end{equation}\n",
    "\n",
    "This formula is known as _Bayes' Theorem_."
   ]
  },
  {
   "cell_type": "markdown",
   "metadata": {
    "slideshow": {
     "slide_type": "notes"
    }
   },
   "source": [
    "The posterior probability is simply the product of the likelihood and the prior,\n",
    "normalised so that integrates to $1$.\n",
    "The posterior distribution is therefore a proper (or legitimate) probability distribution.\n",
    "\n",
    "We will now prove this theorem using an example. One can even use Venn diagrams which are useful but not rigorous."
   ]
  },
  {
   "cell_type": "markdown",
   "metadata": {
    "slideshow": {
     "slide_type": "slide"
    }
   },
   "source": [
    "The greatest loss of vertebrate biodiversity we observed in the past 30 years is due to a chytrids fungus which is responsible for the extinction of over a hundred species of amphibians.\n",
    "![](Images/Frogs.jpg)\n"
   ]
  },
  {
   "cell_type": "markdown",
   "metadata": {
    "slideshow": {
     "slide_type": "notes"
    }
   },
   "source": [
    "Let's assume we have a sample space $S$ with all the possible outcomes of an experiment and we are interested in a subset of $S$, representing only some events.\n",
    "In our example we are interested in detecting which samples of frogs are infected or not by the fungus. \n",
    "For doing so, during our fieldwork, we take some samples and test whether they are\n",
    "infected or not."
   ]
  },
  {
   "cell_type": "markdown",
   "metadata": {
    "slideshow": {
     "slide_type": "slide"
    }
   },
   "source": [
    "Let's consider $S$ to consist of all the samples collected in a particular area.\n",
    "\n",
    "We can split our $S$ in two events: the event \"samples with infection\"\n",
    "(designated as set $A$), and \"samples with no infection\" (complement of set $A$, or $A^c$).\n",
    "\n",
    "What is the probability that a randomly chosen sample is infected?"
   ]
  },
  {
   "cell_type": "markdown",
   "metadata": {
    "slideshow": {
     "slide_type": "subslide"
    }
   },
   "source": [
    "It is the number of elements in $A$ divided by the number of elements of $S$.\n",
    "\n",
    "We can denote the number of elements of $A$ as $|A|$, called the cardinality of $A$.\n",
    "\n",
    "The probability of $A$, $P(A)$, is\n",
    "\\begin{equation}\n",
    "    P(A) = \\frac{|A|}{|S|}\n",
    "\\end{equation}\n",
    "with $0 \\leq P(A) \\leq 1$.\n"
   ]
  },
  {
   "cell_type": "markdown",
   "metadata": {
    "slideshow": {
     "slide_type": "slide"
    }
   },
   "source": [
    "Assume that we use a molecular screening test which takes a biological sample (e.g. piece of skin) from a frog and tests for the presence of the fungus.\n",
    "The test will be \"positive\" for some samples, and \"negative\" for\n",
    "some other samples.\n",
    "\n",
    "Let's denote with event $B$ the collection of \"samples for which the test is positive\".\n",
    "\n",
    "What is the probability that the test will be \"positive\" for a randomly selected sample?"
   ]
  },
  {
   "cell_type": "markdown",
   "metadata": {
    "slideshow": {
     "slide_type": "fragment"
    }
   },
   "source": [
    "It is\n",
    "\\begin{equation}\n",
    "    P(B) = \\frac{|B|}{|S|}\n",
    "\\end{equation}\n",
    "with $0 \\leq P(B) \\leq 1$.\n"
   ]
  },
  {
   "cell_type": "markdown",
   "metadata": {
    "slideshow": {
     "slide_type": "notes"
    }
   },
   "source": [
    "We are now dealing with the entire sample space $S$ (all samples),\n",
    "the event $A$ (samples with infection), and the event $B$ (samples with a positive test).\n",
    "\n",
    "So far we have treated the two events separately, in isolation.\n",
    "What happens if we put them together?"
   ]
  },
  {
   "cell_type": "markdown",
   "metadata": {
    "slideshow": {
     "slide_type": "slide"
    }
   },
   "source": [
    "We can calculate the probability of both events occurring ($A \\cap B$) simultaneously.\n",
    "\\begin{equation}\n",
    "    P(A \\cap B) = \\frac{|A \\cap B|}{|S|}\n",
    "\\end{equation}\n",
    "with $0 \\leq P(A \\cap B) \\leq 1$.\n",
    "\n",
    "The event $A \\cap B$ represents \"samples with infection and with a positive test\"."
   ]
  },
  {
   "cell_type": "markdown",
   "metadata": {
    "slideshow": {
     "slide_type": "notes"
    }
   },
   "source": [
    "Note that sometimes $AB$ is used as shorthand notation for $A \\cap B$.\n",
    "\n",
    "There is also the event $(B - AB)$ or \"samples without infection and\n",
    "with a positive test\", and the event $(A - AB)$ or \"samples with infection and with a\n",
    "negative test\"."
   ]
  },
  {
   "cell_type": "markdown",
   "metadata": {
    "slideshow": {
     "slide_type": "slide"
    }
   },
   "source": [
    "Given that the test is positive for a randomly selected sample, what is the probability that said sample is infected?"
   ]
  },
  {
   "cell_type": "markdown",
   "metadata": {
    "slideshow": {
     "slide_type": "notes"
    }
   },
   "source": [
    "In terms of a Venn diagram, this question translates to \"given that we are in region\n",
    "$B$, what is the probability that we are in region $A \\cap B$?\".\n",
    "This is equivalent of saying that \"if we make region $B$ our new Universe, what is the probability of $A$?\".\n",
    "The notation for the latter conditional probability is $P(A|B)$, called \"the probability of $A$ given $B$\"."
   ]
  },
  {
   "cell_type": "markdown",
   "metadata": {
    "slideshow": {
     "slide_type": "fragment"
    }
   },
   "source": [
    "This probability is equal to\n",
    "\\begin{equation}\n",
    "    P(A|B) = \\frac{|A \\cap B|}{|B|} = \\frac{|A \\cap B|/|S|}{|B|/|S|} = \\frac{P(A \\cap B)}{P(B)}\n",
    "\\end{equation}"
   ]
  },
  {
   "cell_type": "markdown",
   "metadata": {
    "slideshow": {
     "slide_type": "slide"
    }
   },
   "source": [
    "Given that a randomly selected sample is infected (event $A$), what is the probability that the test is positive for that sample (event $A \\cap B$)?"
   ]
  },
  {
   "cell_type": "markdown",
   "metadata": {
    "slideshow": {
     "slide_type": "fragment"
    }
   },
   "source": [
    "The conditional probability is\n",
    "\\begin{equation}\n",
    "    P(B|A) = \\frac{P(B \\cap A)}{P(A)}\n",
    "\\end{equation}"
   ]
  },
  {
   "cell_type": "markdown",
   "metadata": {
    "slideshow": {
     "slide_type": "subslide"
    }
   },
   "source": [
    "If we put together these last two equations (by $P(B \\cap A)$) we obtain:\n",
    "\\begin{equation}\n",
    "  P(A)P(B|A) = P(B)P(A|B)\n",
    "\\end{equation}\n",
    "\n",
    "It follows that\n",
    "\\begin{equation}\n",
    " P(A|B) = \\frac{P(A)P(B|A)}{P(B)}\n",
    " \\end{equation}\n",
    "which is Bayes' theorem."
   ]
  },
  {
   "cell_type": "markdown",
   "metadata": {
    "slideshow": {
     "slide_type": "slide"
    }
   },
   "source": [
    "## Normal/Normal model\n",
    "\n",
    "Let's assume that we monitored a certain number of frogs in a given pond and want to make some inferences on the infection rate, $\\theta$, in the whole area.\n",
    "\n",
    "<img src=\"Images/Muletensis.jpeg\" width=\"500\" height=\"500\" />"
   ]
  },
  {
   "cell_type": "markdown",
   "metadata": {
    "slideshow": {
     "slide_type": "slide"
    }
   },
   "source": [
    "If both the prior and the likelihood are Normal (Gaussian) distributions, then \n",
    "\\begin{align}\n",
    " f(y|\\theta) &= N(y|\\theta, \\sigma^2)\\\\\n",
    " \\pi(\\theta) &= N(\\theta|\\mu, \\tau^2)\n",
    "\\end{align}\n",
    "\n",
    "$\\mu$ and $\\tau$ are known _hyperparameters_ while $\\theta$ is the unknown parameter."
   ]
  },
  {
   "cell_type": "markdown",
   "metadata": {
    "slideshow": {
     "slide_type": "subslide"
    }
   },
   "source": [
    "The posterior distribution $p(\\theta|y)$ is also a Normal distribution\n",
    "\\begin{equation}\n",
    "  p(\\theta|y) = N(\\theta|\\frac{\\sigma^2\\mu+\\tau^2y}{\\sigma^2+\\tau^2},\\frac{\\sigma^2\\tau^2}{\\sigma^2 + \\tau^2})\n",
    "\\end{equation}"
   ]
  },
  {
   "cell_type": "markdown",
   "metadata": {
    "slideshow": {
     "slide_type": "fragment"
    }
   },
   "source": [
    "If \n",
    "\\begin{equation}\n",
    "  B = \\frac{\\sigma^2}{\\sigma^2+\\tau^2}\n",
    "\\end{equation}\n",
    "then \n",
    "\\begin{align}\n",
    " E(\\theta|y) &= B\\mu + (1-B)y \\\\\n",
    " Var(\\theta|y) &= (1-B)\\sigma^2 \\equiv B\\tau^2\n",
    "\\end{align}\n",
    "\n",
    "$B$ is called the _shrinking factor_. "
   ]
  },
  {
   "cell_type": "markdown",
   "metadata": {
    "slideshow": {
     "slide_type": "notes"
    }
   },
   "source": [
    "It is called like that because it gives the proportion for how much the posterior mean is \"shrunk back\" from the classical frequentist estimate $y$ towards the prior mean $\\mu$.\n",
    "\n",
    "Note that $0 \\leq B \\leq 1$.\n",
    "\n",
    "The posterior mean is a weighted average of the prior mean $\\mu$ and the direct estimate $Y$.\n",
    "The weight on the prior mean $B$ depends on the relative variability of the prior distribution and the likelihood."
   ]
  },
  {
   "cell_type": "markdown",
   "metadata": {
    "slideshow": {
     "slide_type": "subslide"
    }
   },
   "source": [
    "If $\\sigma^2>>\\tau^2$"
   ]
  },
  {
   "cell_type": "markdown",
   "metadata": {
    "slideshow": {
     "slide_type": "fragment"
    }
   },
   "source": [
    "then $B \\approx 1$ and our prior knowledge is more precise than the data information.\n",
    "\n",
    "If $\\sigma^2<<\\tau^2$"
   ]
  },
  {
   "cell_type": "markdown",
   "metadata": {
    "slideshow": {
     "slide_type": "fragment"
    }
   },
   "source": [
    "then $B \\approx 0$ and our prior knowledge is imprecise and the final estimate will move very little towards\n",
    "the prior mean."
   ]
  },
  {
   "cell_type": "markdown",
   "metadata": {
    "slideshow": {
     "slide_type": "slide"
    }
   },
   "source": [
    "<img src=\"Images/Muletensis.jpeg\" width=\"300\" height=\"300\" />\n",
    "\n",
    "* We have a single observation from one pond of $6$ infected frogs ($y=6$).\n",
    "\n",
    "* Our likelihood function (Normal distribution) has $\\sigma=1$.\n",
    "\n",
    "* We expected $2$ infected frogs before doing the monitoring (with variance equals to 1)."
   ]
  },
  {
   "cell_type": "markdown",
   "metadata": {
    "slideshow": {
     "slide_type": "subslide"
    }
   },
   "source": [
    "More formally,\n",
    "\\begin{align}\n",
    " f(y=6|\\theta) &= N(y=6|\\theta, 1) \\\\\n",
    " \\pi(\\theta) &= N(\\theta|2, 1)\n",
    "\\end{align}"
   ]
  },
  {
   "cell_type": "code",
   "execution_count": 1,
   "metadata": {
    "slideshow": {
     "slide_type": "slide"
    }
   },
   "outputs": [
    {
     "data": {
      "image/png": "[encoded data removed]",
      "text/plain": [
       "Plot with title “”"
      ]
     },
     "metadata": {},
     "output_type": "display_data"
    }
   ],
   "source": [
    "# prior\n",
    "mu <- 2\n",
    "tau <- 1\n",
    "\n",
    "x <- seq(-4,10,0.01)\n",
    "plot(x=x, dnorm(x=x, mean=mu, sd=tau), ylim=c(0,0.6),\n",
    "    type=\"l\", lty=1, ylab=\"Density\", xlab=expression(theta), main=\"\")\n",
    "    legend(x=\"topleft\", legend=c(expression(pi(theta)),\n",
    "    expression(f(y~\"|\"~theta)), expression(p(theta~\"|\"~y))), lty=1:3)"
   ]
  },
  {
   "cell_type": "code",
   "execution_count": 2,
   "metadata": {
    "slideshow": {
     "slide_type": "subslide"
    }
   },
   "outputs": [
    {
     "data": {
      "image/png": "[encoded data removed]",
      "text/plain": [
       "Plot with title “”"
      ]
     },
     "metadata": {},
     "output_type": "display_data"
    }
   ],
   "source": [
    "plot(x=x, dnorm(x=x, mean=mu, sd=tau), ylim=c(0,0.6),\n",
    "    type=\"l\", lty=1, ylab=\"Density\", xlab=expression(theta), main=\"\")\n",
    "    legend(x=\"topleft\", legend=c(expression(pi(theta)),\n",
    "    expression(f(y~\"|\"~theta)), expression(p(theta~\"|\"~y))), lty=1:3) # prior\n",
    "\n",
    "# likelihood\n",
    "y <- 6\n",
    "sigma <- 1\n",
    "points(x=x, y=dnorm(x=y, mean=x, sd=sigma), type=\"l\", lty=2)"
   ]
  },
  {
   "cell_type": "code",
   "execution_count": 3,
   "metadata": {
    "slideshow": {
     "slide_type": "subslide"
    }
   },
   "outputs": [
    {
     "data": {
      "image/png": "[encoded data removed]",
      "text/plain": [
       "Plot with title “”"
      ]
     },
     "metadata": {},
     "output_type": "display_data"
    }
   ],
   "source": [
    "# prior\n",
    "plot(x=x, dnorm(x=x, mean=mu, sd=tau), ylim=c(0,0.6),\n",
    "    type=\"l\", lty=1, ylab=\"Density\", xlab=expression(theta), main=\"\")\n",
    "    legend(x=\"topleft\", legend=c(expression(pi(theta)),\n",
    "    expression(f(y~\"|\"~theta)), expression(p(theta~\"|\"~y))), lty=1:3) # prior\n",
    "\n",
    "# likeohood\n",
    "points(x=x, y=dnorm(x=y, mean=x, sd=sigma), type=\"l\", lty=2) # likelihood\n",
    "\n",
    "# posterior\n",
    "B <- sigma^2/(sigma^2+tau^2)\n",
    "postMean <- B*mu + (1-B)*y\n",
    "postVar <- B*tau^2\n",
    "points(x=x, y=dnorm(x=x, mean=postMean, sd=sqrt(postVar)), type=\"l\", lty=3)"
   ]
  },
  {
   "cell_type": "markdown",
   "metadata": {
    "slideshow": {
     "slide_type": "slide"
    }
   },
   "source": [
    "The prior distribution is centred around 2 ($\\mu$).\n",
    "The likelihood function is centered around $6$ which is the only observation we have.\n",
    "\n",
    "The posterior distribution is centred exactly between the prior and the likelihood.\n",
    "In this case $B=0.5$ and therefore prior and data are equally weighted.\n",
    "\n",
    "The _maximum a posteriori probability_ (MAP) estimate is $4$, as it is equal to the mode of the posterior distribution."
   ]
  },
  {
   "cell_type": "code",
   "execution_count": null,
   "metadata": {
    "slideshow": {
     "slide_type": "fragment"
    }
   },
   "outputs": [],
   "source": [
    "x[which.max(dnorm(x=x, mean=postMean, sd=sqrt(postVar)))]"
   ]
  },
  {
   "cell_type": "markdown",
   "metadata": {
    "slideshow": {
     "slide_type": "subslide"
    }
   },
   "source": [
    "The posterior distribution is more skewed than the prior and the likelihood, despite these two distribution having the same variance.\n",
    "The posterior variance is smaller than the variance of either the prior or the likelihood.\n",
    "\n",
    "The _precision_, defined as the reciprocal of the variance, is the sum of the precisions in the prior and likelihood.\n",
    "The combined strength of prior and likelihood tends to increase the precision, or reduce the variance, in our inference of $\\theta$.\n",
    "\n",
    "In this example, the precision is $1+1=2$, hence the variance is $1/2$.\n",
    "Therefore the posterior roughly covers $4 \\pm 3(\\sqrt{1/2}) \\approx (1.88,6.12)$."
   ]
  },
  {
   "cell_type": "markdown",
   "metadata": {
    "slideshow": {
     "slide_type": "slide"
    }
   },
   "source": [
    "__ACTIVITY__\n",
    "\n",
    "What happens if we use a skewer (sharper) or wider prior?\n",
    "What is the shape of the posterior distribution if the variance of the prior is smaller (stronger belief) or larger (weaker belief)?\n",
    "\n",
    "Assume that the prior distribution has $\\mu=2$ and $\\tau=0.5$.\n",
    "Calculate and plot prior and posterior distributions and evaluate the MAP.\n",
    "Is the posterior mean closer or more distant from the prior mean? What is the shrinking factor?\n"
   ]
  },
  {
   "cell_type": "markdown",
   "metadata": {
    "slideshow": {
     "slide_type": "subslide"
    }
   },
   "source": [
    "__ACTIVITY__ \n",
    "\n",
    "Assume that now the prior distribution has $\\mu=2$ and $\\tau=2$. \n",
    "Calculate and plot prior and posterior distributions and evaluate the MAP in this case using R.\n",
    "Is the posterior mean closer or more distant from the prior mean? What is the shrinking factor?"
   ]
  },
  {
   "cell_type": "markdown",
   "metadata": {
    "slideshow": {
     "slide_type": "slide"
    }
   },
   "source": [
    "If we have more observations of infected frogs in multiple ponds, our data may look like $\\vec{y}={6,5,5.5,6.5,6}$.\n",
    "\n",
    "Given a sample of $n$ independent observations, then\n",
    "\\begin{equation}\n",
    "    f(\\vec{y}|\\theta) = \\prod_{i=1}^n f(y_i|\\theta) \n",
    "\\end{equation}"
   ]
  },
  {
   "cell_type": "markdown",
   "metadata": {
    "slideshow": {
     "slide_type": "fragment"
    }
   },
   "source": [
    "We can also use a transformation if we can find a statistic $S(\\vec{y})$ that is sufficient, meaning that\n",
    "$p(\\theta|\\vec{y})=p(\\theta|S(\\vec{y}))$."
   ]
  },
  {
   "cell_type": "markdown",
   "metadata": {
    "slideshow": {
     "slide_type": "subslide"
    }
   },
   "source": [
    "We can use the sufficient statistic $S(\\vec{y})=\\bar{y}$, where $\\bar{y}$ is the mean of $\\vec{y}$.\n",
    "\n",
    "The likelihood function has the form $f(\\bar{y}|\\theta)=N(\\theta, \\sigma^2/n)$ and the posterior distributions is\n",
    "\\begin{equation}\n",
    "    p(\\theta|\\bar{y}) = N( \\theta | \\frac{(\\sigma^2/n)\\mu + \\tau^2\\bar{y}}{(\\sigma^2/n) + \\tau^2}, \\frac{(\\sigma^2/n)\\tau^2}{(\\sigma^2/n) + \\tau^2} ) = N( \\theta | \\frac{\\sigma^2\\mu + n\\tau^2\\bar{y}}{\\sigma^2 + n\\tau^2}, \\frac{\\sigma^2\\tau^2}{\\sigma^2 + n\\tau^2} )\n",
    "\\end{equation}"
   ]
  },
  {
   "cell_type": "markdown",
   "metadata": {
    "slideshow": {
     "slide_type": "subslide"
    }
   },
   "source": [
    "Suppose we have $\\mu=2$, $\\sigma=\\tau=1$ and set $\\bar{y}=5.8$ and $n=5$. In this case $\\theta_{MAP}=4.43$ with a range of $(3.21, 5.65)$. The MAP has been shifted towards the MLE as we have more data information."
   ]
  },
  {
   "cell_type": "code",
   "execution_count": 7,
   "metadata": {
    "slideshow": {
     "slide_type": "subslide"
    }
   },
   "outputs": [
    {
     "name": "stdout",
     "output_type": "stream",
     "text": [
      "MAP: 4.57 ( 3.345255 , 5.794745 )\n"
     ]
    },
    {
     "data": {
      "image/png": "[encoded data removed]",
      "text/plain": [
       "Plot with title “”"
      ]
     },
     "metadata": {},
     "output_type": "display_data"
    }
   ],
   "source": [
    "# prior (obviously it does not change)\n",
    "mu <- 2\n",
    "tau <- 1\n",
    "x <- seq(-4,10,0.01)\n",
    "plot(x=x, dnorm(x=x, mean=mu, sd=tau), ylim=c(0,2),\n",
    "    type=\"l\", lty=1, ylab=\"Density\", xlab=expression(theta), main=\"\")\n",
    "    legend(x=\"topleft\", legend=c(expression(pi(theta)),\n",
    "    expression(f(y~\"|\"~theta)), expression(p(theta~\"|\"~y))), lty=1:3)\n",
    "\n",
    "# likelihood with more observations\n",
    "y <- c(6, 6, 6, 6, 6)\n",
    "n <- length(y)\n",
    "sigma <- 1\n",
    "points(x=x, y=dnorm(x=x, mean=mean(y), sd=sigma/n), type=\"l\", lty=2)\n",
    "\n",
    "# posterior with more observations\n",
    "postMean <- ( (sigma^2/n)*mu + tau^2*mean(y) ) / ( (sigma^2/n)*mu + tau^2 )\n",
    "postVar <- ( (sigma^2/n)*tau^2 ) / ( (sigma^2/n) + tau^2 )\n",
    "points(x=x, y=dnorm(x=x, mean=postMean, sd=sqrt(postVar)), type=\"l\", lty=3)\n",
    "\n",
    "# MAP with more observations\n",
    "map <-  x[which.max(dnorm(x=x, mean=postMean, sd=sqrt(postVar)))]\n",
    "cat(\"MAP:\", map, \"(\", map-3*sqrt(postVar),\",\",map+3*sqrt(postVar),\")\\n\")"
   ]
  },
  {
   "cell_type": "markdown",
   "metadata": {
    "slideshow": {
     "slide_type": "slide"
    }
   },
   "source": [
    "### Monte Carlo sampling\n",
    "\n",
    "<img src=\"Images/MonteCarlo.jpeg\" width=\"600\" height=\"600\" />"
   ]
  },
  {
   "cell_type": "markdown",
   "metadata": {
    "slideshow": {
     "slide_type": "notes"
    }
   },
   "source": [
    "To derive the posterior distribution we can also draw random samples from it,\n",
    "instead of directly calculating the posterior mean and variance (if a Normal distribution is considered, for instance).\n",
    "This procedure is often called _Monte Carlo sampling_, after the city famous for its casinos.\n",
    "\n",
    "In the previous example of the Normal/Normal model with multiple observations, we were able to calculate the posterior mean ($4.43$) and posterior variance ($0.17$).\n",
    "From these parameters, we were able to derive (and plot) the density function, the posterior probability itself.\n",
    "Alternatively, we can randomly sample directly from the posterior distribution."
   ]
  },
  {
   "cell_type": "code",
   "execution_count": 8,
   "metadata": {
    "slideshow": {
     "slide_type": "subslide"
    }
   },
   "outputs": [
    {
     "data": {
      "image/png": "[encoded data removed]",
      "text/plain": [
       "Plot with title “p(theta ~ \"|\" ~ y)”"
      ]
     },
     "metadata": {},
     "output_type": "display_data"
    }
   ],
   "source": [
    "## Monte Carlo sampling\n",
    "par(mfrow=c(3,1))\n",
    "\n",
    "# posterior\n",
    "x <- seq(2,8,0.01)\n",
    "postMean <- 4.43\n",
    "postVar <- 0.16\n",
    "plot(x=x, y=dnorm(x=x, mean=postMean, sd=sqrt(postVar)), type=\"l\", lty=1,\n",
    "    ylab=\"Density\", xlab=expression(theta), main=expression(p(theta~\"|\"~y)),\n",
    "    ylim=c(0,1.2), xlim=c(2,8))\n",
    "\n",
    "# sampling\n",
    "y_sampled_1 <- rnorm(n=50, mean=postMean, sd=sqrt(postVar))\n",
    "hist(y_sampled_1, breaks=20, freq=F, lty=2, col=\"grey\", ylim=c(0,1.2), xlim=c(2,8),\n",
    "    sub=\"50 samples\", main=expression(p(theta~\"|\"~y)), xlab=expression(theta))\n",
    "    points(x=x, y=dnorm(x=x, mean=postMean, sd=sqrt(postVar)), type=\"l\", lty=1)\n",
    "\n",
    "# more sampling\n",
    "y_sampled_2 <- rnorm(n=1e6, mean=postMean, sd=sqrt(postVar))\n",
    "hist(y_sampled_2, breaks=20, freq=F, lty=2, col=\"grey\", ylim=c(0,1.2), xlim=c(2,8),\n",
    "    sub=\"1e6 samples\", main=expression(p(theta~\"|\"~y)), xlab=expression(theta))\n",
    "points(x=x, y=dnorm(x=x, mean=postMean, sd=sqrt(postVar)), type=\"l\", lty=1, ylab=\"Density\",\n",
    "    xlab=expression(theta), main=expression(p(theta~\"|\"~y)), sub=\"1e6 samples\")"
   ]
  },
  {
   "cell_type": "markdown",
   "metadata": {
    "slideshow": {
     "slide_type": "notes"
    }
   },
   "source": [
    "The more sampling we do, the closer our sampled distribution will be to the \"true\" posterior distribution. With $50$ samples the empirical posterior mean is $4.444$ while with $1e6$ samples we have an empirical posterior mean of $4.429$ which is very close to our direct estimate of $4.43$. With $50$ samples the empirical posterior variance is $0.105$ while with $1e6$ samples we have an empirical posterior variance of $0.159$ which is very close to our direct estimate of 0.16."
   ]
  },
  {
   "cell_type": "markdown",
   "metadata": {
    "slideshow": {
     "slide_type": "notes"
    }
   },
   "source": [
    "In this simple Normal/Normal case, Monte Carlo methods are not strictly necessary since the integral in the denominator of Bayes' theorem can be evaluated in closed form.\n",
    "In these cases, it is preferable to derive a smooth curve rather an a histogram of sampled values, and have the corresponding exact values for the posterior parameters.\n",
    "\n",
    "However, there are cases where, given the choice for the likelihood and prior functions, this integral cannot be evaluated.\n",
    "In these conditions, Monte Carlo methods are to be preferred for estimating, or rather approximating, the posterior distribution.\n",
    "\n",
    "As any sample can be drawn from any posterior regardless of the number of unknown parameters $\\theta$, we have the ability to work on problems with (theoretically) unlimited complexity, at the price of not obtaining an exact form for the posterior and performing a large number of samplings."
   ]
  },
  {
   "cell_type": "markdown",
   "metadata": {
    "slideshow": {
     "slide_type": "slide"
    }
   },
   "source": [
    "### Intended Learning Outcomes\n",
    "\n",
    "At the end of this part you are now be able to:\n",
    "* appreciate the use of Bayesian statistics in life sciences,\n",
    "* formulate and explain Bayes’ theorem,\n",
    "* describe a Normal-Normal model and implement it in R with or without Monte Carlo sampling,\n",
    "* apply Bayesian statistics in genomics."
   ]
  }
 ],
 "metadata": {
  "celltoolbar": "Slideshow",
  "kernelspec": {
   "display_name": "R",
   "language": "R",
   "name": "ir"
  },
  "language_info": {
   "codemirror_mode": "r",
   "file_extension": ".r",
   "mimetype": "text/x-r-source",
   "name": "R",
   "pygments_lexer": "r",
   "version": "3.4.4"
  }
 },
 "nbformat": 4,
 "nbformat_minor": 2
}
