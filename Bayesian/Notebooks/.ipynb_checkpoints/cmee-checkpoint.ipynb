{
 "cells": [
  {
   "cell_type": "markdown",
   "metadata": {},
   "source": [
    "# grades practicals MSc CMEE 2018/2019"
   ]
  },
  {
   "cell_type": "markdown",
   "metadata": {},
   "source": [
    "\n",
    "| CID | 1 | 2 | 3 | 4 | total |\n",
    "| ---- | ------ | ------ | ------ | ------ | ------ |\n",
    "| 01590882 | 10 | 10 | 10  | 10 | 40 |\n",
    "| 01098633 | 10 | 10 | 10  | 10 | 40 |\n",
    "| 01602669 | 10 | 10 | 0  | 10 | 30 |\n",
    "| 01607235 | 10  | 10  | 10  | 10 | 40 |\n",
    "| 01613406 | 10 | 10 | 10 | 10 | 40 |\n",
    "| 01600821 | 0  | 0  | 0  | 10 | 10 |\n",
    "| 01229325 | 10 | 10 | 0  | 10 | 30 |"
   ]
  }
 ],
 "metadata": {
  "kernelspec": {
   "display_name": "R",
   "language": "R",
   "name": "ir"
  },
  "language_info": {
   "codemirror_mode": "r",
   "file_extension": ".r",
   "mimetype": "text/x-r-source",
   "name": "R",
   "pygments_lexer": "r",
   "version": "3.4.4"
  }
 },
 "nbformat": 4,
 "nbformat_minor": 2
}
