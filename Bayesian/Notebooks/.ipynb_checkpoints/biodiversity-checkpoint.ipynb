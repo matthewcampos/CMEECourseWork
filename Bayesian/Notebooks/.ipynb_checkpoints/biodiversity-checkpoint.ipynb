{
 "cells": [
  {
   "cell_type": "markdown",
   "metadata": {},
   "source": [
    "# Deep learning\n",
    "\n",
    "Our toy example will be to classify species as endangered or not based genomic data. The rationale is that species with a small (effective population size) will have higher chances to be threatened. The amount of genomic variability (e.g. polymorphic sites and haplotype diversity) is taken as a proxy for the (effective) population size of each species. The genomic variation at marker loci is represented as an image.\n",
    "\n",
    "### Objective\n",
    "\n",
    "We assume that we have collected some genomic data on many species which have already been categorised into 4 classes of conservation status: least concern, vulnerable, endangered, critically endagered. \n",
    "Our goal is to implement a classifier that given genomic data can predic whether that species is endangered or not.\n",
    "\n",
    "Now the know how to process and manipulate images with python, we can actually do some science! \n",
    "As explained before our goal is to build a classifier to predict whether a certain species is endangered or not.\n",
    "We use genetic information as proxy for the ability of the species to react to novel conditions.\n",
    "\n",
    "We assume we have 4 classes of conservation status (LC, VU, EN, CR) and 400 samples per class. Each data point is an image which represents the (biallelic) genetic variation (so it's binary) across individuals (on the rows) over several genetic loci (on the columns). Images are double sorted to remove some noise associated to the order of samples and polymorphic sites."
   ]
  },
  {
   "cell_type": "code",
   "execution_count": 1,
   "metadata": {},
   "outputs": [],
   "source": [
    "%matplotlib notebook\n",
    "import matplotlib.pyplot as plt\n",
    "\n",
    "import numpy"
   ]
  },
  {
   "cell_type": "markdown",
   "metadata": {},
   "source": [
    "## Training and testing data\n",
    "\n",
    "The first think we do is to load images representing genomic data from various species. These images have already been converted into `numpy` arrays. (Note that we have already preprocessed our data, so pixel intensitities have been scaled between 0 and 1.)"
   ]
  },
  {
   "cell_type": "code",
   "execution_count": null,
   "metadata": {},
   "outputs": [],
   "source": [
    "X_train = np.load(\"Data/X_train.npy\")\n",
    "print(X_train.shape)"
   ]
  },
  {
   "cell_type": "markdown",
   "metadata": {},
   "source": [
    "If we want to plot one image, then we need to do a proper slicing."
   ]
  },
  {
   "cell_type": "code",
   "execution_count": null,
   "metadata": {},
   "outputs": [],
   "source": [
    "print(X_train[0,:,:,0].shape)\n",
    "\n",
    "plt.imshow(X_train[0,:,:,0], cmap=plt.cm.binary)"
   ]
  },
  {
   "cell_type": "markdown",
   "metadata": {},
   "source": [
    "which corresponds to the following matrix:"
   ]
  },
  {
   "cell_type": "code",
   "execution_count": null,
   "metadata": {},
   "outputs": [],
   "source": [
    "X_train[0,:,:,0]"
   ]
  },
  {
   "cell_type": "markdown",
   "metadata": {},
   "source": [
    "Apart from the data itself (called `X`), we also need labels (called `y`) associated to each data point. These labels indicate which class each data point belongs to. What is the rank and shape of this `numpy` array?"
   ]
  },
  {
   "cell_type": "code",
   "execution_count": null,
   "metadata": {},
   "outputs": [],
   "source": [
    "y_train = np.load(\"Data/y_train.npy\")\n",
    "print(y_train.shape)\n",
    "y_train"
   ]
  },
  {
   "cell_type": "markdown",
   "metadata": {},
   "source": [
    "If you recall, we collected 400 samples per class so we should expect 1600 data points. We have 1200 entries in the training set. Why?\n",
    "\n",
    "We split the data we have into training and testing. The learning will be done in the training set and the measurement of accuracy will happen on the testing set. What is the rank and shape of the these `numpy` objects?"
   ]
  },
  {
   "cell_type": "code",
   "execution_count": null,
   "metadata": {},
   "outputs": [],
   "source": [
    "X_test = np.load(\"Data/X_test.npy\")\n",
    "print(X_test.shape)\n",
    "\n",
    "y_test = np.load(\"Data/y_test.npy\")\n",
    "print(y_test.shape)"
   ]
  },
  {
   "cell_type": "markdown",
   "metadata": {},
   "source": [
    "Finally, we want to predict the classification of an unknown species, the Marsican bear (labelled as `ursus`).\n",
    "Let's load its image, check its rank and plot it."
   ]
  },
  {
   "cell_type": "code",
   "execution_count": null,
   "metadata": {},
   "outputs": [],
   "source": [
    "X_ursus = np.load(\"Data/X_ursus.npy\")\n",
    "print(X_ursus.shape)\n",
    "\n",
    "plt.imshow(X_ursus[0,:,:,0], cmap=plt.cm.binary)"
   ]
  },
  {
   "cell_type": "markdown",
   "metadata": {},
   "source": [
    "## Nearest Neighbour Classifier\n",
    "\n",
    "\n",
    "Now we wan to implement a NN classifier to assign a label to our image of the Marsican bear.\n",
    "The idea is to select the image(s) which is (are) closer to the one of interest.\n",
    "For instance, the simple elementwise difference between images can be calculated as:"
   ]
  },
  {
   "cell_type": "code",
   "execution_count": null,
   "metadata": {},
   "outputs": [],
   "source": [
    "X_ursus[0,:,:,0] - X_train[0,:,:,0]"
   ]
  },
  {
   "cell_type": "markdown",
   "metadata": {},
   "source": [
    "***DIY (5)*** Implement a NN classifier using the L1 distance and predict the label for the Ursus image. A possible framework is given below but feel free to use your own creativity. (A possible solution is in the Solutions folder, learning.py file.)"
   ]
  },
  {
   "cell_type": "code",
   "execution_count": null,
   "metadata": {
    "scrolled": true
   },
   "outputs": [],
   "source": [
    "labels = [\"LC\", \"VU\", \"EN\", \"CR\"] # these are the 4 possible classes\n",
    "min_distance = 9999 # initialise a value for the distance\n",
    "for i in range(0, X_train.shape[0]):\n",
    "    distance = ...\n",
    "    if ...\n",
    "        ...\n",
    "        ..."
   ]
  },
  {
   "cell_type": "markdown",
   "metadata": {},
   "source": [
    "Now you can easily implement a NN classifer applied to the whole testing set. What's the achieved accuracy? You can do it yourself, but the idea is that you have to execute the above operation for each sample from the testing set."
   ]
  },
  {
   "cell_type": "markdown",
   "metadata": {},
   "source": [
    "## TensorFlow\n",
    "\n",
    "We will be using TensorFlow to build and train our deep neural network. In particular, we will use Keras which is TensorFlow's high-level API.\n",
    "Keras is used for fast prototyping and production since it is\n",
    "* User friendly: a simple, consistent interface optimized for common use cases.\n",
    "* Modular and composable: models are made by connecting building blocks together.\n",
    "* Easy to extend: you can write custom building blocks, new layers, loss functions, etc. etc.\n",
    "\n",
    "`tf.keras` is the implementation of [Keras API specification](https://keras.io/). `tf.keras` can run any Keras-compatible code."
   ]
  },
  {
   "cell_type": "code",
   "execution_count": null,
   "metadata": {},
   "outputs": [],
   "source": [
    "import tensorflow as tf"
   ]
  },
  {
   "cell_type": "markdown",
   "metadata": {},
   "source": [
    "### Sequential model\n",
    "\n",
    "Let's build a simple model. In Keras, you assemble layers to build models. A model is a graph of layers. The most common type of model is a stack of layers: the `tf.keras.Sequential` model.\n",
    "For instance, we can build a simple, fully-connected network with the following code."
   ]
  },
  {
   "cell_type": "code",
   "execution_count": null,
   "metadata": {},
   "outputs": [],
   "source": [
    "model = tf.keras.Sequential()\n",
    "# Adds a densely-connected layer with 16 units to the model:\n",
    "model.add(tf.keras.layers.Dense(16, activation='relu'))\n",
    "# Add another:\n",
    "model.add(tf.keras.layers.Dense(16, activation='relu'))\n",
    "# Add a softmax layer with 10 output units:\n",
    "model.add(tf.keras.layers.Dense(5, activation='softmax'))"
   ]
  },
  {
   "cell_type": "markdown",
   "metadata": {},
   "source": [
    "### Configure the layers\n",
    "\n",
    "There are several `tf.keras.layers` available with some common constructor parameters:\n",
    "* activation: set the activation function for the layer, specified by the name of a built-in function or as a callable object.\n",
    "* kernel_initializer and bias_initializer: the initialization schemes that create the layer's weights (kernel and bias).\n",
    "* kernel_regularizer and bias_regularizer: the regularization schemes that apply the layer's weights (kernel and bias).\n",
    "The following examples show how to create instances of `tf.keras.layers.Dense` layers using constructor arguments."
   ]
  },
  {
   "cell_type": "code",
   "execution_count": null,
   "metadata": {},
   "outputs": [],
   "source": [
    "# Create a sigmoid layer:\n",
    "tf.keras.layers.Dense(16, activation='sigmoid')\n",
    "# Or:\n",
    "tf.keras.layers.Dense(16, activation=tf.sigmoid)\n",
    "\n",
    "# A linear layer with L1 regularization of factor 0.01 applied to the kernel matrix:\n",
    "tf.keras.layers.Dense(16, kernel_regularizer=tf.keras.regularizers.l1(0.01))\n",
    "\n",
    "# A linear layer with L2 regularization of factor 0.01 applied to the bias vector:\n",
    "tf.keras.layers.Dense(16, bias_regularizer=tf.keras.regularizers.l2(0.01))\n",
    "\n",
    "# A linear layer with a kernel initialized to a random orthogonal matrix:\n",
    "tf.keras.layers.Dense(16, kernel_initializer='orthogonal')\n",
    "\n",
    "# A linear layer with a bias vector initialized to 2.0s:\n",
    "tf.keras.layers.Dense(16, bias_initializer=tf.keras.initializers.constant(2.0))"
   ]
  },
  {
   "cell_type": "markdown",
   "metadata": {},
   "source": [
    "### Training\n",
    "\n",
    "After the model is constructed, we can configure its learning process by calling the `compile` method."
   ]
  },
  {
   "cell_type": "code",
   "execution_count": null,
   "metadata": {},
   "outputs": [],
   "source": [
    "model = tf.keras.Sequential([\n",
    "                            # Adds a densely-connected layer with 16 units to the model: \n",
    "                            tf.keras.layers.Dense(16, activation='relu'),\n",
    "                            # Add another:\n",
    "                            tf.keras.layers.Dense(16, activation='relu'),\n",
    "                            # Add a softmax layer with 5 output units:\n",
    "                            tf.keras.layers.Dense(5, activation='softmax')])\n",
    "\n",
    "model.compile(optimizer=tf.train.AdamOptimizer(0.001),\n",
    "              loss='categorical_crossentropy',\n",
    "              metrics=['accuracy'])"
   ]
  },
  {
   "cell_type": "markdown",
   "metadata": {},
   "source": [
    "`tf.keras.Model.compile` takes three main arguments:\n",
    "* optimizer: it specifies the training procedure, such as `tf.train.AdamOptimizer`, `tf.train.RMSPropOptimizer`, or `tf.train.GradientDescentOptimizer`.\n",
    "* loss: function to minimize during optimization, such as mean square error (mse), categorical_crossentropy, and binary_crossentropy, specified by name or by passing a callable object from the `tf.keras.losses` module.\n",
    "* metrics: to monitor training; string names or callables from the `tf.keras.metrics` module.\n",
    "\n",
    "Let's make a quick example using `numpy` to train and evaluate our model using the `fit` method."
   ]
  },
  {
   "cell_type": "code",
   "execution_count": null,
   "metadata": {},
   "outputs": [],
   "source": [
    "data = np.random.random((1000, 32))\n",
    "labels = np.random.random((1000, 5))\n",
    "\n",
    "model.fit(data, labels, epochs=10, batch_size=32)"
   ]
  },
  {
   "cell_type": "markdown",
   "metadata": {},
   "source": [
    "`tf.keras.Model.fit` takes three main arguments:\n",
    "* epochs: training is structured into epochs, iterations over the entire input data.\n",
    "* batch_size: the model slices the data into smaller batches and iterates over these batches during training.\n",
    "* validation_data: tuple of inputs and labels for validation.\n",
    "\n",
    "When prototyping a model, you want to easily monitor its performance on some validation data. Passing the validation_data argument allows the model to display the loss and metrics in inference mode for the passed data, at the end of each epoch. Here's an example using validation_data."
   ]
  },
  {
   "cell_type": "code",
   "execution_count": null,
   "metadata": {},
   "outputs": [],
   "source": [
    "data = np.random.random((1000, 32))\n",
    "labels = np.random.random((1000, 5))\n",
    "\n",
    "val_data = np.random.random((100, 32))\n",
    "val_labels = np.random.random((100, 5))\n",
    "\n",
    "model.fit(data, labels, epochs=10, batch_size=32,\n",
    "          validation_data=(val_data, val_labels))"
   ]
  },
  {
   "cell_type": "markdown",
   "metadata": {},
   "source": [
    "For large datasets or multi-device training you can use the [Datasets API](https://www.tensorflow.org/guide/datasets).\n",
    "\n",
    "### Evaluate and predict\n",
    "\n",
    "The `tf.keras.Model.evaluate` and `tf.keras.Model.predict` methods can use NumPy data and a `tf.data.Dataset` to evaluate the inference-mode loss and metrics."
   ]
  },
  {
   "cell_type": "code",
   "execution_count": null,
   "metadata": {},
   "outputs": [],
   "source": [
    "data = np.random.random((1000, 32))\n",
    "labels = np.random.random((1000, 5))\n",
    "\n",
    "model.evaluate(data, labels, batch_size=32)"
   ]
  },
  {
   "cell_type": "markdown",
   "metadata": {},
   "source": [
    "We can predict the output for the data provided."
   ]
  },
  {
   "cell_type": "code",
   "execution_count": null,
   "metadata": {},
   "outputs": [],
   "source": [
    "result = model.predict(data, batch_size=32)\n",
    "print(result.shape)"
   ]
  },
  {
   "cell_type": "markdown",
   "metadata": {},
   "source": [
    "You can read the full [documentation](https://www.tensorflow.org/guide/keras) for building custom models and more advanced models. \n",
    "You may also want to check out [TensorBoard](https://www.tensorflow.org/guide/summaries_and_tensorboard) and [Low Level](https://www.tensorflow.org/guide/low_level_intro) information which is helpful for debugging.\n",
    "A series of [tutorials](https://www.tensorflow.org/tutorials/) is also available."
   ]
  },
  {
   "cell_type": "markdown",
   "metadata": {},
   "source": [
    "## DNN for predicting conservation status\n",
    "\n",
    "Let's build our CNN. First thing, we need to define the architecture.\n",
    "To do that, we need to import some modules from `keras`.\n",
    "Instead of using `tensorflow`, we can use the high-levekl API `keras` with a tensforlow backend."
   ]
  },
  {
   "cell_type": "code",
   "execution_count": 16,
   "metadata": {},
   "outputs": [],
   "source": [
    "import numpy as np\n",
    "import matplotlib.pyplot as plt\n",
    "import keras\n",
    "import tensorflow as tf\n",
    "\n",
    "X_train = np.load(\"Data/X_train.npy\")\n",
    "y_train = np.load(\"Data/y_train.npy\")\n",
    "\n",
    "X_test = np.load(\"Data/X_test.npy\")\n",
    "y_test = np.load(\"Data/y_test.npy\")\n",
    "\n",
    "X_ursus = np.load(\"Data/X_ursus.npy\")"
   ]
  },
  {
   "cell_type": "markdown",
   "metadata": {},
   "source": [
    "### Architecture\n",
    "\n",
    "Building the neural network requires configuring the layers of the model, then compiling the model.\n",
    "The sequential model type from `keras` is simply a linear stack of neural network layers.\n",
    "Each layer will be added (or stacked) to the initial model."
   ]
  },
  {
   "cell_type": "code",
   "execution_count": 17,
   "metadata": {},
   "outputs": [],
   "source": [
    "model = keras.Sequential()"
   ]
  },
  {
   "cell_type": "markdown",
   "metadata": {},
   "source": [
    "The model needs also to know what input shape it should expect. The first layer (but only the first) needs to receive such information.\n",
    "Let's add a convolutional layer. We can read how to do it from [here](https://keras.io/layers/convolutional/#conv2d).\n",
    "Also note that we can add activation and padding layers directly into this convolutional layer."
   ]
  },
  {
   "cell_type": "code",
   "execution_count": 18,
   "metadata": {},
   "outputs": [],
   "source": [
    "model.add(keras.layers.Conv2D(filters=16, kernel_size=(3,3), strides=(1,1), activation=\"relu\", padding=\"same\", input_shape=(64, 64, 1)))"
   ]
  },
  {
   "cell_type": "markdown",
   "metadata": {},
   "source": [
    "After a convolutional layer it is often used a max-pooling layer. Read its definition [here](https://keras.io/layers/pooling/#maxpooling2d)."
   ]
  },
  {
   "cell_type": "code",
   "execution_count": 19,
   "metadata": {},
   "outputs": [],
   "source": [
    "model.add(keras.layers.MaxPooling2D(pool_size=(2,2)))"
   ]
  },
  {
   "cell_type": "markdown",
   "metadata": {},
   "source": [
    "To prevent overfitting, one trick is to use a [Dropout](https://keras.io/layers/core/#dropout) layer."
   ]
  },
  {
   "cell_type": "code",
   "execution_count": 20,
   "metadata": {},
   "outputs": [],
   "source": [
    "model.add(keras.layers.Dropout(rate=0.5))"
   ]
  },
  {
   "cell_type": "markdown",
   "metadata": {},
   "source": [
    "You can add several cycles of Conv-MaxPool-Dropout.\n",
    "If you then want to move towards the final fully connected neural network, you need to first flatten the network."
   ]
  },
  {
   "cell_type": "code",
   "execution_count": 21,
   "metadata": {},
   "outputs": [],
   "source": [
    "model.add(keras.layers.Flatten())"
   ]
  },
  {
   "cell_type": "markdown",
   "metadata": {},
   "source": [
    "Finally we can add a fully connected network with a relu activation using a [Dense](https://keras.io/layers/core/#dense) layer, another dropout layer, and then the output layer with a softmax activation."
   ]
  },
  {
   "cell_type": "code",
   "execution_count": 22,
   "metadata": {},
   "outputs": [],
   "source": [
    "model.add(keras.layers.Dense(units=32, activation=\"relu\"))\n",
    "# we need 4 units at the output since we have 4 classes\n",
    "model.add(keras.layers.Dense(units=4, activation=\"softmax\"))"
   ]
  },
  {
   "cell_type": "markdown",
   "metadata": {},
   "source": [
    "We can even print a summary of our architecture with the specification of the learnable parameters."
   ]
  },
  {
   "cell_type": "code",
   "execution_count": 23,
   "metadata": {},
   "outputs": [
    {
     "name": "stdout",
     "output_type": "stream",
     "text": [
      "_________________________________________________________________\n",
      "Layer (type)                 Output Shape              Param #   \n",
      "=================================================================\n",
      "conv2d_2 (Conv2D)            (None, 64, 64, 16)        160       \n",
      "_________________________________________________________________\n",
      "max_pooling2d_2 (MaxPooling2 (None, 32, 32, 16)        0         \n",
      "_________________________________________________________________\n",
      "dropout_2 (Dropout)          (None, 32, 32, 16)        0         \n",
      "_________________________________________________________________\n",
      "flatten_2 (Flatten)          (None, 16384)             0         \n",
      "_________________________________________________________________\n",
      "dense_3 (Dense)              (None, 32)                524320    \n",
      "_________________________________________________________________\n",
      "dense_4 (Dense)              (None, 4)                 132       \n",
      "=================================================================\n",
      "Total params: 524,612\n",
      "Trainable params: 524,612\n",
      "Non-trainable params: 0\n",
      "_________________________________________________________________\n"
     ]
    }
   ],
   "source": [
    "model.summary()"
   ]
  },
  {
   "cell_type": "markdown",
   "metadata": {},
   "source": [
    "### Compiling\n",
    "\n",
    "We need to \"compile\" the network and prepare it for the training. We do it by specifying the [loss function](https://keras.io/losses/) and [optimisation](https://keras.io/optimizers/) to use."
   ]
  },
  {
   "cell_type": "code",
   "execution_count": 25,
   "metadata": {},
   "outputs": [],
   "source": [
    "model.compile(optimizer=tf.train.AdamOptimizer(0.001),\n",
    "              loss='categorical_crossentropy',\n",
    "              metrics=['accuracy'])"
   ]
  },
  {
   "cell_type": "markdown",
   "metadata": {},
   "source": [
    "### Training\n",
    "\n",
    "Let's train our network. We pass the training data set and the network will optimise its parameters to minimise the loss function.\n",
    "We can allocate a portion of the training data as validation data. You can read more [here](https://keras.io/models/sequential/)."
   ]
  },
  {
   "cell_type": "code",
   "execution_count": 26,
   "metadata": {},
   "outputs": [
    {
     "name": "stdout",
     "output_type": "stream",
     "text": [
      "Train on 960 samples, validate on 240 samples\n",
      "Epoch 1/10\n",
      "960/960 [==============================] - 1s 858us/step - loss: 1.4510 - acc: 0.3219 - val_loss: 1.2742 - val_acc: 0.4833\n",
      "Epoch 2/10\n",
      "960/960 [==============================] - 0s 507us/step - loss: 1.1317 - acc: 0.5708 - val_loss: 1.0486 - val_acc: 0.6625\n",
      "Epoch 3/10\n",
      "960/960 [==============================] - 0s 512us/step - loss: 0.8701 - acc: 0.7448 - val_loss: 0.8598 - val_acc: 0.6750\n",
      "Epoch 4/10\n",
      "960/960 [==============================] - 0s 507us/step - loss: 0.6433 - acc: 0.8281 - val_loss: 0.7386 - val_acc: 0.6917\n",
      "Epoch 5/10\n",
      "960/960 [==============================] - 0s 510us/step - loss: 0.5189 - acc: 0.8510 - val_loss: 0.7071 - val_acc: 0.7375\n",
      "Epoch 6/10\n",
      "960/960 [==============================] - 0s 516us/step - loss: 0.4436 - acc: 0.8844 - val_loss: 0.5961 - val_acc: 0.7792\n",
      "Epoch 7/10\n",
      "960/960 [==============================] - 0s 518us/step - loss: 0.3714 - acc: 0.9240 - val_loss: 0.5457 - val_acc: 0.7917\n",
      "Epoch 8/10\n",
      "960/960 [==============================] - 0s 516us/step - loss: 0.3217 - acc: 0.9260 - val_loss: 0.5973 - val_acc: 0.7625\n",
      "Epoch 9/10\n",
      "960/960 [==============================] - 1s 529us/step - loss: 0.2730 - acc: 0.9469 - val_loss: 0.5566 - val_acc: 0.7667\n",
      "Epoch 10/10\n",
      "960/960 [==============================] - 1s 526us/step - loss: 0.2350 - acc: 0.9594 - val_loss: 0.5092 - val_acc: 0.7667\n"
     ]
    }
   ],
   "source": [
    "hist = model.fit(X_train, y_train, batch_size=32, epochs=10, validation_split=0.20)"
   ]
  },
  {
   "cell_type": "markdown",
   "metadata": {},
   "source": [
    "The validation accuracy is used to tune the hyper-parameters (e.g. learning rate, dropout rate).\n",
    "It's convenient to plot the decay of loss and increase of accuracy for both the training and validation set."
   ]
  },
  {
   "cell_type": "code",
   "execution_count": 27,
   "metadata": {},
   "outputs": [
    {
     "data": {
      "image/png": "[encoded data removed]",
      "text/plain": [
       "<Figure size 560x400 with 1 Axes>"
      ]
     },
     "metadata": {},
     "output_type": "display_data"
    },
    {
     "data": {
      "image/png": "[encoded data removed]",
      "text/plain": [
       "<Figure size 560x400 with 1 Axes>"
      ]
     },
     "metadata": {},
     "output_type": "display_data"
    }
   ],
   "source": [
    "from matplotlib import rcParams\n",
    "\n",
    "train_loss = hist.history['loss']\n",
    "val_loss = hist.history['val_loss']\n",
    "train_acc = hist.history['acc']\n",
    "val_acc = hist.history['val_acc']\n",
    "\n",
    "xc = range(10)\n",
    "x_axis = np.zeros(len(xc))\n",
    "for x,i in enumerate (xc):\n",
    "    x_axis[i] = x + 1\n",
    "\n",
    "rcParams['axes.titlepad'] = 20 \n",
    "plt.figure(1,figsize=(7,5),facecolor='white')\n",
    "plt.plot(x_axis,train_loss)\n",
    "plt.plot(x_axis,val_loss)\n",
    "plt.xlabel('Epoch', fontsize=12)\n",
    "plt.ylabel('Loss', fontsize=12)\n",
    "plt.title('Training loss and validation loss',fontsize=12)\n",
    "plt.grid(True)\n",
    "plt.legend(['Training loss','Validation loss'],fontsize=12)\n",
    "plt.style.use(['classic'])\n",
    "\n",
    "plt.figure(2,figsize=(7,5),facecolor='white')\n",
    "plt.plot(x_axis,train_acc)\n",
    "plt.plot(x_axis,val_acc)\n",
    "plt.xlabel('Epoch',fontsize=12)\n",
    "plt.ylabel('Accuracy',fontsize=12) \n",
    "plt.title('Training accuracy and validation accuracy',fontsize=12)\n",
    "plt.grid(True)\n",
    "plt.legend(['Training accuracy','Validation accuracy'],fontsize=12,loc=4)\n",
    "plt.style.use(['classic'])"
   ]
  },
  {
   "cell_type": "markdown",
   "metadata": {},
   "source": [
    "### Evaluation\n",
    "\n",
    "Now we need to test our network. In other words we evaluate it using the testing data set."
   ]
  },
  {
   "cell_type": "code",
   "execution_count": 28,
   "metadata": {},
   "outputs": [
    {
     "name": "stdout",
     "output_type": "stream",
     "text": [
      "400/400 [==============================] - 0s 167us/step\n",
      "[0.4578259766101837, 0.805]\n"
     ]
    }
   ],
   "source": [
    "score = model.evaluate(X_test, y_test)\n",
    "print(score) # will return the test loss and test accuracy"
   ]
  },
  {
   "cell_type": "markdown",
   "metadata": {},
   "source": [
    "We can even plot a confusion matrix."
   ]
  },
  {
   "cell_type": "code",
   "execution_count": 29,
   "metadata": {},
   "outputs": [
    {
     "name": "stdout",
     "output_type": "stream",
     "text": [
      "400/400 [==============================] - 0s 283us/step\n"
     ]
    },
    {
     "data": {
      "text/plain": [
       "Text(0.5, 25.374999999999986, 'Predicted label')"
      ]
     },
     "execution_count": 29,
     "metadata": {},
     "output_type": "execute_result"
    },
    {
     "data": {
      "image/png": "[encoded data removed]",
      "text/plain": [
       "<Figure size 640x480 with 2 Axes>"
      ]
     },
     "metadata": {},
     "output_type": "display_data"
    }
   ],
   "source": [
    "from sklearn.metrics import confusion_matrix\n",
    "# if you don't have sklearn install it with: conda install scikit-learn\n",
    "\n",
    "Y_pred = model.predict(X_test, batch_size=None, verbose=1)\n",
    "y_pred = np.argmax(Y_pred, axis=1)\n",
    "\n",
    "classes = [\"LC\", \"VU\", \"EN\", \"CR\"] # these are the 4 possible classes\n",
    "\n",
    "cm = confusion_matrix(np.argmax(y_test,axis=1), y_pred)\n",
    "np.set_printoptions(precision=2)\n",
    "fig = plt.figure(facecolor='white')\n",
    "title = 'Normalized confusion matrix'\n",
    "cmap = plt.cm.Blues\n",
    "cm = cm.astype('float') / cm.sum(axis=1)[:, np.newaxis]\n",
    "plt.imshow(cm, interpolation='nearest', cmap=cmap)\n",
    "plt.title(title)\n",
    "plt.colorbar()\n",
    "#plt.colorbar(shrink=0.7) # alternative\n",
    "tick_marks = np.arange(len(classes))\n",
    "plt.xticks(tick_marks, classes, rotation=90, fontsize=8)\n",
    "#plt.xticks(tick_marks, rotation=45, fontsize=6) # alternative\n",
    "plt.yticks(tick_marks, classes, fontsize=8)\n",
    "plt.tight_layout()\n",
    "plt.ylabel('True label')\n",
    "plt.xlabel('Predicted label')"
   ]
  },
  {
   "cell_type": "markdown",
   "metadata": {},
   "source": [
    "### Prediction\n",
    "\n",
    "Finally we used the final optimised network to predict the label for unknown entries.\n",
    "More info [here](https://keras.io/models/sequential/).\n"
   ]
  },
  {
   "cell_type": "code",
   "execution_count": 30,
   "metadata": {},
   "outputs": [
    {
     "name": "stdout",
     "output_type": "stream",
     "text": [
      "[[3.44e-05 8.72e-03 5.63e-01 4.28e-01]]\n"
     ]
    }
   ],
   "source": [
    "y_ursus = model.predict(X_ursus)\n",
    "print(y_ursus)"
   ]
  },
  {
   "cell_type": "markdown",
   "metadata": {},
   "source": [
    "The nice thing is that these are proper posterior probabilities. Therefore we can even calculate Bayes factors and do model testing. Imagine that we want to test whether this species is not threatened (so not \"least concern\"). We can calculate this Baye factor as follows:"
   ]
  },
  {
   "cell_type": "code",
   "execution_count": 31,
   "metadata": {},
   "outputs": [
    {
     "data": {
      "text/plain": [
       "155033.13120789762"
      ]
     },
     "execution_count": 31,
     "metadata": {},
     "output_type": "execute_result"
    }
   ],
   "source": [
    "(1 - y_ursus[0,0])/(3/4) / (y_ursus[0,0])/(1/4)"
   ]
  },
  {
   "cell_type": "markdown",
   "metadata": {},
   "source": [
    "## BYON (Build Your Own Network)\n",
    "\n",
    "Can you do better than this network? Can you build a network which leads to a higher testing accuracy than this one?\n",
    "Try to build your own architecture and compiler.\n",
    "Some tips:\n",
    "- you can use multiple cycles of Conv+MaxPool+Dropout layers\n",
    "- you can play with the dropout rates to prevent overfitting\n",
    "- you can tune the learning rate\n",
    "- you can add more/less units (or neurons) in the dense layers\n",
    "- you can add more/less filters or change their size (but be careful with it!)\n",
    "- try a leakyReLu or other activation functions\n",
    "- change how you initialise the weights\n",
    "- ...\n",
    "\n",
    "Be aware that the accuracy won't improve by default if you make the network deeper: you have more parameters to optimise with the same data set!\n",
    "\n",
    "Ideally, you may want to try different configurations and retain the one with the highest validation accuracy. Then this network will be passed to the testing set. For instance, assume that you have one hyper-parameter and you want to estimate it. How would you build such pipeline?\n",
    "\n",
    "The best way of learning is by doing. Read the keras manual https://keras.io/ to learn how to implement your ideas.\n",
    "Pick a partner or more and start a team.\n",
    "\n",
    "It's a competition.\n",
    "\n",
    "Good luck!\n"
   ]
  },
  {
   "cell_type": "code",
   "execution_count": null,
   "metadata": {},
   "outputs": [],
   "source": [
    "# ..."
   ]
  }
 ],
 "metadata": {
  "kernelspec": {
   "display_name": "Python 3",
   "language": "python",
   "name": "python3"
  },
  "language_info": {
   "codemirror_mode": {
    "name": "ipython",
    "version": 3
   },
   "file_extension": ".py",
   "mimetype": "text/x-python",
   "name": "python",
   "nbconvert_exporter": "python",
   "pygments_lexer": "ipython3",
   "version": "3.6.8"
  }
 },
 "nbformat": 4,
 "nbformat_minor": 2
}
